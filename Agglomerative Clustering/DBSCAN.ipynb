{
 "cells": [
  {
   "cell_type": "markdown",
   "metadata": {},
   "source": [
    "## DBSCAN"
   ]
  },
  {
   "cell_type": "code",
   "execution_count": 18,
   "metadata": {
    "ExecuteTime": {
     "end_time": "2020-09-16T07:37:57.707366Z",
     "start_time": "2020-09-16T07:37:53.481955Z"
    }
   },
   "outputs": [
    {
     "name": "stderr",
     "output_type": "stream",
     "text": [
      "/home/afroz/.local/lib/python3.6/site-packages/sklearn/preprocessing/data.py:645: DataConversionWarning: Data with input dtype int64, float64 were all converted to float64 by StandardScaler.\n",
      "  return self.partial_fit(X, y)\n",
      "/home/afroz/.local/lib/python3.6/site-packages/sklearn/base.py:464: DataConversionWarning: Data with input dtype int64, float64 were all converted to float64 by StandardScaler.\n",
      "  return self.fit(X, **fit_params).transform(X)\n"
     ]
    }
   ],
   "source": [
    "import numpy as np\n",
    "import pandas as pd\n",
    "from sklearn.cluster import DBSCAN\n",
    "import matplotlib.pyplot as plt\n",
    "from sklearn.preprocessing import StandardScaler, normalize \n",
    "from sklearn.decomposition import PCA \n",
    "\n",
    "# From sklearn.metrics import silhouette_score \n",
    "X = pd.read_csv('credit.csv')\n",
    "\n",
    "# Dropping the CUST_ID column from the data \n",
    "\n",
    "X = X.drop('CUST_ID', axis = 1)\n",
    "\n",
    "# Handling hte missing values \n",
    "X.fillna(method = 'ffill', inplace = True)\n",
    "\n",
    "# Scaling the data so that all the features become comparable \n",
    "scaler = StandardScaler() \n",
    "X_scaled = scaler.fit_transform(X)\n",
    "\n",
    "# Normalizing the data so that the data approximately \n",
    "# follows a Gaussian distribution \n",
    "X_normalized = normalize(X_scaled)\n",
    "\n",
    "# Converting the numpy array into a pandas Dataframe \n",
    "X_normalized = pd.DataFrame(X_normalized)\n",
    "pca = PCA(n_components = 2)\n",
    "X_principal = pca.fit_transform(X_normalized)\n",
    "X_principal = pd.DataFrame(X_principal)\n",
    "X_principal.columns = ['P1', 'P2']\n",
    "\n",
    "db = DBSCAN(eps = 0.6, min_samples = 3)\n",
    "\n",
    "# esp: \n",
    "# epsfloat, default = 0.5 \n",
    "# The maximum distance between two samples for one to be considered as in the neighborhood of the other. \n",
    "\n",
    "# The number of samplse (or total weight) in a neighborhood for a point to be considered \n",
    "db.fit(X_normalized)\n",
    "\n",
    "# db.fit(X_principal)\n",
    "labels = db.labels_"
   ]
  },
  {
   "cell_type": "code",
   "execution_count": 19,
   "metadata": {
    "ExecuteTime": {
     "end_time": "2020-09-16T07:37:57.721290Z",
     "start_time": "2020-09-16T07:37:57.710071Z"
    }
   },
   "outputs": [
    {
     "data": {
      "text/plain": [
       "array([0, 0, 0, ..., 0, 0, 0])"
      ]
     },
     "execution_count": 19,
     "metadata": {},
     "output_type": "execute_result"
    }
   ],
   "source": [
    "labels[:]"
   ]
  },
  {
   "cell_type": "code",
   "execution_count": 20,
   "metadata": {
    "ExecuteTime": {
     "end_time": "2020-09-16T07:37:58.135673Z",
     "start_time": "2020-09-16T07:37:57.731218Z"
    },
    "scrolled": true
   },
   "outputs": [
    {
     "data": {
      "text/plain": [
       "{-1, 0}"
      ]
     },
     "execution_count": 20,
     "metadata": {},
     "output_type": "execute_result"
    }
   ],
   "source": [
    "set(labels)"
   ]
  }
 ],
 "metadata": {
  "kernelspec": {
   "display_name": "Python 3.6.9 64-bit",
   "language": "python",
   "name": "python36964bit7a322f51a2a84a018a4a07077b0b4880"
  },
  "language_info": {
   "codemirror_mode": {
    "name": "ipython",
    "version": 3
   },
   "file_extension": ".py",
   "mimetype": "text/x-python",
   "name": "python",
   "nbconvert_exporter": "python",
   "pygments_lexer": "ipython3",
   "version": "3.6.9"
  },
  "toc": {
   "base_numbering": 1,
   "nav_menu": {
    "height": "30px",
    "width": "160px"
   },
   "number_sections": false,
   "sideBar": true,
   "skip_h1_title": false,
   "title_cell": "Table of Contents",
   "title_sidebar": "Contents",
   "toc_cell": false,
   "toc_position": {
    "height": "calc(100% - 180px)",
    "left": "10px",
    "top": "150px",
    "width": "165px"
   },
   "toc_section_display": true,
   "toc_window_display": true
  }
 },
 "nbformat": 4,
 "nbformat_minor": 4
}
