{
  "cells": [
    {
      "metadata": {},
      "cell_type": "markdown",
      "source": "## Pandas and Numpy functions"
    },
    {
      "metadata": {
        "trusted": true
      },
      "cell_type": "code",
      "source": "import numpy as np\nimport pandas as pd",
      "execution_count": 2,
      "outputs": []
    },
    {
      "metadata": {
        "trusted": true
      },
      "cell_type": "code",
      "source": "df = pd.read_csv(\"Emp.csv\")",
      "execution_count": 3,
      "outputs": []
    },
    {
      "metadata": {
        "trusted": true
      },
      "cell_type": "code",
      "source": "df",
      "execution_count": 4,
      "outputs": [
        {
          "output_type": "execute_result",
          "execution_count": 4,
          "data": {
            "text/html": "<div>\n<style scoped>\n    .dataframe tbody tr th:only-of-type {\n        vertical-align: middle;\n    }\n\n    .dataframe tbody tr th {\n        vertical-align: top;\n    }\n\n    .dataframe thead th {\n        text-align: right;\n    }\n</style>\n<table border=\"1\" class=\"dataframe\">\n  <thead>\n    <tr style=\"text-align: right;\">\n      <th></th>\n      <th>empno</th>\n      <th>ename</th>\n      <th>job</th>\n      <th>DOJ</th>\n      <th>DOB</th>\n      <th>deptid</th>\n      <th>salary</th>\n    </tr>\n  </thead>\n  <tbody>\n    <tr>\n      <th>0</th>\n      <td>1</td>\n      <td>Anil</td>\n      <td>Clerk</td>\n      <td>NaN</td>\n      <td>NaN</td>\n      <td>NaN</td>\n      <td>NaN</td>\n    </tr>\n    <tr>\n      <th>1</th>\n      <td>2</td>\n      <td>Balkrushna</td>\n      <td>NaN</td>\n      <td>15-Jul-17</td>\n      <td>16-Mar-12</td>\n      <td>10.0</td>\n      <td>10000.0</td>\n    </tr>\n    <tr>\n      <th>2</th>\n      <td>3</td>\n      <td>Mathew</td>\n      <td>Manager</td>\n      <td>16-Mar-12</td>\n      <td>16-Mar-92</td>\n      <td>20.0</td>\n      <td>50000.0</td>\n    </tr>\n    <tr>\n      <th>3</th>\n      <td>4</td>\n      <td>Suhas</td>\n      <td>Manager</td>\n      <td>16-Mar-12</td>\n      <td>17-Mar-91</td>\n      <td>20.0</td>\n      <td>NaN</td>\n    </tr>\n    <tr>\n      <th>4</th>\n      <td>5</td>\n      <td>Vimal</td>\n      <td>Accountant</td>\n      <td>18-Mar-17</td>\n      <td>18-Mar-91</td>\n      <td>20.0</td>\n      <td>45000.0</td>\n    </tr>\n    <tr>\n      <th>5</th>\n      <td>6</td>\n      <td>Kamal</td>\n      <td>Accountant</td>\n      <td>19-Nov-13</td>\n      <td>18-Mar-91</td>\n      <td>20.0</td>\n      <td>45000.0</td>\n    </tr>\n    <tr>\n      <th>6</th>\n      <td>7</td>\n      <td>Nanda</td>\n      <td>Manager</td>\n      <td>20-Mar-12</td>\n      <td>20-Jan-97</td>\n      <td>20.0</td>\n      <td>52000.0</td>\n    </tr>\n    <tr>\n      <th>7</th>\n      <td>8</td>\n      <td>Khushi</td>\n      <td>Manager</td>\n      <td>21-Mar-12</td>\n      <td>21-Jun-94</td>\n      <td>20.0</td>\n      <td>56000.0</td>\n    </tr>\n    <tr>\n      <th>8</th>\n      <td>9</td>\n      <td>Sayee</td>\n      <td>Cleark</td>\n      <td>16-Mar-12</td>\n      <td>22-Aug-98</td>\n      <td>NaN</td>\n      <td>21000.0</td>\n    </tr>\n    <tr>\n      <th>9</th>\n      <td>10</td>\n      <td>Sakhi</td>\n      <td>Accountant</td>\n      <td>23-Mar-12</td>\n      <td>14-Mar-91</td>\n      <td>30.0</td>\n      <td>46000.0</td>\n    </tr>\n    <tr>\n      <th>10</th>\n      <td>11</td>\n      <td>Soniya</td>\n      <td>Accountant</td>\n      <td>24-Mar-14</td>\n      <td>24-Mar-91</td>\n      <td>30.0</td>\n      <td>47000.0</td>\n    </tr>\n  </tbody>\n</table>\n</div>",
            "text/plain": "    empno       ename         job        DOJ        DOB  deptid   salary\n0       1        Anil       Clerk        NaN        NaN     NaN      NaN\n1       2  Balkrushna         NaN  15-Jul-17  16-Mar-12    10.0  10000.0\n2       3      Mathew     Manager  16-Mar-12  16-Mar-92    20.0  50000.0\n3       4       Suhas     Manager  16-Mar-12  17-Mar-91    20.0      NaN\n4       5       Vimal  Accountant  18-Mar-17  18-Mar-91    20.0  45000.0\n5       6       Kamal  Accountant  19-Nov-13  18-Mar-91    20.0  45000.0\n6       7       Nanda     Manager  20-Mar-12  20-Jan-97    20.0  52000.0\n7       8      Khushi     Manager  21-Mar-12  21-Jun-94    20.0  56000.0\n8       9       Sayee      Cleark  16-Mar-12  22-Aug-98     NaN  21000.0\n9      10       Sakhi  Accountant  23-Mar-12  14-Mar-91    30.0  46000.0\n10     11      Soniya  Accountant  24-Mar-14  24-Mar-91    30.0  47000.0"
          },
          "metadata": {}
        }
      ]
    },
    {
      "metadata": {
        "trusted": true
      },
      "cell_type": "code",
      "source": "df.head(3)",
      "execution_count": 5,
      "outputs": [
        {
          "output_type": "execute_result",
          "execution_count": 5,
          "data": {
            "text/html": "<div>\n<style scoped>\n    .dataframe tbody tr th:only-of-type {\n        vertical-align: middle;\n    }\n\n    .dataframe tbody tr th {\n        vertical-align: top;\n    }\n\n    .dataframe thead th {\n        text-align: right;\n    }\n</style>\n<table border=\"1\" class=\"dataframe\">\n  <thead>\n    <tr style=\"text-align: right;\">\n      <th></th>\n      <th>empno</th>\n      <th>ename</th>\n      <th>job</th>\n      <th>DOJ</th>\n      <th>DOB</th>\n      <th>deptid</th>\n      <th>salary</th>\n    </tr>\n  </thead>\n  <tbody>\n    <tr>\n      <th>0</th>\n      <td>1</td>\n      <td>Anil</td>\n      <td>Clerk</td>\n      <td>NaN</td>\n      <td>NaN</td>\n      <td>NaN</td>\n      <td>NaN</td>\n    </tr>\n    <tr>\n      <th>1</th>\n      <td>2</td>\n      <td>Balkrushna</td>\n      <td>NaN</td>\n      <td>15-Jul-17</td>\n      <td>16-Mar-12</td>\n      <td>10.0</td>\n      <td>10000.0</td>\n    </tr>\n    <tr>\n      <th>2</th>\n      <td>3</td>\n      <td>Mathew</td>\n      <td>Manager</td>\n      <td>16-Mar-12</td>\n      <td>16-Mar-92</td>\n      <td>20.0</td>\n      <td>50000.0</td>\n    </tr>\n  </tbody>\n</table>\n</div>",
            "text/plain": "   empno       ename      job        DOJ        DOB  deptid   salary\n0      1        Anil    Clerk        NaN        NaN     NaN      NaN\n1      2  Balkrushna      NaN  15-Jul-17  16-Mar-12    10.0  10000.0\n2      3      Mathew  Manager  16-Mar-12  16-Mar-92    20.0  50000.0"
          },
          "metadata": {}
        }
      ]
    },
    {
      "metadata": {
        "trusted": true
      },
      "cell_type": "code",
      "source": "df.dtypes",
      "execution_count": 11,
      "outputs": [
        {
          "output_type": "execute_result",
          "execution_count": 11,
          "data": {
            "text/plain": "empno       int64\nename      object\njob        object\nDOJ        object\nDOB        object\ndeptid    float64\nsalary    float64\ndtype: object"
          },
          "metadata": {}
        }
      ]
    },
    {
      "metadata": {
        "trusted": true
      },
      "cell_type": "code",
      "source": "df['salary'].dtypes  # shows datatype of 'salary' columns",
      "execution_count": 15,
      "outputs": [
        {
          "output_type": "execute_result",
          "execution_count": 15,
          "data": {
            "text/plain": "dtype('float64')"
          },
          "metadata": {}
        }
      ]
    },
    {
      "metadata": {
        "trusted": true
      },
      "cell_type": "code",
      "source": "df.columns  # shows columns",
      "execution_count": 16,
      "outputs": [
        {
          "output_type": "execute_result",
          "execution_count": 16,
          "data": {
            "text/plain": "Index(['empno', 'ename', 'job', 'DOJ', 'DOB', 'deptid', 'salary'], dtype='object')"
          },
          "metadata": {}
        }
      ]
    },
    {
      "metadata": {
        "trusted": true
      },
      "cell_type": "code",
      "source": "df.describe()  # shows basic statics",
      "execution_count": 18,
      "outputs": [
        {
          "output_type": "execute_result",
          "execution_count": 18,
          "data": {
            "text/html": "<div>\n<style scoped>\n    .dataframe tbody tr th:only-of-type {\n        vertical-align: middle;\n    }\n\n    .dataframe tbody tr th {\n        vertical-align: top;\n    }\n\n    .dataframe thead th {\n        text-align: right;\n    }\n</style>\n<table border=\"1\" class=\"dataframe\">\n  <thead>\n    <tr style=\"text-align: right;\">\n      <th></th>\n      <th>empno</th>\n      <th>deptid</th>\n      <th>salary</th>\n    </tr>\n  </thead>\n  <tbody>\n    <tr>\n      <th>count</th>\n      <td>11.000000</td>\n      <td>9.000000</td>\n      <td>9.000000</td>\n    </tr>\n    <tr>\n      <th>mean</th>\n      <td>6.000000</td>\n      <td>21.111111</td>\n      <td>41333.333333</td>\n    </tr>\n    <tr>\n      <th>std</th>\n      <td>3.316625</td>\n      <td>6.009252</td>\n      <td>15329.709717</td>\n    </tr>\n    <tr>\n      <th>min</th>\n      <td>1.000000</td>\n      <td>10.000000</td>\n      <td>10000.000000</td>\n    </tr>\n    <tr>\n      <th>25%</th>\n      <td>3.500000</td>\n      <td>20.000000</td>\n      <td>45000.000000</td>\n    </tr>\n    <tr>\n      <th>50%</th>\n      <td>6.000000</td>\n      <td>20.000000</td>\n      <td>46000.000000</td>\n    </tr>\n    <tr>\n      <th>75%</th>\n      <td>8.500000</td>\n      <td>20.000000</td>\n      <td>50000.000000</td>\n    </tr>\n    <tr>\n      <th>max</th>\n      <td>11.000000</td>\n      <td>30.000000</td>\n      <td>56000.000000</td>\n    </tr>\n  </tbody>\n</table>\n</div>",
            "text/plain": "           empno     deptid        salary\ncount  11.000000   9.000000      9.000000\nmean    6.000000  21.111111  41333.333333\nstd     3.316625   6.009252  15329.709717\nmin     1.000000  10.000000  10000.000000\n25%     3.500000  20.000000  45000.000000\n50%     6.000000  20.000000  46000.000000\n75%     8.500000  20.000000  50000.000000\nmax    11.000000  30.000000  56000.000000"
          },
          "metadata": {}
        }
      ]
    },
    {
      "metadata": {
        "trusted": true
      },
      "cell_type": "code",
      "source": "df['salary'].max()",
      "execution_count": 19,
      "outputs": [
        {
          "output_type": "execute_result",
          "execution_count": 19,
          "data": {
            "text/plain": "56000.0"
          },
          "metadata": {}
        }
      ]
    },
    {
      "metadata": {
        "trusted": true
      },
      "cell_type": "code",
      "source": "df['salary'].min()",
      "execution_count": 21,
      "outputs": [
        {
          "output_type": "execute_result",
          "execution_count": 21,
          "data": {
            "text/plain": "10000.0"
          },
          "metadata": {}
        }
      ]
    },
    {
      "metadata": {
        "trusted": true
      },
      "cell_type": "code",
      "source": "df.dropna()",
      "execution_count": 25,
      "outputs": [
        {
          "output_type": "execute_result",
          "execution_count": 25,
          "data": {
            "text/html": "<div>\n<style scoped>\n    .dataframe tbody tr th:only-of-type {\n        vertical-align: middle;\n    }\n\n    .dataframe tbody tr th {\n        vertical-align: top;\n    }\n\n    .dataframe thead th {\n        text-align: right;\n    }\n</style>\n<table border=\"1\" class=\"dataframe\">\n  <thead>\n    <tr style=\"text-align: right;\">\n      <th></th>\n      <th>empno</th>\n      <th>ename</th>\n      <th>job</th>\n      <th>DOJ</th>\n      <th>DOB</th>\n      <th>deptid</th>\n      <th>salary</th>\n    </tr>\n  </thead>\n  <tbody>\n    <tr>\n      <th>2</th>\n      <td>3</td>\n      <td>Mathew</td>\n      <td>Manager</td>\n      <td>16-Mar-12</td>\n      <td>16-Mar-92</td>\n      <td>20.0</td>\n      <td>50000.0</td>\n    </tr>\n    <tr>\n      <th>4</th>\n      <td>5</td>\n      <td>Vimal</td>\n      <td>Accountant</td>\n      <td>18-Mar-17</td>\n      <td>18-Mar-91</td>\n      <td>20.0</td>\n      <td>45000.0</td>\n    </tr>\n    <tr>\n      <th>5</th>\n      <td>6</td>\n      <td>Kamal</td>\n      <td>Accountant</td>\n      <td>19-Nov-13</td>\n      <td>18-Mar-91</td>\n      <td>20.0</td>\n      <td>45000.0</td>\n    </tr>\n    <tr>\n      <th>6</th>\n      <td>7</td>\n      <td>Nanda</td>\n      <td>Manager</td>\n      <td>20-Mar-12</td>\n      <td>20-Jan-97</td>\n      <td>20.0</td>\n      <td>52000.0</td>\n    </tr>\n    <tr>\n      <th>7</th>\n      <td>8</td>\n      <td>Khushi</td>\n      <td>Manager</td>\n      <td>21-Mar-12</td>\n      <td>21-Jun-94</td>\n      <td>20.0</td>\n      <td>56000.0</td>\n    </tr>\n    <tr>\n      <th>9</th>\n      <td>10</td>\n      <td>Sakhi</td>\n      <td>Accountant</td>\n      <td>23-Mar-12</td>\n      <td>14-Mar-91</td>\n      <td>30.0</td>\n      <td>46000.0</td>\n    </tr>\n    <tr>\n      <th>10</th>\n      <td>11</td>\n      <td>Soniya</td>\n      <td>Accountant</td>\n      <td>24-Mar-14</td>\n      <td>24-Mar-91</td>\n      <td>30.0</td>\n      <td>47000.0</td>\n    </tr>\n  </tbody>\n</table>\n</div>",
            "text/plain": "    empno   ename         job        DOJ        DOB  deptid   salary\n2       3  Mathew     Manager  16-Mar-12  16-Mar-92    20.0  50000.0\n4       5   Vimal  Accountant  18-Mar-17  18-Mar-91    20.0  45000.0\n5       6   Kamal  Accountant  19-Nov-13  18-Mar-91    20.0  45000.0\n6       7   Nanda     Manager  20-Mar-12  20-Jan-97    20.0  52000.0\n7       8  Khushi     Manager  21-Mar-12  21-Jun-94    20.0  56000.0\n9      10   Sakhi  Accountant  23-Mar-12  14-Mar-91    30.0  46000.0\n10     11  Soniya  Accountant  24-Mar-14  24-Mar-91    30.0  47000.0"
          },
          "metadata": {}
        }
      ]
    },
    {
      "metadata": {
        "trusted": true
      },
      "cell_type": "code",
      "source": "df",
      "execution_count": 24,
      "outputs": [
        {
          "output_type": "execute_result",
          "execution_count": 24,
          "data": {
            "text/html": "<div>\n<style scoped>\n    .dataframe tbody tr th:only-of-type {\n        vertical-align: middle;\n    }\n\n    .dataframe tbody tr th {\n        vertical-align: top;\n    }\n\n    .dataframe thead th {\n        text-align: right;\n    }\n</style>\n<table border=\"1\" class=\"dataframe\">\n  <thead>\n    <tr style=\"text-align: right;\">\n      <th></th>\n      <th>empno</th>\n      <th>ename</th>\n      <th>job</th>\n      <th>DOJ</th>\n      <th>DOB</th>\n      <th>deptid</th>\n      <th>salary</th>\n    </tr>\n  </thead>\n  <tbody>\n    <tr>\n      <th>0</th>\n      <td>1</td>\n      <td>Anil</td>\n      <td>Clerk</td>\n      <td>NaN</td>\n      <td>NaN</td>\n      <td>NaN</td>\n      <td>NaN</td>\n    </tr>\n    <tr>\n      <th>1</th>\n      <td>2</td>\n      <td>Balkrushna</td>\n      <td>NaN</td>\n      <td>15-Jul-17</td>\n      <td>16-Mar-12</td>\n      <td>10.0</td>\n      <td>10000.0</td>\n    </tr>\n    <tr>\n      <th>2</th>\n      <td>3</td>\n      <td>Mathew</td>\n      <td>Manager</td>\n      <td>16-Mar-12</td>\n      <td>16-Mar-92</td>\n      <td>20.0</td>\n      <td>50000.0</td>\n    </tr>\n    <tr>\n      <th>3</th>\n      <td>4</td>\n      <td>Suhas</td>\n      <td>Manager</td>\n      <td>16-Mar-12</td>\n      <td>17-Mar-91</td>\n      <td>20.0</td>\n      <td>NaN</td>\n    </tr>\n    <tr>\n      <th>4</th>\n      <td>5</td>\n      <td>Vimal</td>\n      <td>Accountant</td>\n      <td>18-Mar-17</td>\n      <td>18-Mar-91</td>\n      <td>20.0</td>\n      <td>45000.0</td>\n    </tr>\n    <tr>\n      <th>5</th>\n      <td>6</td>\n      <td>Kamal</td>\n      <td>Accountant</td>\n      <td>19-Nov-13</td>\n      <td>18-Mar-91</td>\n      <td>20.0</td>\n      <td>45000.0</td>\n    </tr>\n    <tr>\n      <th>6</th>\n      <td>7</td>\n      <td>Nanda</td>\n      <td>Manager</td>\n      <td>20-Mar-12</td>\n      <td>20-Jan-97</td>\n      <td>20.0</td>\n      <td>52000.0</td>\n    </tr>\n    <tr>\n      <th>7</th>\n      <td>8</td>\n      <td>Khushi</td>\n      <td>Manager</td>\n      <td>21-Mar-12</td>\n      <td>21-Jun-94</td>\n      <td>20.0</td>\n      <td>56000.0</td>\n    </tr>\n    <tr>\n      <th>8</th>\n      <td>9</td>\n      <td>Sayee</td>\n      <td>Cleark</td>\n      <td>16-Mar-12</td>\n      <td>22-Aug-98</td>\n      <td>NaN</td>\n      <td>21000.0</td>\n    </tr>\n    <tr>\n      <th>9</th>\n      <td>10</td>\n      <td>Sakhi</td>\n      <td>Accountant</td>\n      <td>23-Mar-12</td>\n      <td>14-Mar-91</td>\n      <td>30.0</td>\n      <td>46000.0</td>\n    </tr>\n    <tr>\n      <th>10</th>\n      <td>11</td>\n      <td>Soniya</td>\n      <td>Accountant</td>\n      <td>24-Mar-14</td>\n      <td>24-Mar-91</td>\n      <td>30.0</td>\n      <td>47000.0</td>\n    </tr>\n  </tbody>\n</table>\n</div>",
            "text/plain": "    empno       ename         job        DOJ        DOB  deptid   salary\n0       1        Anil       Clerk        NaN        NaN     NaN      NaN\n1       2  Balkrushna         NaN  15-Jul-17  16-Mar-12    10.0  10000.0\n2       3      Mathew     Manager  16-Mar-12  16-Mar-92    20.0  50000.0\n3       4       Suhas     Manager  16-Mar-12  17-Mar-91    20.0      NaN\n4       5       Vimal  Accountant  18-Mar-17  18-Mar-91    20.0  45000.0\n5       6       Kamal  Accountant  19-Nov-13  18-Mar-91    20.0  45000.0\n6       7       Nanda     Manager  20-Mar-12  20-Jan-97    20.0  52000.0\n7       8      Khushi     Manager  21-Mar-12  21-Jun-94    20.0  56000.0\n8       9       Sayee      Cleark  16-Mar-12  22-Aug-98     NaN  21000.0\n9      10       Sakhi  Accountant  23-Mar-12  14-Mar-91    30.0  46000.0\n10     11      Soniya  Accountant  24-Mar-14  24-Mar-91    30.0  47000.0"
          },
          "metadata": {}
        }
      ]
    },
    {
      "metadata": {
        "trusted": true
      },
      "cell_type": "code",
      "source": "df.head(5).mean()",
      "execution_count": 27,
      "outputs": [
        {
          "output_type": "execute_result",
          "execution_count": 27,
          "data": {
            "text/plain": "empno         3.0\ndeptid       17.5\nsalary    35000.0\ndtype: float64"
          },
          "metadata": {}
        }
      ]
    },
    {
      "metadata": {
        "trusted": true
      },
      "cell_type": "code",
      "source": "df[:5].mean()",
      "execution_count": 29,
      "outputs": [
        {
          "output_type": "execute_result",
          "execution_count": 29,
          "data": {
            "text/plain": "empno         3.0\ndeptid       17.5\nsalary    35000.0\ndtype: float64"
          },
          "metadata": {}
        }
      ]
    },
    {
      "metadata": {
        "trusted": true
      },
      "cell_type": "code",
      "source": "# df['name'] - Subset the data frame using column name\n# df.name - Use the column name as an attribute",
      "execution_count": 30,
      "outputs": []
    },
    {
      "metadata": {
        "trusted": true
      },
      "cell_type": "code",
      "source": "type(df['salary'])",
      "execution_count": 34,
      "outputs": [
        {
          "output_type": "execute_result",
          "execution_count": 34,
          "data": {
            "text/plain": "pandas.core.series.Series"
          },
          "metadata": {}
        }
      ]
    },
    {
      "metadata": {
        "trusted": true
      },
      "cell_type": "code",
      "source": "type(df.salary)",
      "execution_count": 33,
      "outputs": [
        {
          "output_type": "execute_result",
          "execution_count": 33,
          "data": {
            "text/plain": "pandas.core.series.Series"
          },
          "metadata": {}
        }
      ]
    },
    {
      "metadata": {
        "trusted": true
      },
      "cell_type": "code",
      "source": "df['salary'].count()  # Count of 'Salary'",
      "execution_count": 37,
      "outputs": [
        {
          "output_type": "execute_result",
          "execution_count": 37,
          "data": {
            "text/plain": "9"
          },
          "metadata": {}
        }
      ]
    },
    {
      "metadata": {
        "trusted": true
      },
      "cell_type": "code",
      "source": "df['salary'].mean()  # Average Salary",
      "execution_count": 38,
      "outputs": [
        {
          "output_type": "execute_result",
          "execution_count": 38,
          "data": {
            "text/plain": "41333.333333333336"
          },
          "metadata": {}
        }
      ]
    },
    {
      "metadata": {
        "trusted": true
      },
      "cell_type": "code",
      "source": "df['salary'].describe()  # Basic stats of salary column",
      "execution_count": 40,
      "outputs": [
        {
          "output_type": "execute_result",
          "execution_count": 40,
          "data": {
            "text/plain": "count        9.000000\nmean     41333.333333\nstd      15329.709717\nmin      10000.000000\n25%      45000.000000\n50%      46000.000000\n75%      50000.000000\nmax      56000.000000\nName: salary, dtype: float64"
          },
          "metadata": {}
        }
      ]
    },
    {
      "metadata": {
        "trusted": true
      },
      "cell_type": "code",
      "source": "# Group data using rank\ndf_rank = df.groupby(['job'])",
      "execution_count": 45,
      "outputs": []
    },
    {
      "metadata": {
        "trusted": true
      },
      "cell_type": "code",
      "source": "# Calculate mean value for each numeric column per each group\ndf_rank.mean()",
      "execution_count": 46,
      "outputs": [
        {
          "output_type": "execute_result",
          "execution_count": 46,
          "data": {
            "text/html": "<div>\n<style scoped>\n    .dataframe tbody tr th:only-of-type {\n        vertical-align: middle;\n    }\n\n    .dataframe tbody tr th {\n        vertical-align: top;\n    }\n\n    .dataframe thead th {\n        text-align: right;\n    }\n</style>\n<table border=\"1\" class=\"dataframe\">\n  <thead>\n    <tr style=\"text-align: right;\">\n      <th></th>\n      <th>empno</th>\n      <th>deptid</th>\n      <th>salary</th>\n    </tr>\n    <tr>\n      <th>job</th>\n      <th></th>\n      <th></th>\n      <th></th>\n    </tr>\n  </thead>\n  <tbody>\n    <tr>\n      <th>Accountant</th>\n      <td>8.0</td>\n      <td>25.0</td>\n      <td>45750.000000</td>\n    </tr>\n    <tr>\n      <th>Cleark</th>\n      <td>9.0</td>\n      <td>NaN</td>\n      <td>21000.000000</td>\n    </tr>\n    <tr>\n      <th>Clerk</th>\n      <td>1.0</td>\n      <td>NaN</td>\n      <td>NaN</td>\n    </tr>\n    <tr>\n      <th>Manager</th>\n      <td>5.5</td>\n      <td>20.0</td>\n      <td>52666.666667</td>\n    </tr>\n  </tbody>\n</table>\n</div>",
            "text/plain": "            empno  deptid        salary\njob                                    \nAccountant    8.0    25.0  45750.000000\nCleark        9.0     NaN  21000.000000\nClerk         1.0     NaN           NaN\nManager       5.5    20.0  52666.666667"
          },
          "metadata": {}
        }
      ]
    },
    {
      "metadata": {
        "trusted": true
      },
      "cell_type": "code",
      "source": "# Calculate mean salary for each job\ndf.groupby('job')[['salary']].mean()",
      "execution_count": 49,
      "outputs": [
        {
          "output_type": "execute_result",
          "execution_count": 49,
          "data": {
            "text/html": "<div>\n<style scoped>\n    .dataframe tbody tr th:only-of-type {\n        vertical-align: middle;\n    }\n\n    .dataframe tbody tr th {\n        vertical-align: top;\n    }\n\n    .dataframe thead th {\n        text-align: right;\n    }\n</style>\n<table border=\"1\" class=\"dataframe\">\n  <thead>\n    <tr style=\"text-align: right;\">\n      <th></th>\n      <th>salary</th>\n    </tr>\n    <tr>\n      <th>job</th>\n      <th></th>\n    </tr>\n  </thead>\n  <tbody>\n    <tr>\n      <th>Accountant</th>\n      <td>45750.000000</td>\n    </tr>\n    <tr>\n      <th>Cleark</th>\n      <td>21000.000000</td>\n    </tr>\n    <tr>\n      <th>Clerk</th>\n      <td>NaN</td>\n    </tr>\n    <tr>\n      <th>Manager</th>\n      <td>52666.666667</td>\n    </tr>\n  </tbody>\n</table>\n</div>",
            "text/plain": "                  salary\njob                     \nAccountant  45750.000000\nCleark      21000.000000\nClerk                NaN\nManager     52666.666667"
          },
          "metadata": {}
        }
      ]
    },
    {
      "metadata": {
        "trusted": true
      },
      "cell_type": "code",
      "source": "# Calculate mean salary for each job rank\ndf_sub = df[ df['salary'] < 30000]",
      "execution_count": 67,
      "outputs": []
    },
    {
      "metadata": {
        "trusted": true
      },
      "cell_type": "code",
      "source": "df_sub",
      "execution_count": 68,
      "outputs": [
        {
          "output_type": "execute_result",
          "execution_count": 68,
          "data": {
            "text/html": "<div>\n<style scoped>\n    .dataframe tbody tr th:only-of-type {\n        vertical-align: middle;\n    }\n\n    .dataframe tbody tr th {\n        vertical-align: top;\n    }\n\n    .dataframe thead th {\n        text-align: right;\n    }\n</style>\n<table border=\"1\" class=\"dataframe\">\n  <thead>\n    <tr style=\"text-align: right;\">\n      <th></th>\n      <th>empno</th>\n      <th>ename</th>\n      <th>job</th>\n      <th>DOJ</th>\n      <th>DOB</th>\n      <th>deptid</th>\n      <th>salary</th>\n    </tr>\n  </thead>\n  <tbody>\n    <tr>\n      <th>1</th>\n      <td>2</td>\n      <td>Balkrushna</td>\n      <td>NaN</td>\n      <td>15-Jul-17</td>\n      <td>16-Mar-12</td>\n      <td>10.0</td>\n      <td>10000.0</td>\n    </tr>\n    <tr>\n      <th>8</th>\n      <td>9</td>\n      <td>Sayee</td>\n      <td>Cleark</td>\n      <td>16-Mar-12</td>\n      <td>22-Aug-98</td>\n      <td>NaN</td>\n      <td>21000.0</td>\n    </tr>\n  </tbody>\n</table>\n</div>",
            "text/plain": "   empno       ename     job        DOJ        DOB  deptid   salary\n1      2  Balkrushna     NaN  15-Jul-17  16-Mar-12    10.0  10000.0\n8      9       Sayee  Cleark  16-Mar-12  22-Aug-98     NaN  21000.0"
          },
          "metadata": {}
        }
      ]
    },
    {
      "metadata": {
        "trusted": true
      },
      "cell_type": "code",
      "source": "df_subset = df[(df['salary'] > 30000 | (df['job'] == 'Cleark'))]",
      "execution_count": 84,
      "outputs": []
    },
    {
      "metadata": {
        "trusted": true
      },
      "cell_type": "code",
      "source": "df_subset.ename",
      "execution_count": 85,
      "outputs": [
        {
          "output_type": "execute_result",
          "execution_count": 85,
          "data": {
            "text/plain": "1     Balkrushna\n2         Mathew\n4          Vimal\n5          Kamal\n6          Nanda\n7         Khushi\n8          Sayee\n9          Sakhi\n10        Soniya\nName: ename, dtype: object"
          },
          "metadata": {}
        }
      ]
    },
    {
      "metadata": {
        "trusted": true
      },
      "cell_type": "code",
      "source": "df_subset['ename']",
      "execution_count": 90,
      "outputs": [
        {
          "output_type": "execute_result",
          "execution_count": 90,
          "data": {
            "text/plain": "1     Balkrushna\n2         Mathew\n4          Vimal\n5          Kamal\n6          Nanda\n7         Khushi\n8          Sayee\n9          Sakhi\n10        Soniya\nName: ename, dtype: object"
          },
          "metadata": {}
        }
      ]
    },
    {
      "metadata": {
        "trusted": true
      },
      "cell_type": "code",
      "source": "df_subset = df.groupby(['job'], sort = False)[['salary']].mean()\ndf_subset",
      "execution_count": 79,
      "outputs": [
        {
          "output_type": "execute_result",
          "execution_count": 79,
          "data": {
            "text/html": "<div>\n<style scoped>\n    .dataframe tbody tr th:only-of-type {\n        vertical-align: middle;\n    }\n\n    .dataframe tbody tr th {\n        vertical-align: top;\n    }\n\n    .dataframe thead th {\n        text-align: right;\n    }\n</style>\n<table border=\"1\" class=\"dataframe\">\n  <thead>\n    <tr style=\"text-align: right;\">\n      <th></th>\n      <th>salary</th>\n    </tr>\n    <tr>\n      <th>job</th>\n      <th></th>\n    </tr>\n  </thead>\n  <tbody>\n    <tr>\n      <th>Clerk</th>\n      <td>NaN</td>\n    </tr>\n    <tr>\n      <th>Manager</th>\n      <td>52666.666667</td>\n    </tr>\n    <tr>\n      <th>Accountant</th>\n      <td>45750.000000</td>\n    </tr>\n    <tr>\n      <th>Cleark</th>\n      <td>21000.000000</td>\n    </tr>\n  </tbody>\n</table>\n</div>",
            "text/plain": "                  salary\njob                     \nClerk                NaN\nManager     52666.666667\nAccountant  45750.000000\nCleark      21000.000000"
          },
          "metadata": {}
        }
      ]
    },
    {
      "metadata": {
        "trusted": true
      },
      "cell_type": "code",
      "source": "# Select only those rows that contain female professors\n# df_f = df[df['sex'] == 'False'] ",
      "execution_count": 72,
      "outputs": []
    },
    {
      "metadata": {
        "trusted": true
      },
      "cell_type": "code",
      "source": "# Select rows by their labels\n# df_sub.loc[10: 20, ['rank', 'sex', 'salary']]  # Extracted using labels of the rows\n# df_sub.iloc[10:20, [0, 3, 4, 5]]  # Extracted using locations",
      "execution_count": 92,
      "outputs": []
    },
    {
      "metadata": {
        "trusted": true
      },
      "cell_type": "code",
      "source": "df.columns",
      "execution_count": 93,
      "outputs": [
        {
          "output_type": "execute_result",
          "execution_count": 93,
          "data": {
            "text/plain": "Index(['empno', 'ename', 'job', 'DOJ', 'DOB', 'deptid', 'salary'], dtype='object')"
          },
          "metadata": {}
        }
      ]
    },
    {
      "metadata": {
        "trusted": true
      },
      "cell_type": "code",
      "source": "# Select rows by their labels\ndf.loc[:5, ['empno', 'ename']]",
      "execution_count": 95,
      "outputs": [
        {
          "output_type": "execute_result",
          "execution_count": 95,
          "data": {
            "text/html": "<div>\n<style scoped>\n    .dataframe tbody tr th:only-of-type {\n        vertical-align: middle;\n    }\n\n    .dataframe tbody tr th {\n        vertical-align: top;\n    }\n\n    .dataframe thead th {\n        text-align: right;\n    }\n</style>\n<table border=\"1\" class=\"dataframe\">\n  <thead>\n    <tr style=\"text-align: right;\">\n      <th></th>\n      <th>empno</th>\n      <th>ename</th>\n    </tr>\n  </thead>\n  <tbody>\n    <tr>\n      <th>0</th>\n      <td>1</td>\n      <td>Anil</td>\n    </tr>\n    <tr>\n      <th>1</th>\n      <td>2</td>\n      <td>Balkrushna</td>\n    </tr>\n    <tr>\n      <th>2</th>\n      <td>3</td>\n      <td>Mathew</td>\n    </tr>\n    <tr>\n      <th>3</th>\n      <td>4</td>\n      <td>Suhas</td>\n    </tr>\n    <tr>\n      <th>4</th>\n      <td>5</td>\n      <td>Vimal</td>\n    </tr>\n    <tr>\n      <th>5</th>\n      <td>6</td>\n      <td>Kamal</td>\n    </tr>\n  </tbody>\n</table>\n</div>",
            "text/plain": "   empno       ename\n0      1        Anil\n1      2  Balkrushna\n2      3      Mathew\n3      4       Suhas\n4      5       Vimal\n5      6       Kamal"
          },
          "metadata": {}
        }
      ]
    },
    {
      "metadata": {
        "trusted": true
      },
      "cell_type": "code",
      "source": "# df.iloc[-1] # last row\n# df.iloc[i]  # (i+1)the row\n# df.iloc[0]  # First columns\n# df.iloc[:, -1]  # last column\n# df.iloc[:, 0:2]  # First 2 columns\n# df.iloc[1: 3, 0: 2]  # Second through third rows and first 2 columns\n# df.iloc[[0, 5], [1, 3]]  # 1st and 6th rows and 2nd and 4th columns",
      "execution_count": 98,
      "outputs": [
        {
          "output_type": "execute_result",
          "execution_count": 98,
          "data": {
            "text/html": "<div>\n<style scoped>\n    .dataframe tbody tr th:only-of-type {\n        vertical-align: middle;\n    }\n\n    .dataframe tbody tr th {\n        vertical-align: top;\n    }\n\n    .dataframe thead th {\n        text-align: right;\n    }\n</style>\n<table border=\"1\" class=\"dataframe\">\n  <thead>\n    <tr style=\"text-align: right;\">\n      <th></th>\n      <th>ename</th>\n      <th>DOJ</th>\n    </tr>\n  </thead>\n  <tbody>\n    <tr>\n      <th>0</th>\n      <td>Anil</td>\n      <td>NaN</td>\n    </tr>\n    <tr>\n      <th>5</th>\n      <td>Kamal</td>\n      <td>19-Nov-13</td>\n    </tr>\n  </tbody>\n</table>\n</div>",
            "text/plain": "   ename        DOJ\n0   Anil        NaN\n5  Kamal  19-Nov-13"
          },
          "metadata": {}
        }
      ]
    },
    {
      "metadata": {},
      "cell_type": "markdown",
      "source": "## Missing Value"
    },
    {
      "metadata": {
        "trusted": true
      },
      "cell_type": "code",
      "source": "import numpy as np\nimport pandas as pd",
      "execution_count": 2,
      "outputs": []
    },
    {
      "metadata": {
        "trusted": true
      },
      "cell_type": "code",
      "source": "df = pd.read_csv(\"Emp.csv\")",
      "execution_count": 3,
      "outputs": []
    },
    {
      "metadata": {
        "trusted": true
      },
      "cell_type": "code",
      "source": "df",
      "execution_count": 4,
      "outputs": [
        {
          "output_type": "execute_result",
          "execution_count": 4,
          "data": {
            "text/html": "<div>\n<style scoped>\n    .dataframe tbody tr th:only-of-type {\n        vertical-align: middle;\n    }\n\n    .dataframe tbody tr th {\n        vertical-align: top;\n    }\n\n    .dataframe thead th {\n        text-align: right;\n    }\n</style>\n<table border=\"1\" class=\"dataframe\">\n  <thead>\n    <tr style=\"text-align: right;\">\n      <th></th>\n      <th>empno</th>\n      <th>ename</th>\n      <th>job</th>\n      <th>DOJ</th>\n      <th>DOB</th>\n      <th>deptid</th>\n      <th>salary</th>\n    </tr>\n  </thead>\n  <tbody>\n    <tr>\n      <th>0</th>\n      <td>1</td>\n      <td>Anil</td>\n      <td>Clerk</td>\n      <td>NaN</td>\n      <td>NaN</td>\n      <td>NaN</td>\n      <td>NaN</td>\n    </tr>\n    <tr>\n      <th>1</th>\n      <td>2</td>\n      <td>Balkrushna</td>\n      <td>NaN</td>\n      <td>15-Jul-17</td>\n      <td>16-Mar-12</td>\n      <td>10.0</td>\n      <td>10000.0</td>\n    </tr>\n    <tr>\n      <th>2</th>\n      <td>3</td>\n      <td>Mathew</td>\n      <td>Manager</td>\n      <td>16-Mar-12</td>\n      <td>16-Mar-92</td>\n      <td>20.0</td>\n      <td>50000.0</td>\n    </tr>\n    <tr>\n      <th>3</th>\n      <td>4</td>\n      <td>Suhas</td>\n      <td>Manager</td>\n      <td>16-Mar-12</td>\n      <td>17-Mar-91</td>\n      <td>20.0</td>\n      <td>NaN</td>\n    </tr>\n    <tr>\n      <th>4</th>\n      <td>5</td>\n      <td>Vimal</td>\n      <td>Accountant</td>\n      <td>18-Mar-17</td>\n      <td>18-Mar-91</td>\n      <td>20.0</td>\n      <td>45000.0</td>\n    </tr>\n    <tr>\n      <th>5</th>\n      <td>6</td>\n      <td>Kamal</td>\n      <td>Accountant</td>\n      <td>19-Nov-13</td>\n      <td>18-Mar-91</td>\n      <td>20.0</td>\n      <td>45000.0</td>\n    </tr>\n    <tr>\n      <th>6</th>\n      <td>7</td>\n      <td>Nanda</td>\n      <td>Manager</td>\n      <td>20-Mar-12</td>\n      <td>20-Jan-97</td>\n      <td>20.0</td>\n      <td>52000.0</td>\n    </tr>\n    <tr>\n      <th>7</th>\n      <td>8</td>\n      <td>Khushi</td>\n      <td>Manager</td>\n      <td>21-Mar-12</td>\n      <td>21-Jun-94</td>\n      <td>20.0</td>\n      <td>56000.0</td>\n    </tr>\n    <tr>\n      <th>8</th>\n      <td>9</td>\n      <td>Sayee</td>\n      <td>Cleark</td>\n      <td>16-Mar-12</td>\n      <td>22-Aug-98</td>\n      <td>NaN</td>\n      <td>21000.0</td>\n    </tr>\n    <tr>\n      <th>9</th>\n      <td>10</td>\n      <td>Sakhi</td>\n      <td>Accountant</td>\n      <td>23-Mar-12</td>\n      <td>14-Mar-91</td>\n      <td>30.0</td>\n      <td>46000.0</td>\n    </tr>\n    <tr>\n      <th>10</th>\n      <td>11</td>\n      <td>Soniya</td>\n      <td>Accountant</td>\n      <td>24-Mar-14</td>\n      <td>24-Mar-91</td>\n      <td>30.0</td>\n      <td>47000.0</td>\n    </tr>\n  </tbody>\n</table>\n</div>",
            "text/plain": "    empno       ename         job        DOJ        DOB  deptid   salary\n0       1        Anil       Clerk        NaN        NaN     NaN      NaN\n1       2  Balkrushna         NaN  15-Jul-17  16-Mar-12    10.0  10000.0\n2       3      Mathew     Manager  16-Mar-12  16-Mar-92    20.0  50000.0\n3       4       Suhas     Manager  16-Mar-12  17-Mar-91    20.0      NaN\n4       5       Vimal  Accountant  18-Mar-17  18-Mar-91    20.0  45000.0\n5       6       Kamal  Accountant  19-Nov-13  18-Mar-91    20.0  45000.0\n6       7       Nanda     Manager  20-Mar-12  20-Jan-97    20.0  52000.0\n7       8      Khushi     Manager  21-Mar-12  21-Jun-94    20.0  56000.0\n8       9       Sayee      Cleark  16-Mar-12  22-Aug-98     NaN  21000.0\n9      10       Sakhi  Accountant  23-Mar-12  14-Mar-91    30.0  46000.0\n10     11      Soniya  Accountant  24-Mar-14  24-Mar-91    30.0  47000.0"
          },
          "metadata": {}
        }
      ]
    },
    {
      "metadata": {
        "trusted": true
      },
      "cell_type": "code",
      "source": "df.head(3)",
      "execution_count": 5,
      "outputs": [
        {
          "output_type": "execute_result",
          "execution_count": 5,
          "data": {
            "text/html": "<div>\n<style scoped>\n    .dataframe tbody tr th:only-of-type {\n        vertical-align: middle;\n    }\n\n    .dataframe tbody tr th {\n        vertical-align: top;\n    }\n\n    .dataframe thead th {\n        text-align: right;\n    }\n</style>\n<table border=\"1\" class=\"dataframe\">\n  <thead>\n    <tr style=\"text-align: right;\">\n      <th></th>\n      <th>empno</th>\n      <th>ename</th>\n      <th>job</th>\n      <th>DOJ</th>\n      <th>DOB</th>\n      <th>deptid</th>\n      <th>salary</th>\n    </tr>\n  </thead>\n  <tbody>\n    <tr>\n      <th>0</th>\n      <td>1</td>\n      <td>Anil</td>\n      <td>Clerk</td>\n      <td>NaN</td>\n      <td>NaN</td>\n      <td>NaN</td>\n      <td>NaN</td>\n    </tr>\n    <tr>\n      <th>1</th>\n      <td>2</td>\n      <td>Balkrushna</td>\n      <td>NaN</td>\n      <td>15-Jul-17</td>\n      <td>16-Mar-12</td>\n      <td>10.0</td>\n      <td>10000.0</td>\n    </tr>\n    <tr>\n      <th>2</th>\n      <td>3</td>\n      <td>Mathew</td>\n      <td>Manager</td>\n      <td>16-Mar-12</td>\n      <td>16-Mar-92</td>\n      <td>20.0</td>\n      <td>50000.0</td>\n    </tr>\n  </tbody>\n</table>\n</div>",
            "text/plain": "   empno       ename      job        DOJ        DOB  deptid   salary\n0      1        Anil    Clerk        NaN        NaN     NaN      NaN\n1      2  Balkrushna      NaN  15-Jul-17  16-Mar-12    10.0  10000.0\n2      3      Mathew  Manager  16-Mar-12  16-Mar-92    20.0  50000.0"
          },
          "metadata": {}
        }
      ]
    },
    {
      "metadata": {
        "trusted": true
      },
      "cell_type": "code",
      "source": "df.dtypes",
      "execution_count": 11,
      "outputs": [
        {
          "output_type": "execute_result",
          "execution_count": 11,
          "data": {
            "text/plain": "empno       int64\nename      object\njob        object\nDOJ        object\nDOB        object\ndeptid    float64\nsalary    float64\ndtype: object"
          },
          "metadata": {}
        }
      ]
    },
    {
      "metadata": {
        "trusted": true
      },
      "cell_type": "code",
      "source": "df['salary'].dtypes  # shows datatype of 'salary' columns",
      "execution_count": 15,
      "outputs": [
        {
          "output_type": "execute_result",
          "execution_count": 15,
          "data": {
            "text/plain": "dtype('float64')"
          },
          "metadata": {}
        }
      ]
    },
    {
      "metadata": {
        "trusted": true
      },
      "cell_type": "code",
      "source": "df.columns  # shows columns",
      "execution_count": 16,
      "outputs": [
        {
          "output_type": "execute_result",
          "execution_count": 16,
          "data": {
            "text/plain": "Index(['empno', 'ename', 'job', 'DOJ', 'DOB', 'deptid', 'salary'], dtype='object')"
          },
          "metadata": {}
        }
      ]
    },
    {
      "metadata": {
        "trusted": true
      },
      "cell_type": "code",
      "source": "df.describe()  # shows basic statics",
      "execution_count": 18,
      "outputs": [
        {
          "output_type": "execute_result",
          "execution_count": 18,
          "data": {
            "text/html": "<div>\n<style scoped>\n    .dataframe tbody tr th:only-of-type {\n        vertical-align: middle;\n    }\n\n    .dataframe tbody tr th {\n        vertical-align: top;\n    }\n\n    .dataframe thead th {\n        text-align: right;\n    }\n</style>\n<table border=\"1\" class=\"dataframe\">\n  <thead>\n    <tr style=\"text-align: right;\">\n      <th></th>\n      <th>empno</th>\n      <th>deptid</th>\n      <th>salary</th>\n    </tr>\n  </thead>\n  <tbody>\n    <tr>\n      <th>count</th>\n      <td>11.000000</td>\n      <td>9.000000</td>\n      <td>9.000000</td>\n    </tr>\n    <tr>\n      <th>mean</th>\n      <td>6.000000</td>\n      <td>21.111111</td>\n      <td>41333.333333</td>\n    </tr>\n    <tr>\n      <th>std</th>\n      <td>3.316625</td>\n      <td>6.009252</td>\n      <td>15329.709717</td>\n    </tr>\n    <tr>\n      <th>min</th>\n      <td>1.000000</td>\n      <td>10.000000</td>\n      <td>10000.000000</td>\n    </tr>\n    <tr>\n      <th>25%</th>\n      <td>3.500000</td>\n      <td>20.000000</td>\n      <td>45000.000000</td>\n    </tr>\n    <tr>\n      <th>50%</th>\n      <td>6.000000</td>\n      <td>20.000000</td>\n      <td>46000.000000</td>\n    </tr>\n    <tr>\n      <th>75%</th>\n      <td>8.500000</td>\n      <td>20.000000</td>\n      <td>50000.000000</td>\n    </tr>\n    <tr>\n      <th>max</th>\n      <td>11.000000</td>\n      <td>30.000000</td>\n      <td>56000.000000</td>\n    </tr>\n  </tbody>\n</table>\n</div>",
            "text/plain": "           empno     deptid        salary\ncount  11.000000   9.000000      9.000000\nmean    6.000000  21.111111  41333.333333\nstd     3.316625   6.009252  15329.709717\nmin     1.000000  10.000000  10000.000000\n25%     3.500000  20.000000  45000.000000\n50%     6.000000  20.000000  46000.000000\n75%     8.500000  20.000000  50000.000000\nmax    11.000000  30.000000  56000.000000"
          },
          "metadata": {}
        }
      ]
    },
    {
      "metadata": {
        "trusted": true
      },
      "cell_type": "code",
      "source": "df['salary'].max()",
      "execution_count": 19,
      "outputs": [
        {
          "output_type": "execute_result",
          "execution_count": 19,
          "data": {
            "text/plain": "56000.0"
          },
          "metadata": {}
        }
      ]
    },
    {
      "metadata": {
        "trusted": true
      },
      "cell_type": "code",
      "source": "df['salary'].min()",
      "execution_count": 21,
      "outputs": [
        {
          "output_type": "execute_result",
          "execution_count": 21,
          "data": {
            "text/plain": "10000.0"
          },
          "metadata": {}
        }
      ]
    },
    {
      "metadata": {
        "trusted": true
      },
      "cell_type": "code",
      "source": "df.dropna()",
      "execution_count": 25,
      "outputs": [
        {
          "output_type": "execute_result",
          "execution_count": 25,
          "data": {
            "text/html": "<div>\n<style scoped>\n    .dataframe tbody tr th:only-of-type {\n        vertical-align: middle;\n    }\n\n    .dataframe tbody tr th {\n        vertical-align: top;\n    }\n\n    .dataframe thead th {\n        text-align: right;\n    }\n</style>\n<table border=\"1\" class=\"dataframe\">\n  <thead>\n    <tr style=\"text-align: right;\">\n      <th></th>\n      <th>empno</th>\n      <th>ename</th>\n      <th>job</th>\n      <th>DOJ</th>\n      <th>DOB</th>\n      <th>deptid</th>\n      <th>salary</th>\n    </tr>\n  </thead>\n  <tbody>\n    <tr>\n      <th>2</th>\n      <td>3</td>\n      <td>Mathew</td>\n      <td>Manager</td>\n      <td>16-Mar-12</td>\n      <td>16-Mar-92</td>\n      <td>20.0</td>\n      <td>50000.0</td>\n    </tr>\n    <tr>\n      <th>4</th>\n      <td>5</td>\n      <td>Vimal</td>\n      <td>Accountant</td>\n      <td>18-Mar-17</td>\n      <td>18-Mar-91</td>\n      <td>20.0</td>\n      <td>45000.0</td>\n    </tr>\n    <tr>\n      <th>5</th>\n      <td>6</td>\n      <td>Kamal</td>\n      <td>Accountant</td>\n      <td>19-Nov-13</td>\n      <td>18-Mar-91</td>\n      <td>20.0</td>\n      <td>45000.0</td>\n    </tr>\n    <tr>\n      <th>6</th>\n      <td>7</td>\n      <td>Nanda</td>\n      <td>Manager</td>\n      <td>20-Mar-12</td>\n      <td>20-Jan-97</td>\n      <td>20.0</td>\n      <td>52000.0</td>\n    </tr>\n    <tr>\n      <th>7</th>\n      <td>8</td>\n      <td>Khushi</td>\n      <td>Manager</td>\n      <td>21-Mar-12</td>\n      <td>21-Jun-94</td>\n      <td>20.0</td>\n      <td>56000.0</td>\n    </tr>\n    <tr>\n      <th>9</th>\n      <td>10</td>\n      <td>Sakhi</td>\n      <td>Accountant</td>\n      <td>23-Mar-12</td>\n      <td>14-Mar-91</td>\n      <td>30.0</td>\n      <td>46000.0</td>\n    </tr>\n    <tr>\n      <th>10</th>\n      <td>11</td>\n      <td>Soniya</td>\n      <td>Accountant</td>\n      <td>24-Mar-14</td>\n      <td>24-Mar-91</td>\n      <td>30.0</td>\n      <td>47000.0</td>\n    </tr>\n  </tbody>\n</table>\n</div>",
            "text/plain": "    empno   ename         job        DOJ        DOB  deptid   salary\n2       3  Mathew     Manager  16-Mar-12  16-Mar-92    20.0  50000.0\n4       5   Vimal  Accountant  18-Mar-17  18-Mar-91    20.0  45000.0\n5       6   Kamal  Accountant  19-Nov-13  18-Mar-91    20.0  45000.0\n6       7   Nanda     Manager  20-Mar-12  20-Jan-97    20.0  52000.0\n7       8  Khushi     Manager  21-Mar-12  21-Jun-94    20.0  56000.0\n9      10   Sakhi  Accountant  23-Mar-12  14-Mar-91    30.0  46000.0\n10     11  Soniya  Accountant  24-Mar-14  24-Mar-91    30.0  47000.0"
          },
          "metadata": {}
        }
      ]
    },
    {
      "metadata": {
        "trusted": true
      },
      "cell_type": "code",
      "source": "df",
      "execution_count": 24,
      "outputs": [
        {
          "output_type": "execute_result",
          "execution_count": 24,
          "data": {
            "text/html": "<div>\n<style scoped>\n    .dataframe tbody tr th:only-of-type {\n        vertical-align: middle;\n    }\n\n    .dataframe tbody tr th {\n        vertical-align: top;\n    }\n\n    .dataframe thead th {\n        text-align: right;\n    }\n</style>\n<table border=\"1\" class=\"dataframe\">\n  <thead>\n    <tr style=\"text-align: right;\">\n      <th></th>\n      <th>empno</th>\n      <th>ename</th>\n      <th>job</th>\n      <th>DOJ</th>\n      <th>DOB</th>\n      <th>deptid</th>\n      <th>salary</th>\n    </tr>\n  </thead>\n  <tbody>\n    <tr>\n      <th>0</th>\n      <td>1</td>\n      <td>Anil</td>\n      <td>Clerk</td>\n      <td>NaN</td>\n      <td>NaN</td>\n      <td>NaN</td>\n      <td>NaN</td>\n    </tr>\n    <tr>\n      <th>1</th>\n      <td>2</td>\n      <td>Balkrushna</td>\n      <td>NaN</td>\n      <td>15-Jul-17</td>\n      <td>16-Mar-12</td>\n      <td>10.0</td>\n      <td>10000.0</td>\n    </tr>\n    <tr>\n      <th>2</th>\n      <td>3</td>\n      <td>Mathew</td>\n      <td>Manager</td>\n      <td>16-Mar-12</td>\n      <td>16-Mar-92</td>\n      <td>20.0</td>\n      <td>50000.0</td>\n    </tr>\n    <tr>\n      <th>3</th>\n      <td>4</td>\n      <td>Suhas</td>\n      <td>Manager</td>\n      <td>16-Mar-12</td>\n      <td>17-Mar-91</td>\n      <td>20.0</td>\n      <td>NaN</td>\n    </tr>\n    <tr>\n      <th>4</th>\n      <td>5</td>\n      <td>Vimal</td>\n      <td>Accountant</td>\n      <td>18-Mar-17</td>\n      <td>18-Mar-91</td>\n      <td>20.0</td>\n      <td>45000.0</td>\n    </tr>\n    <tr>\n      <th>5</th>\n      <td>6</td>\n      <td>Kamal</td>\n      <td>Accountant</td>\n      <td>19-Nov-13</td>\n      <td>18-Mar-91</td>\n      <td>20.0</td>\n      <td>45000.0</td>\n    </tr>\n    <tr>\n      <th>6</th>\n      <td>7</td>\n      <td>Nanda</td>\n      <td>Manager</td>\n      <td>20-Mar-12</td>\n      <td>20-Jan-97</td>\n      <td>20.0</td>\n      <td>52000.0</td>\n    </tr>\n    <tr>\n      <th>7</th>\n      <td>8</td>\n      <td>Khushi</td>\n      <td>Manager</td>\n      <td>21-Mar-12</td>\n      <td>21-Jun-94</td>\n      <td>20.0</td>\n      <td>56000.0</td>\n    </tr>\n    <tr>\n      <th>8</th>\n      <td>9</td>\n      <td>Sayee</td>\n      <td>Cleark</td>\n      <td>16-Mar-12</td>\n      <td>22-Aug-98</td>\n      <td>NaN</td>\n      <td>21000.0</td>\n    </tr>\n    <tr>\n      <th>9</th>\n      <td>10</td>\n      <td>Sakhi</td>\n      <td>Accountant</td>\n      <td>23-Mar-12</td>\n      <td>14-Mar-91</td>\n      <td>30.0</td>\n      <td>46000.0</td>\n    </tr>\n    <tr>\n      <th>10</th>\n      <td>11</td>\n      <td>Soniya</td>\n      <td>Accountant</td>\n      <td>24-Mar-14</td>\n      <td>24-Mar-91</td>\n      <td>30.0</td>\n      <td>47000.0</td>\n    </tr>\n  </tbody>\n</table>\n</div>",
            "text/plain": "    empno       ename         job        DOJ        DOB  deptid   salary\n0       1        Anil       Clerk        NaN        NaN     NaN      NaN\n1       2  Balkrushna         NaN  15-Jul-17  16-Mar-12    10.0  10000.0\n2       3      Mathew     Manager  16-Mar-12  16-Mar-92    20.0  50000.0\n3       4       Suhas     Manager  16-Mar-12  17-Mar-91    20.0      NaN\n4       5       Vimal  Accountant  18-Mar-17  18-Mar-91    20.0  45000.0\n5       6       Kamal  Accountant  19-Nov-13  18-Mar-91    20.0  45000.0\n6       7       Nanda     Manager  20-Mar-12  20-Jan-97    20.0  52000.0\n7       8      Khushi     Manager  21-Mar-12  21-Jun-94    20.0  56000.0\n8       9       Sayee      Cleark  16-Mar-12  22-Aug-98     NaN  21000.0\n9      10       Sakhi  Accountant  23-Mar-12  14-Mar-91    30.0  46000.0\n10     11      Soniya  Accountant  24-Mar-14  24-Mar-91    30.0  47000.0"
          },
          "metadata": {}
        }
      ]
    },
    {
      "metadata": {
        "trusted": true
      },
      "cell_type": "code",
      "source": "df.head(5).mean()",
      "execution_count": 27,
      "outputs": [
        {
          "output_type": "execute_result",
          "execution_count": 27,
          "data": {
            "text/plain": "empno         3.0\ndeptid       17.5\nsalary    35000.0\ndtype: float64"
          },
          "metadata": {}
        }
      ]
    },
    {
      "metadata": {
        "trusted": true
      },
      "cell_type": "code",
      "source": "df[:5].mean()",
      "execution_count": 29,
      "outputs": [
        {
          "output_type": "execute_result",
          "execution_count": 29,
          "data": {
            "text/plain": "empno         3.0\ndeptid       17.5\nsalary    35000.0\ndtype: float64"
          },
          "metadata": {}
        }
      ]
    },
    {
      "metadata": {
        "trusted": true
      },
      "cell_type": "code",
      "source": "# df['name'] - Subset the data frame using column name\n# df.name - Use the column name as an attribute",
      "execution_count": 30,
      "outputs": []
    },
    {
      "metadata": {
        "trusted": true
      },
      "cell_type": "code",
      "source": "type(df['salary'])",
      "execution_count": 34,
      "outputs": [
        {
          "output_type": "execute_result",
          "execution_count": 34,
          "data": {
            "text/plain": "pandas.core.series.Series"
          },
          "metadata": {}
        }
      ]
    },
    {
      "metadata": {
        "trusted": true
      },
      "cell_type": "code",
      "source": "type(df.salary)",
      "execution_count": 33,
      "outputs": [
        {
          "output_type": "execute_result",
          "execution_count": 33,
          "data": {
            "text/plain": "pandas.core.series.Series"
          },
          "metadata": {}
        }
      ]
    },
    {
      "metadata": {
        "trusted": true
      },
      "cell_type": "code",
      "source": "df['salary'].count()  # Count of 'Salary'",
      "execution_count": 37,
      "outputs": [
        {
          "output_type": "execute_result",
          "execution_count": 37,
          "data": {
            "text/plain": "9"
          },
          "metadata": {}
        }
      ]
    },
    {
      "metadata": {
        "trusted": true
      },
      "cell_type": "code",
      "source": "df['salary'].mean()  # Average Salary",
      "execution_count": 38,
      "outputs": [
        {
          "output_type": "execute_result",
          "execution_count": 38,
          "data": {
            "text/plain": "41333.333333333336"
          },
          "metadata": {}
        }
      ]
    },
    {
      "metadata": {
        "trusted": true
      },
      "cell_type": "code",
      "source": "df['salary'].describe()  # Basic stats of salary column",
      "execution_count": 40,
      "outputs": [
        {
          "output_type": "execute_result",
          "execution_count": 40,
          "data": {
            "text/plain": "count        9.000000\nmean     41333.333333\nstd      15329.709717\nmin      10000.000000\n25%      45000.000000\n50%      46000.000000\n75%      50000.000000\nmax      56000.000000\nName: salary, dtype: float64"
          },
          "metadata": {}
        }
      ]
    },
    {
      "metadata": {
        "trusted": true
      },
      "cell_type": "code",
      "source": "# Group data using rank\ndf_rank = df.groupby(['job'])",
      "execution_count": 45,
      "outputs": []
    },
    {
      "metadata": {
        "trusted": true
      },
      "cell_type": "code",
      "source": "# Calculate mean value for each numeric column per each group\ndf_rank.mean()",
      "execution_count": 46,
      "outputs": [
        {
          "output_type": "execute_result",
          "execution_count": 46,
          "data": {
            "text/html": "<div>\n<style scoped>\n    .dataframe tbody tr th:only-of-type {\n        vertical-align: middle;\n    }\n\n    .dataframe tbody tr th {\n        vertical-align: top;\n    }\n\n    .dataframe thead th {\n        text-align: right;\n    }\n</style>\n<table border=\"1\" class=\"dataframe\">\n  <thead>\n    <tr style=\"text-align: right;\">\n      <th></th>\n      <th>empno</th>\n      <th>deptid</th>\n      <th>salary</th>\n    </tr>\n    <tr>\n      <th>job</th>\n      <th></th>\n      <th></th>\n      <th></th>\n    </tr>\n  </thead>\n  <tbody>\n    <tr>\n      <th>Accountant</th>\n      <td>8.0</td>\n      <td>25.0</td>\n      <td>45750.000000</td>\n    </tr>\n    <tr>\n      <th>Cleark</th>\n      <td>9.0</td>\n      <td>NaN</td>\n      <td>21000.000000</td>\n    </tr>\n    <tr>\n      <th>Clerk</th>\n      <td>1.0</td>\n      <td>NaN</td>\n      <td>NaN</td>\n    </tr>\n    <tr>\n      <th>Manager</th>\n      <td>5.5</td>\n      <td>20.0</td>\n      <td>52666.666667</td>\n    </tr>\n  </tbody>\n</table>\n</div>",
            "text/plain": "            empno  deptid        salary\njob                                    \nAccountant    8.0    25.0  45750.000000\nCleark        9.0     NaN  21000.000000\nClerk         1.0     NaN           NaN\nManager       5.5    20.0  52666.666667"
          },
          "metadata": {}
        }
      ]
    },
    {
      "metadata": {
        "trusted": true
      },
      "cell_type": "code",
      "source": "# Calculate mean salary for each job\ndf.groupby('job')[['salary']].mean()",
      "execution_count": 49,
      "outputs": [
        {
          "output_type": "execute_result",
          "execution_count": 49,
          "data": {
            "text/html": "<div>\n<style scoped>\n    .dataframe tbody tr th:only-of-type {\n        vertical-align: middle;\n    }\n\n    .dataframe tbody tr th {\n        vertical-align: top;\n    }\n\n    .dataframe thead th {\n        text-align: right;\n    }\n</style>\n<table border=\"1\" class=\"dataframe\">\n  <thead>\n    <tr style=\"text-align: right;\">\n      <th></th>\n      <th>salary</th>\n    </tr>\n    <tr>\n      <th>job</th>\n      <th></th>\n    </tr>\n  </thead>\n  <tbody>\n    <tr>\n      <th>Accountant</th>\n      <td>45750.000000</td>\n    </tr>\n    <tr>\n      <th>Cleark</th>\n      <td>21000.000000</td>\n    </tr>\n    <tr>\n      <th>Clerk</th>\n      <td>NaN</td>\n    </tr>\n    <tr>\n      <th>Manager</th>\n      <td>52666.666667</td>\n    </tr>\n  </tbody>\n</table>\n</div>",
            "text/plain": "                  salary\njob                     \nAccountant  45750.000000\nCleark      21000.000000\nClerk                NaN\nManager     52666.666667"
          },
          "metadata": {}
        }
      ]
    },
    {
      "metadata": {
        "trusted": true
      },
      "cell_type": "code",
      "source": "# Calculate mean salary for each job rank\ndf_sub = df[ df['salary'] < 30000]",
      "execution_count": 67,
      "outputs": []
    },
    {
      "metadata": {
        "trusted": true
      },
      "cell_type": "code",
      "source": "df_sub",
      "execution_count": 68,
      "outputs": [
        {
          "output_type": "execute_result",
          "execution_count": 68,
          "data": {
            "text/html": "<div>\n<style scoped>\n    .dataframe tbody tr th:only-of-type {\n        vertical-align: middle;\n    }\n\n    .dataframe tbody tr th {\n        vertical-align: top;\n    }\n\n    .dataframe thead th {\n        text-align: right;\n    }\n</style>\n<table border=\"1\" class=\"dataframe\">\n  <thead>\n    <tr style=\"text-align: right;\">\n      <th></th>\n      <th>empno</th>\n      <th>ename</th>\n      <th>job</th>\n      <th>DOJ</th>\n      <th>DOB</th>\n      <th>deptid</th>\n      <th>salary</th>\n    </tr>\n  </thead>\n  <tbody>\n    <tr>\n      <th>1</th>\n      <td>2</td>\n      <td>Balkrushna</td>\n      <td>NaN</td>\n      <td>15-Jul-17</td>\n      <td>16-Mar-12</td>\n      <td>10.0</td>\n      <td>10000.0</td>\n    </tr>\n    <tr>\n      <th>8</th>\n      <td>9</td>\n      <td>Sayee</td>\n      <td>Cleark</td>\n      <td>16-Mar-12</td>\n      <td>22-Aug-98</td>\n      <td>NaN</td>\n      <td>21000.0</td>\n    </tr>\n  </tbody>\n</table>\n</div>",
            "text/plain": "   empno       ename     job        DOJ        DOB  deptid   salary\n1      2  Balkrushna     NaN  15-Jul-17  16-Mar-12    10.0  10000.0\n8      9       Sayee  Cleark  16-Mar-12  22-Aug-98     NaN  21000.0"
          },
          "metadata": {}
        }
      ]
    },
    {
      "metadata": {
        "trusted": true
      },
      "cell_type": "code",
      "source": "df_subset = df[(df['salary'] > 30000 | (df['job'] == 'Cleark'))]",
      "execution_count": 84,
      "outputs": []
    },
    {
      "metadata": {
        "trusted": true
      },
      "cell_type": "code",
      "source": "df_subset.ename",
      "execution_count": 85,
      "outputs": [
        {
          "output_type": "execute_result",
          "execution_count": 85,
          "data": {
            "text/plain": "1     Balkrushna\n2         Mathew\n4          Vimal\n5          Kamal\n6          Nanda\n7         Khushi\n8          Sayee\n9          Sakhi\n10        Soniya\nName: ename, dtype: object"
          },
          "metadata": {}
        }
      ]
    },
    {
      "metadata": {
        "trusted": true
      },
      "cell_type": "code",
      "source": "df_subset['ename']",
      "execution_count": 90,
      "outputs": [
        {
          "output_type": "execute_result",
          "execution_count": 90,
          "data": {
            "text/plain": "1     Balkrushna\n2         Mathew\n4          Vimal\n5          Kamal\n6          Nanda\n7         Khushi\n8          Sayee\n9          Sakhi\n10        Soniya\nName: ename, dtype: object"
          },
          "metadata": {}
        }
      ]
    },
    {
      "metadata": {
        "trusted": true
      },
      "cell_type": "code",
      "source": "df_subset = df.groupby(['job'], sort = False)[['salary']].mean()\ndf_subset",
      "execution_count": 79,
      "outputs": [
        {
          "output_type": "execute_result",
          "execution_count": 79,
          "data": {
            "text/html": "<div>\n<style scoped>\n    .dataframe tbody tr th:only-of-type {\n        vertical-align: middle;\n    }\n\n    .dataframe tbody tr th {\n        vertical-align: top;\n    }\n\n    .dataframe thead th {\n        text-align: right;\n    }\n</style>\n<table border=\"1\" class=\"dataframe\">\n  <thead>\n    <tr style=\"text-align: right;\">\n      <th></th>\n      <th>salary</th>\n    </tr>\n    <tr>\n      <th>job</th>\n      <th></th>\n    </tr>\n  </thead>\n  <tbody>\n    <tr>\n      <th>Clerk</th>\n      <td>NaN</td>\n    </tr>\n    <tr>\n      <th>Manager</th>\n      <td>52666.666667</td>\n    </tr>\n    <tr>\n      <th>Accountant</th>\n      <td>45750.000000</td>\n    </tr>\n    <tr>\n      <th>Cleark</th>\n      <td>21000.000000</td>\n    </tr>\n  </tbody>\n</table>\n</div>",
            "text/plain": "                  salary\njob                     \nClerk                NaN\nManager     52666.666667\nAccountant  45750.000000\nCleark      21000.000000"
          },
          "metadata": {}
        }
      ]
    },
    {
      "metadata": {
        "trusted": true
      },
      "cell_type": "code",
      "source": "# Select only those rows that contain female professors\n# df_f = df[df['sex'] == 'False'] ",
      "execution_count": 72,
      "outputs": []
    },
    {
      "metadata": {
        "trusted": true
      },
      "cell_type": "code",
      "source": "# Select rows by their labels\n# df_sub.loc[10: 20, ['rank', 'sex', 'salary']]  # Extracted using labels of the rows\n# df_sub.iloc[10:20, [0, 3, 4, 5]]  # Extracted using locations",
      "execution_count": 92,
      "outputs": []
    },
    {
      "metadata": {
        "trusted": true
      },
      "cell_type": "code",
      "source": "df.columns",
      "execution_count": 93,
      "outputs": [
        {
          "output_type": "execute_result",
          "execution_count": 93,
          "data": {
            "text/plain": "Index(['empno', 'ename', 'job', 'DOJ', 'DOB', 'deptid', 'salary'], dtype='object')"
          },
          "metadata": {}
        }
      ]
    },
    {
      "metadata": {
        "trusted": true
      },
      "cell_type": "code",
      "source": "# Select rows by their labels\ndf.loc[:5, ['empno', 'ename']]",
      "execution_count": 95,
      "outputs": [
        {
          "output_type": "execute_result",
          "execution_count": 95,
          "data": {
            "text/html": "<div>\n<style scoped>\n    .dataframe tbody tr th:only-of-type {\n        vertical-align: middle;\n    }\n\n    .dataframe tbody tr th {\n        vertical-align: top;\n    }\n\n    .dataframe thead th {\n        text-align: right;\n    }\n</style>\n<table border=\"1\" class=\"dataframe\">\n  <thead>\n    <tr style=\"text-align: right;\">\n      <th></th>\n      <th>empno</th>\n      <th>ename</th>\n    </tr>\n  </thead>\n  <tbody>\n    <tr>\n      <th>0</th>\n      <td>1</td>\n      <td>Anil</td>\n    </tr>\n    <tr>\n      <th>1</th>\n      <td>2</td>\n      <td>Balkrushna</td>\n    </tr>\n    <tr>\n      <th>2</th>\n      <td>3</td>\n      <td>Mathew</td>\n    </tr>\n    <tr>\n      <th>3</th>\n      <td>4</td>\n      <td>Suhas</td>\n    </tr>\n    <tr>\n      <th>4</th>\n      <td>5</td>\n      <td>Vimal</td>\n    </tr>\n    <tr>\n      <th>5</th>\n      <td>6</td>\n      <td>Kamal</td>\n    </tr>\n  </tbody>\n</table>\n</div>",
            "text/plain": "   empno       ename\n0      1        Anil\n1      2  Balkrushna\n2      3      Mathew\n3      4       Suhas\n4      5       Vimal\n5      6       Kamal"
          },
          "metadata": {}
        }
      ]
    },
    {
      "metadata": {
        "trusted": true
      },
      "cell_type": "code",
      "source": "# df.iloc[-1] # last row\n# df.iloc[i]  # (i+1)the row\n# df.iloc[0]  # First columns\n# df.iloc[:, -1]  # last column\n# df.iloc[:, 0:2]  # First 2 columns\n# df.iloc[1: 3, 0: 2]  # Second through third rows and first 2 columns\n# df.iloc[[0, 5], [1, 3]]  # 1st and 6th rows and 2nd and 4th columns",
      "execution_count": 98,
      "outputs": [
        {
          "output_type": "execute_result",
          "execution_count": 98,
          "data": {
            "text/html": "<div>\n<style scoped>\n    .dataframe tbody tr th:only-of-type {\n        vertical-align: middle;\n    }\n\n    .dataframe tbody tr th {\n        vertical-align: top;\n    }\n\n    .dataframe thead th {\n        text-align: right;\n    }\n</style>\n<table border=\"1\" class=\"dataframe\">\n  <thead>\n    <tr style=\"text-align: right;\">\n      <th></th>\n      <th>ename</th>\n      <th>DOJ</th>\n    </tr>\n  </thead>\n  <tbody>\n    <tr>\n      <th>0</th>\n      <td>Anil</td>\n      <td>NaN</td>\n    </tr>\n    <tr>\n      <th>5</th>\n      <td>Kamal</td>\n      <td>19-Nov-13</td>\n    </tr>\n  </tbody>\n</table>\n</div>",
            "text/plain": "   ename        DOJ\n0   Anil        NaN\n5  Kamal  19-Nov-13"
          },
          "metadata": {}
        }
      ]
    },
    {
      "metadata": {},
      "cell_type": "markdown",
      "source": "## Missing Values"
    },
    {
      "metadata": {
        "trusted": true
      },
      "cell_type": "code",
      "source": "import pandas as pd\nimport numpy as np",
      "execution_count": 1,
      "outputs": []
    },
    {
      "metadata": {
        "trusted": true
      },
      "cell_type": "code",
      "source": "df = pd.read_csv('Emp.csv')",
      "execution_count": 2,
      "outputs": []
    },
    {
      "metadata": {
        "trusted": true
      },
      "cell_type": "code",
      "source": "df.head()",
      "execution_count": 3,
      "outputs": [
        {
          "output_type": "execute_result",
          "execution_count": 3,
          "data": {
            "text/html": "<div>\n<style scoped>\n    .dataframe tbody tr th:only-of-type {\n        vertical-align: middle;\n    }\n\n    .dataframe tbody tr th {\n        vertical-align: top;\n    }\n\n    .dataframe thead th {\n        text-align: right;\n    }\n</style>\n<table border=\"1\" class=\"dataframe\">\n  <thead>\n    <tr style=\"text-align: right;\">\n      <th></th>\n      <th>empno</th>\n      <th>ename</th>\n      <th>job</th>\n      <th>DOJ</th>\n      <th>DOB</th>\n      <th>deptid</th>\n      <th>salary</th>\n    </tr>\n  </thead>\n  <tbody>\n    <tr>\n      <th>0</th>\n      <td>1</td>\n      <td>Anil</td>\n      <td>Clerk</td>\n      <td>NaN</td>\n      <td>NaN</td>\n      <td>NaN</td>\n      <td>NaN</td>\n    </tr>\n    <tr>\n      <th>1</th>\n      <td>2</td>\n      <td>Balkrushna</td>\n      <td>NaN</td>\n      <td>15-Jul-17</td>\n      <td>16-Mar-12</td>\n      <td>10.0</td>\n      <td>10000.0</td>\n    </tr>\n    <tr>\n      <th>2</th>\n      <td>3</td>\n      <td>Mathew</td>\n      <td>Manager</td>\n      <td>16-Mar-12</td>\n      <td>16-Mar-92</td>\n      <td>20.0</td>\n      <td>50000.0</td>\n    </tr>\n    <tr>\n      <th>3</th>\n      <td>4</td>\n      <td>Suhas</td>\n      <td>Manager</td>\n      <td>16-Mar-12</td>\n      <td>17-Mar-91</td>\n      <td>20.0</td>\n      <td>NaN</td>\n    </tr>\n    <tr>\n      <th>4</th>\n      <td>5</td>\n      <td>Vimal</td>\n      <td>Accountant</td>\n      <td>18-Mar-17</td>\n      <td>18-Mar-91</td>\n      <td>20.0</td>\n      <td>45000.0</td>\n    </tr>\n  </tbody>\n</table>\n</div>",
            "text/plain": "   empno       ename         job        DOJ        DOB  deptid   salary\n0      1        Anil       Clerk        NaN        NaN     NaN      NaN\n1      2  Balkrushna         NaN  15-Jul-17  16-Mar-12    10.0  10000.0\n2      3      Mathew     Manager  16-Mar-12  16-Mar-92    20.0  50000.0\n3      4       Suhas     Manager  16-Mar-12  17-Mar-91    20.0      NaN\n4      5       Vimal  Accountant  18-Mar-17  18-Mar-91    20.0  45000.0"
          },
          "metadata": {}
        }
      ]
    },
    {
      "metadata": {
        "trusted": true
      },
      "cell_type": "code",
      "source": "df.isna()  # To check whether there is empty values or not",
      "execution_count": 4,
      "outputs": [
        {
          "output_type": "execute_result",
          "execution_count": 4,
          "data": {
            "text/html": "<div>\n<style scoped>\n    .dataframe tbody tr th:only-of-type {\n        vertical-align: middle;\n    }\n\n    .dataframe tbody tr th {\n        vertical-align: top;\n    }\n\n    .dataframe thead th {\n        text-align: right;\n    }\n</style>\n<table border=\"1\" class=\"dataframe\">\n  <thead>\n    <tr style=\"text-align: right;\">\n      <th></th>\n      <th>empno</th>\n      <th>ename</th>\n      <th>job</th>\n      <th>DOJ</th>\n      <th>DOB</th>\n      <th>deptid</th>\n      <th>salary</th>\n    </tr>\n  </thead>\n  <tbody>\n    <tr>\n      <th>0</th>\n      <td>False</td>\n      <td>False</td>\n      <td>False</td>\n      <td>True</td>\n      <td>True</td>\n      <td>True</td>\n      <td>True</td>\n    </tr>\n    <tr>\n      <th>1</th>\n      <td>False</td>\n      <td>False</td>\n      <td>True</td>\n      <td>False</td>\n      <td>False</td>\n      <td>False</td>\n      <td>False</td>\n    </tr>\n    <tr>\n      <th>2</th>\n      <td>False</td>\n      <td>False</td>\n      <td>False</td>\n      <td>False</td>\n      <td>False</td>\n      <td>False</td>\n      <td>False</td>\n    </tr>\n    <tr>\n      <th>3</th>\n      <td>False</td>\n      <td>False</td>\n      <td>False</td>\n      <td>False</td>\n      <td>False</td>\n      <td>False</td>\n      <td>True</td>\n    </tr>\n    <tr>\n      <th>4</th>\n      <td>False</td>\n      <td>False</td>\n      <td>False</td>\n      <td>False</td>\n      <td>False</td>\n      <td>False</td>\n      <td>False</td>\n    </tr>\n    <tr>\n      <th>5</th>\n      <td>False</td>\n      <td>False</td>\n      <td>False</td>\n      <td>False</td>\n      <td>False</td>\n      <td>False</td>\n      <td>False</td>\n    </tr>\n    <tr>\n      <th>6</th>\n      <td>False</td>\n      <td>False</td>\n      <td>False</td>\n      <td>False</td>\n      <td>False</td>\n      <td>False</td>\n      <td>False</td>\n    </tr>\n    <tr>\n      <th>7</th>\n      <td>False</td>\n      <td>False</td>\n      <td>False</td>\n      <td>False</td>\n      <td>False</td>\n      <td>False</td>\n      <td>False</td>\n    </tr>\n    <tr>\n      <th>8</th>\n      <td>False</td>\n      <td>False</td>\n      <td>False</td>\n      <td>False</td>\n      <td>False</td>\n      <td>True</td>\n      <td>False</td>\n    </tr>\n    <tr>\n      <th>9</th>\n      <td>False</td>\n      <td>False</td>\n      <td>False</td>\n      <td>False</td>\n      <td>False</td>\n      <td>False</td>\n      <td>False</td>\n    </tr>\n    <tr>\n      <th>10</th>\n      <td>False</td>\n      <td>False</td>\n      <td>False</td>\n      <td>False</td>\n      <td>False</td>\n      <td>False</td>\n      <td>False</td>\n    </tr>\n  </tbody>\n</table>\n</div>",
            "text/plain": "    empno  ename    job    DOJ    DOB  deptid  salary\n0   False  False  False   True   True    True    True\n1   False  False   True  False  False   False   False\n2   False  False  False  False  False   False   False\n3   False  False  False  False  False   False    True\n4   False  False  False  False  False   False   False\n5   False  False  False  False  False   False   False\n6   False  False  False  False  False   False   False\n7   False  False  False  False  False   False   False\n8   False  False  False  False  False    True   False\n9   False  False  False  False  False   False   False\n10  False  False  False  False  False   False   False"
          },
          "metadata": {}
        }
      ]
    },
    {
      "metadata": {
        "trusted": true
      },
      "cell_type": "code",
      "source": "df.dropna(thresh = 6)",
      "execution_count": 5,
      "outputs": [
        {
          "output_type": "execute_result",
          "execution_count": 5,
          "data": {
            "text/html": "<div>\n<style scoped>\n    .dataframe tbody tr th:only-of-type {\n        vertical-align: middle;\n    }\n\n    .dataframe tbody tr th {\n        vertical-align: top;\n    }\n\n    .dataframe thead th {\n        text-align: right;\n    }\n</style>\n<table border=\"1\" class=\"dataframe\">\n  <thead>\n    <tr style=\"text-align: right;\">\n      <th></th>\n      <th>empno</th>\n      <th>ename</th>\n      <th>job</th>\n      <th>DOJ</th>\n      <th>DOB</th>\n      <th>deptid</th>\n      <th>salary</th>\n    </tr>\n  </thead>\n  <tbody>\n    <tr>\n      <th>1</th>\n      <td>2</td>\n      <td>Balkrushna</td>\n      <td>NaN</td>\n      <td>15-Jul-17</td>\n      <td>16-Mar-12</td>\n      <td>10.0</td>\n      <td>10000.0</td>\n    </tr>\n    <tr>\n      <th>2</th>\n      <td>3</td>\n      <td>Mathew</td>\n      <td>Manager</td>\n      <td>16-Mar-12</td>\n      <td>16-Mar-92</td>\n      <td>20.0</td>\n      <td>50000.0</td>\n    </tr>\n    <tr>\n      <th>3</th>\n      <td>4</td>\n      <td>Suhas</td>\n      <td>Manager</td>\n      <td>16-Mar-12</td>\n      <td>17-Mar-91</td>\n      <td>20.0</td>\n      <td>NaN</td>\n    </tr>\n    <tr>\n      <th>4</th>\n      <td>5</td>\n      <td>Vimal</td>\n      <td>Accountant</td>\n      <td>18-Mar-17</td>\n      <td>18-Mar-91</td>\n      <td>20.0</td>\n      <td>45000.0</td>\n    </tr>\n    <tr>\n      <th>5</th>\n      <td>6</td>\n      <td>Kamal</td>\n      <td>Accountant</td>\n      <td>19-Nov-13</td>\n      <td>18-Mar-91</td>\n      <td>20.0</td>\n      <td>45000.0</td>\n    </tr>\n    <tr>\n      <th>6</th>\n      <td>7</td>\n      <td>Nanda</td>\n      <td>Manager</td>\n      <td>20-Mar-12</td>\n      <td>20-Jan-97</td>\n      <td>20.0</td>\n      <td>52000.0</td>\n    </tr>\n    <tr>\n      <th>7</th>\n      <td>8</td>\n      <td>Khushi</td>\n      <td>Manager</td>\n      <td>21-Mar-12</td>\n      <td>21-Jun-94</td>\n      <td>20.0</td>\n      <td>56000.0</td>\n    </tr>\n    <tr>\n      <th>8</th>\n      <td>9</td>\n      <td>Sayee</td>\n      <td>Cleark</td>\n      <td>16-Mar-12</td>\n      <td>22-Aug-98</td>\n      <td>NaN</td>\n      <td>21000.0</td>\n    </tr>\n    <tr>\n      <th>9</th>\n      <td>10</td>\n      <td>Sakhi</td>\n      <td>Accountant</td>\n      <td>23-Mar-12</td>\n      <td>14-Mar-91</td>\n      <td>30.0</td>\n      <td>46000.0</td>\n    </tr>\n    <tr>\n      <th>10</th>\n      <td>11</td>\n      <td>Soniya</td>\n      <td>Accountant</td>\n      <td>24-Mar-14</td>\n      <td>24-Mar-91</td>\n      <td>30.0</td>\n      <td>47000.0</td>\n    </tr>\n  </tbody>\n</table>\n</div>",
            "text/plain": "    empno       ename         job        DOJ        DOB  deptid   salary\n1       2  Balkrushna         NaN  15-Jul-17  16-Mar-12    10.0  10000.0\n2       3      Mathew     Manager  16-Mar-12  16-Mar-92    20.0  50000.0\n3       4       Suhas     Manager  16-Mar-12  17-Mar-91    20.0      NaN\n4       5       Vimal  Accountant  18-Mar-17  18-Mar-91    20.0  45000.0\n5       6       Kamal  Accountant  19-Nov-13  18-Mar-91    20.0  45000.0\n6       7       Nanda     Manager  20-Mar-12  20-Jan-97    20.0  52000.0\n7       8      Khushi     Manager  21-Mar-12  21-Jun-94    20.0  56000.0\n8       9       Sayee      Cleark  16-Mar-12  22-Aug-98     NaN  21000.0\n9      10       Sakhi  Accountant  23-Mar-12  14-Mar-91    30.0  46000.0\n10     11      Soniya  Accountant  24-Mar-14  24-Mar-91    30.0  47000.0"
          },
          "metadata": {}
        }
      ]
    },
    {
      "metadata": {
        "trusted": true
      },
      "cell_type": "code",
      "source": "df.fillna(0)  # Filling the nan with 0",
      "execution_count": 6,
      "outputs": [
        {
          "output_type": "execute_result",
          "execution_count": 6,
          "data": {
            "text/html": "<div>\n<style scoped>\n    .dataframe tbody tr th:only-of-type {\n        vertical-align: middle;\n    }\n\n    .dataframe tbody tr th {\n        vertical-align: top;\n    }\n\n    .dataframe thead th {\n        text-align: right;\n    }\n</style>\n<table border=\"1\" class=\"dataframe\">\n  <thead>\n    <tr style=\"text-align: right;\">\n      <th></th>\n      <th>empno</th>\n      <th>ename</th>\n      <th>job</th>\n      <th>DOJ</th>\n      <th>DOB</th>\n      <th>deptid</th>\n      <th>salary</th>\n    </tr>\n  </thead>\n  <tbody>\n    <tr>\n      <th>0</th>\n      <td>1</td>\n      <td>Anil</td>\n      <td>Clerk</td>\n      <td>0</td>\n      <td>0</td>\n      <td>0.0</td>\n      <td>0.0</td>\n    </tr>\n    <tr>\n      <th>1</th>\n      <td>2</td>\n      <td>Balkrushna</td>\n      <td>0</td>\n      <td>15-Jul-17</td>\n      <td>16-Mar-12</td>\n      <td>10.0</td>\n      <td>10000.0</td>\n    </tr>\n    <tr>\n      <th>2</th>\n      <td>3</td>\n      <td>Mathew</td>\n      <td>Manager</td>\n      <td>16-Mar-12</td>\n      <td>16-Mar-92</td>\n      <td>20.0</td>\n      <td>50000.0</td>\n    </tr>\n    <tr>\n      <th>3</th>\n      <td>4</td>\n      <td>Suhas</td>\n      <td>Manager</td>\n      <td>16-Mar-12</td>\n      <td>17-Mar-91</td>\n      <td>20.0</td>\n      <td>0.0</td>\n    </tr>\n    <tr>\n      <th>4</th>\n      <td>5</td>\n      <td>Vimal</td>\n      <td>Accountant</td>\n      <td>18-Mar-17</td>\n      <td>18-Mar-91</td>\n      <td>20.0</td>\n      <td>45000.0</td>\n    </tr>\n    <tr>\n      <th>5</th>\n      <td>6</td>\n      <td>Kamal</td>\n      <td>Accountant</td>\n      <td>19-Nov-13</td>\n      <td>18-Mar-91</td>\n      <td>20.0</td>\n      <td>45000.0</td>\n    </tr>\n    <tr>\n      <th>6</th>\n      <td>7</td>\n      <td>Nanda</td>\n      <td>Manager</td>\n      <td>20-Mar-12</td>\n      <td>20-Jan-97</td>\n      <td>20.0</td>\n      <td>52000.0</td>\n    </tr>\n    <tr>\n      <th>7</th>\n      <td>8</td>\n      <td>Khushi</td>\n      <td>Manager</td>\n      <td>21-Mar-12</td>\n      <td>21-Jun-94</td>\n      <td>20.0</td>\n      <td>56000.0</td>\n    </tr>\n    <tr>\n      <th>8</th>\n      <td>9</td>\n      <td>Sayee</td>\n      <td>Cleark</td>\n      <td>16-Mar-12</td>\n      <td>22-Aug-98</td>\n      <td>0.0</td>\n      <td>21000.0</td>\n    </tr>\n    <tr>\n      <th>9</th>\n      <td>10</td>\n      <td>Sakhi</td>\n      <td>Accountant</td>\n      <td>23-Mar-12</td>\n      <td>14-Mar-91</td>\n      <td>30.0</td>\n      <td>46000.0</td>\n    </tr>\n    <tr>\n      <th>10</th>\n      <td>11</td>\n      <td>Soniya</td>\n      <td>Accountant</td>\n      <td>24-Mar-14</td>\n      <td>24-Mar-91</td>\n      <td>30.0</td>\n      <td>47000.0</td>\n    </tr>\n  </tbody>\n</table>\n</div>",
            "text/plain": "    empno       ename         job        DOJ        DOB  deptid   salary\n0       1        Anil       Clerk          0          0     0.0      0.0\n1       2  Balkrushna           0  15-Jul-17  16-Mar-12    10.0  10000.0\n2       3      Mathew     Manager  16-Mar-12  16-Mar-92    20.0  50000.0\n3       4       Suhas     Manager  16-Mar-12  17-Mar-91    20.0      0.0\n4       5       Vimal  Accountant  18-Mar-17  18-Mar-91    20.0  45000.0\n5       6       Kamal  Accountant  19-Nov-13  18-Mar-91    20.0  45000.0\n6       7       Nanda     Manager  20-Mar-12  20-Jan-97    20.0  52000.0\n7       8      Khushi     Manager  21-Mar-12  21-Jun-94    20.0  56000.0\n8       9       Sayee      Cleark  16-Mar-12  22-Aug-98     0.0  21000.0\n9      10       Sakhi  Accountant  23-Mar-12  14-Mar-91    30.0  46000.0\n10     11      Soniya  Accountant  24-Mar-14  24-Mar-91    30.0  47000.0"
          },
          "metadata": {}
        }
      ]
    },
    {
      "metadata": {
        "trusted": true
      },
      "cell_type": "code",
      "source": "df.isna()",
      "execution_count": 7,
      "outputs": [
        {
          "output_type": "execute_result",
          "execution_count": 7,
          "data": {
            "text/html": "<div>\n<style scoped>\n    .dataframe tbody tr th:only-of-type {\n        vertical-align: middle;\n    }\n\n    .dataframe tbody tr th {\n        vertical-align: top;\n    }\n\n    .dataframe thead th {\n        text-align: right;\n    }\n</style>\n<table border=\"1\" class=\"dataframe\">\n  <thead>\n    <tr style=\"text-align: right;\">\n      <th></th>\n      <th>empno</th>\n      <th>ename</th>\n      <th>job</th>\n      <th>DOJ</th>\n      <th>DOB</th>\n      <th>deptid</th>\n      <th>salary</th>\n    </tr>\n  </thead>\n  <tbody>\n    <tr>\n      <th>0</th>\n      <td>False</td>\n      <td>False</td>\n      <td>False</td>\n      <td>True</td>\n      <td>True</td>\n      <td>True</td>\n      <td>True</td>\n    </tr>\n    <tr>\n      <th>1</th>\n      <td>False</td>\n      <td>False</td>\n      <td>True</td>\n      <td>False</td>\n      <td>False</td>\n      <td>False</td>\n      <td>False</td>\n    </tr>\n    <tr>\n      <th>2</th>\n      <td>False</td>\n      <td>False</td>\n      <td>False</td>\n      <td>False</td>\n      <td>False</td>\n      <td>False</td>\n      <td>False</td>\n    </tr>\n    <tr>\n      <th>3</th>\n      <td>False</td>\n      <td>False</td>\n      <td>False</td>\n      <td>False</td>\n      <td>False</td>\n      <td>False</td>\n      <td>True</td>\n    </tr>\n    <tr>\n      <th>4</th>\n      <td>False</td>\n      <td>False</td>\n      <td>False</td>\n      <td>False</td>\n      <td>False</td>\n      <td>False</td>\n      <td>False</td>\n    </tr>\n    <tr>\n      <th>5</th>\n      <td>False</td>\n      <td>False</td>\n      <td>False</td>\n      <td>False</td>\n      <td>False</td>\n      <td>False</td>\n      <td>False</td>\n    </tr>\n    <tr>\n      <th>6</th>\n      <td>False</td>\n      <td>False</td>\n      <td>False</td>\n      <td>False</td>\n      <td>False</td>\n      <td>False</td>\n      <td>False</td>\n    </tr>\n    <tr>\n      <th>7</th>\n      <td>False</td>\n      <td>False</td>\n      <td>False</td>\n      <td>False</td>\n      <td>False</td>\n      <td>False</td>\n      <td>False</td>\n    </tr>\n    <tr>\n      <th>8</th>\n      <td>False</td>\n      <td>False</td>\n      <td>False</td>\n      <td>False</td>\n      <td>False</td>\n      <td>True</td>\n      <td>False</td>\n    </tr>\n    <tr>\n      <th>9</th>\n      <td>False</td>\n      <td>False</td>\n      <td>False</td>\n      <td>False</td>\n      <td>False</td>\n      <td>False</td>\n      <td>False</td>\n    </tr>\n    <tr>\n      <th>10</th>\n      <td>False</td>\n      <td>False</td>\n      <td>False</td>\n      <td>False</td>\n      <td>False</td>\n      <td>False</td>\n      <td>False</td>\n    </tr>\n  </tbody>\n</table>\n</div>",
            "text/plain": "    empno  ename    job    DOJ    DOB  deptid  salary\n0   False  False  False   True   True    True    True\n1   False  False   True  False  False   False   False\n2   False  False  False  False  False   False   False\n3   False  False  False  False  False   False    True\n4   False  False  False  False  False   False   False\n5   False  False  False  False  False   False   False\n6   False  False  False  False  False   False   False\n7   False  False  False  False  False   False   False\n8   False  False  False  False  False    True   False\n9   False  False  False  False  False   False   False\n10  False  False  False  False  False   False   False"
          },
          "metadata": {}
        }
      ]
    },
    {
      "metadata": {
        "trusted": true
      },
      "cell_type": "code",
      "source": "df['deptid'].fillna(0)  # apply fillna to specific column",
      "execution_count": 8,
      "outputs": [
        {
          "output_type": "execute_result",
          "execution_count": 8,
          "data": {
            "text/plain": "0      0.0\n1     10.0\n2     20.0\n3     20.0\n4     20.0\n5     20.0\n6     20.0\n7     20.0\n8      0.0\n9     30.0\n10    30.0\nName: deptid, dtype: float64"
          },
          "metadata": {}
        }
      ]
    },
    {
      "metadata": {
        "trusted": true
      },
      "cell_type": "code",
      "source": "df",
      "execution_count": 9,
      "outputs": [
        {
          "output_type": "execute_result",
          "execution_count": 9,
          "data": {
            "text/html": "<div>\n<style scoped>\n    .dataframe tbody tr th:only-of-type {\n        vertical-align: middle;\n    }\n\n    .dataframe tbody tr th {\n        vertical-align: top;\n    }\n\n    .dataframe thead th {\n        text-align: right;\n    }\n</style>\n<table border=\"1\" class=\"dataframe\">\n  <thead>\n    <tr style=\"text-align: right;\">\n      <th></th>\n      <th>empno</th>\n      <th>ename</th>\n      <th>job</th>\n      <th>DOJ</th>\n      <th>DOB</th>\n      <th>deptid</th>\n      <th>salary</th>\n    </tr>\n  </thead>\n  <tbody>\n    <tr>\n      <th>0</th>\n      <td>1</td>\n      <td>Anil</td>\n      <td>Clerk</td>\n      <td>NaN</td>\n      <td>NaN</td>\n      <td>NaN</td>\n      <td>NaN</td>\n    </tr>\n    <tr>\n      <th>1</th>\n      <td>2</td>\n      <td>Balkrushna</td>\n      <td>NaN</td>\n      <td>15-Jul-17</td>\n      <td>16-Mar-12</td>\n      <td>10.0</td>\n      <td>10000.0</td>\n    </tr>\n    <tr>\n      <th>2</th>\n      <td>3</td>\n      <td>Mathew</td>\n      <td>Manager</td>\n      <td>16-Mar-12</td>\n      <td>16-Mar-92</td>\n      <td>20.0</td>\n      <td>50000.0</td>\n    </tr>\n    <tr>\n      <th>3</th>\n      <td>4</td>\n      <td>Suhas</td>\n      <td>Manager</td>\n      <td>16-Mar-12</td>\n      <td>17-Mar-91</td>\n      <td>20.0</td>\n      <td>NaN</td>\n    </tr>\n    <tr>\n      <th>4</th>\n      <td>5</td>\n      <td>Vimal</td>\n      <td>Accountant</td>\n      <td>18-Mar-17</td>\n      <td>18-Mar-91</td>\n      <td>20.0</td>\n      <td>45000.0</td>\n    </tr>\n    <tr>\n      <th>5</th>\n      <td>6</td>\n      <td>Kamal</td>\n      <td>Accountant</td>\n      <td>19-Nov-13</td>\n      <td>18-Mar-91</td>\n      <td>20.0</td>\n      <td>45000.0</td>\n    </tr>\n    <tr>\n      <th>6</th>\n      <td>7</td>\n      <td>Nanda</td>\n      <td>Manager</td>\n      <td>20-Mar-12</td>\n      <td>20-Jan-97</td>\n      <td>20.0</td>\n      <td>52000.0</td>\n    </tr>\n    <tr>\n      <th>7</th>\n      <td>8</td>\n      <td>Khushi</td>\n      <td>Manager</td>\n      <td>21-Mar-12</td>\n      <td>21-Jun-94</td>\n      <td>20.0</td>\n      <td>56000.0</td>\n    </tr>\n    <tr>\n      <th>8</th>\n      <td>9</td>\n      <td>Sayee</td>\n      <td>Cleark</td>\n      <td>16-Mar-12</td>\n      <td>22-Aug-98</td>\n      <td>NaN</td>\n      <td>21000.0</td>\n    </tr>\n    <tr>\n      <th>9</th>\n      <td>10</td>\n      <td>Sakhi</td>\n      <td>Accountant</td>\n      <td>23-Mar-12</td>\n      <td>14-Mar-91</td>\n      <td>30.0</td>\n      <td>46000.0</td>\n    </tr>\n    <tr>\n      <th>10</th>\n      <td>11</td>\n      <td>Soniya</td>\n      <td>Accountant</td>\n      <td>24-Mar-14</td>\n      <td>24-Mar-91</td>\n      <td>30.0</td>\n      <td>47000.0</td>\n    </tr>\n  </tbody>\n</table>\n</div>",
            "text/plain": "    empno       ename         job        DOJ        DOB  deptid   salary\n0       1        Anil       Clerk        NaN        NaN     NaN      NaN\n1       2  Balkrushna         NaN  15-Jul-17  16-Mar-12    10.0  10000.0\n2       3      Mathew     Manager  16-Mar-12  16-Mar-92    20.0  50000.0\n3       4       Suhas     Manager  16-Mar-12  17-Mar-91    20.0      NaN\n4       5       Vimal  Accountant  18-Mar-17  18-Mar-91    20.0  45000.0\n5       6       Kamal  Accountant  19-Nov-13  18-Mar-91    20.0  45000.0\n6       7       Nanda     Manager  20-Mar-12  20-Jan-97    20.0  52000.0\n7       8      Khushi     Manager  21-Mar-12  21-Jun-94    20.0  56000.0\n8       9       Sayee      Cleark  16-Mar-12  22-Aug-98     NaN  21000.0\n9      10       Sakhi  Accountant  23-Mar-12  14-Mar-91    30.0  46000.0\n10     11      Soniya  Accountant  24-Mar-14  24-Mar-91    30.0  47000.0"
          },
          "metadata": {}
        }
      ]
    },
    {
      "metadata": {
        "trusted": true
      },
      "cell_type": "code",
      "source": "df['salary'].ffill() # Fill it with the next missing value\n# Forward Fill and Backward Fill",
      "execution_count": 10,
      "outputs": [
        {
          "output_type": "execute_result",
          "execution_count": 10,
          "data": {
            "text/plain": "0         NaN\n1     10000.0\n2     50000.0\n3     50000.0\n4     45000.0\n5     45000.0\n6     52000.0\n7     56000.0\n8     21000.0\n9     46000.0\n10    47000.0\nName: salary, dtype: float64"
          },
          "metadata": {}
        }
      ]
    },
    {
      "metadata": {
        "trusted": true
      },
      "cell_type": "code",
      "source": "# Backward fill\ndf['deptid'].bfill()  # fill it with value that came before the empty value",
      "execution_count": 11,
      "outputs": [
        {
          "output_type": "execute_result",
          "execution_count": 11,
          "data": {
            "text/plain": "0     10.0\n1     10.0\n2     20.0\n3     20.0\n4     20.0\n5     20.0\n6     20.0\n7     20.0\n8     30.0\n9     30.0\n10    30.0\nName: deptid, dtype: float64"
          },
          "metadata": {}
        }
      ]
    },
    {
      "metadata": {
        "trusted": true
      },
      "cell_type": "code",
      "source": "# Drops the duplicated values from the dataset\ndf.drop_duplicates() ",
      "execution_count": 12,
      "outputs": [
        {
          "output_type": "execute_result",
          "execution_count": 12,
          "data": {
            "text/html": "<div>\n<style scoped>\n    .dataframe tbody tr th:only-of-type {\n        vertical-align: middle;\n    }\n\n    .dataframe tbody tr th {\n        vertical-align: top;\n    }\n\n    .dataframe thead th {\n        text-align: right;\n    }\n</style>\n<table border=\"1\" class=\"dataframe\">\n  <thead>\n    <tr style=\"text-align: right;\">\n      <th></th>\n      <th>empno</th>\n      <th>ename</th>\n      <th>job</th>\n      <th>DOJ</th>\n      <th>DOB</th>\n      <th>deptid</th>\n      <th>salary</th>\n    </tr>\n  </thead>\n  <tbody>\n    <tr>\n      <th>0</th>\n      <td>1</td>\n      <td>Anil</td>\n      <td>Clerk</td>\n      <td>NaN</td>\n      <td>NaN</td>\n      <td>NaN</td>\n      <td>NaN</td>\n    </tr>\n    <tr>\n      <th>1</th>\n      <td>2</td>\n      <td>Balkrushna</td>\n      <td>NaN</td>\n      <td>15-Jul-17</td>\n      <td>16-Mar-12</td>\n      <td>10.0</td>\n      <td>10000.0</td>\n    </tr>\n    <tr>\n      <th>2</th>\n      <td>3</td>\n      <td>Mathew</td>\n      <td>Manager</td>\n      <td>16-Mar-12</td>\n      <td>16-Mar-92</td>\n      <td>20.0</td>\n      <td>50000.0</td>\n    </tr>\n    <tr>\n      <th>3</th>\n      <td>4</td>\n      <td>Suhas</td>\n      <td>Manager</td>\n      <td>16-Mar-12</td>\n      <td>17-Mar-91</td>\n      <td>20.0</td>\n      <td>NaN</td>\n    </tr>\n    <tr>\n      <th>4</th>\n      <td>5</td>\n      <td>Vimal</td>\n      <td>Accountant</td>\n      <td>18-Mar-17</td>\n      <td>18-Mar-91</td>\n      <td>20.0</td>\n      <td>45000.0</td>\n    </tr>\n    <tr>\n      <th>5</th>\n      <td>6</td>\n      <td>Kamal</td>\n      <td>Accountant</td>\n      <td>19-Nov-13</td>\n      <td>18-Mar-91</td>\n      <td>20.0</td>\n      <td>45000.0</td>\n    </tr>\n    <tr>\n      <th>6</th>\n      <td>7</td>\n      <td>Nanda</td>\n      <td>Manager</td>\n      <td>20-Mar-12</td>\n      <td>20-Jan-97</td>\n      <td>20.0</td>\n      <td>52000.0</td>\n    </tr>\n    <tr>\n      <th>7</th>\n      <td>8</td>\n      <td>Khushi</td>\n      <td>Manager</td>\n      <td>21-Mar-12</td>\n      <td>21-Jun-94</td>\n      <td>20.0</td>\n      <td>56000.0</td>\n    </tr>\n    <tr>\n      <th>8</th>\n      <td>9</td>\n      <td>Sayee</td>\n      <td>Cleark</td>\n      <td>16-Mar-12</td>\n      <td>22-Aug-98</td>\n      <td>NaN</td>\n      <td>21000.0</td>\n    </tr>\n    <tr>\n      <th>9</th>\n      <td>10</td>\n      <td>Sakhi</td>\n      <td>Accountant</td>\n      <td>23-Mar-12</td>\n      <td>14-Mar-91</td>\n      <td>30.0</td>\n      <td>46000.0</td>\n    </tr>\n    <tr>\n      <th>10</th>\n      <td>11</td>\n      <td>Soniya</td>\n      <td>Accountant</td>\n      <td>24-Mar-14</td>\n      <td>24-Mar-91</td>\n      <td>30.0</td>\n      <td>47000.0</td>\n    </tr>\n  </tbody>\n</table>\n</div>",
            "text/plain": "    empno       ename         job        DOJ        DOB  deptid   salary\n0       1        Anil       Clerk        NaN        NaN     NaN      NaN\n1       2  Balkrushna         NaN  15-Jul-17  16-Mar-12    10.0  10000.0\n2       3      Mathew     Manager  16-Mar-12  16-Mar-92    20.0  50000.0\n3       4       Suhas     Manager  16-Mar-12  17-Mar-91    20.0      NaN\n4       5       Vimal  Accountant  18-Mar-17  18-Mar-91    20.0  45000.0\n5       6       Kamal  Accountant  19-Nov-13  18-Mar-91    20.0  45000.0\n6       7       Nanda     Manager  20-Mar-12  20-Jan-97    20.0  52000.0\n7       8      Khushi     Manager  21-Mar-12  21-Jun-94    20.0  56000.0\n8       9       Sayee      Cleark  16-Mar-12  22-Aug-98     NaN  21000.0\n9      10       Sakhi  Accountant  23-Mar-12  14-Mar-91    30.0  46000.0\n10     11      Soniya  Accountant  24-Mar-14  24-Mar-91    30.0  47000.0"
          },
          "metadata": {}
        }
      ]
    },
    {
      "metadata": {},
      "cell_type": "markdown",
      "source": "## Imputer Class in sklearn"
    },
    {
      "metadata": {
        "trusted": true
      },
      "cell_type": "code",
      "source": "import numpy as np\n# Importing the SimpleImputer class\nfrom sklearn.impute import SimpleImputer\n\n# Imputer object using the mean strategy and \n# missing_values type for imputation\n\nimputer = SimpleImputer(missing_values = np.nan,\n                       strategy = 'mean')\ndata = [[12, np.nan, 34], [10, 32, np.nan], [np.nan, 11, 20]]\n\nprint(\"Original Data : \\n\", data)\n# Fitting the data to the imputer object\nimputer = imputer.fit(data)\n# Imputing the data\ndata = imputer.transform(data)\nprint(\"Imputed Data: \\n\", data)\n\n# object --> fit --> transform",
      "execution_count": 13,
      "outputs": [
        {
          "output_type": "stream",
          "text": "Original Data : \n [[12, nan, 34], [10, 32, nan], [nan, 11, 20]]\nImputed Data: \n [[12.  21.5 34. ]\n [10.  32.  27. ]\n [11.  11.  20. ]]\n",
          "name": "stdout"
        }
      ]
    },
    {
      "metadata": {
        "trusted": true
      },
      "cell_type": "code",
      "source": "df",
      "execution_count": 14,
      "outputs": [
        {
          "output_type": "execute_result",
          "execution_count": 14,
          "data": {
            "text/html": "<div>\n<style scoped>\n    .dataframe tbody tr th:only-of-type {\n        vertical-align: middle;\n    }\n\n    .dataframe tbody tr th {\n        vertical-align: top;\n    }\n\n    .dataframe thead th {\n        text-align: right;\n    }\n</style>\n<table border=\"1\" class=\"dataframe\">\n  <thead>\n    <tr style=\"text-align: right;\">\n      <th></th>\n      <th>empno</th>\n      <th>ename</th>\n      <th>job</th>\n      <th>DOJ</th>\n      <th>DOB</th>\n      <th>deptid</th>\n      <th>salary</th>\n    </tr>\n  </thead>\n  <tbody>\n    <tr>\n      <th>0</th>\n      <td>1</td>\n      <td>Anil</td>\n      <td>Clerk</td>\n      <td>NaN</td>\n      <td>NaN</td>\n      <td>NaN</td>\n      <td>NaN</td>\n    </tr>\n    <tr>\n      <th>1</th>\n      <td>2</td>\n      <td>Balkrushna</td>\n      <td>NaN</td>\n      <td>15-Jul-17</td>\n      <td>16-Mar-12</td>\n      <td>10.0</td>\n      <td>10000.0</td>\n    </tr>\n    <tr>\n      <th>2</th>\n      <td>3</td>\n      <td>Mathew</td>\n      <td>Manager</td>\n      <td>16-Mar-12</td>\n      <td>16-Mar-92</td>\n      <td>20.0</td>\n      <td>50000.0</td>\n    </tr>\n    <tr>\n      <th>3</th>\n      <td>4</td>\n      <td>Suhas</td>\n      <td>Manager</td>\n      <td>16-Mar-12</td>\n      <td>17-Mar-91</td>\n      <td>20.0</td>\n      <td>NaN</td>\n    </tr>\n    <tr>\n      <th>4</th>\n      <td>5</td>\n      <td>Vimal</td>\n      <td>Accountant</td>\n      <td>18-Mar-17</td>\n      <td>18-Mar-91</td>\n      <td>20.0</td>\n      <td>45000.0</td>\n    </tr>\n    <tr>\n      <th>5</th>\n      <td>6</td>\n      <td>Kamal</td>\n      <td>Accountant</td>\n      <td>19-Nov-13</td>\n      <td>18-Mar-91</td>\n      <td>20.0</td>\n      <td>45000.0</td>\n    </tr>\n    <tr>\n      <th>6</th>\n      <td>7</td>\n      <td>Nanda</td>\n      <td>Manager</td>\n      <td>20-Mar-12</td>\n      <td>20-Jan-97</td>\n      <td>20.0</td>\n      <td>52000.0</td>\n    </tr>\n    <tr>\n      <th>7</th>\n      <td>8</td>\n      <td>Khushi</td>\n      <td>Manager</td>\n      <td>21-Mar-12</td>\n      <td>21-Jun-94</td>\n      <td>20.0</td>\n      <td>56000.0</td>\n    </tr>\n    <tr>\n      <th>8</th>\n      <td>9</td>\n      <td>Sayee</td>\n      <td>Cleark</td>\n      <td>16-Mar-12</td>\n      <td>22-Aug-98</td>\n      <td>NaN</td>\n      <td>21000.0</td>\n    </tr>\n    <tr>\n      <th>9</th>\n      <td>10</td>\n      <td>Sakhi</td>\n      <td>Accountant</td>\n      <td>23-Mar-12</td>\n      <td>14-Mar-91</td>\n      <td>30.0</td>\n      <td>46000.0</td>\n    </tr>\n    <tr>\n      <th>10</th>\n      <td>11</td>\n      <td>Soniya</td>\n      <td>Accountant</td>\n      <td>24-Mar-14</td>\n      <td>24-Mar-91</td>\n      <td>30.0</td>\n      <td>47000.0</td>\n    </tr>\n  </tbody>\n</table>\n</div>",
            "text/plain": "    empno       ename         job        DOJ        DOB  deptid   salary\n0       1        Anil       Clerk        NaN        NaN     NaN      NaN\n1       2  Balkrushna         NaN  15-Jul-17  16-Mar-12    10.0  10000.0\n2       3      Mathew     Manager  16-Mar-12  16-Mar-92    20.0  50000.0\n3       4       Suhas     Manager  16-Mar-12  17-Mar-91    20.0      NaN\n4       5       Vimal  Accountant  18-Mar-17  18-Mar-91    20.0  45000.0\n5       6       Kamal  Accountant  19-Nov-13  18-Mar-91    20.0  45000.0\n6       7       Nanda     Manager  20-Mar-12  20-Jan-97    20.0  52000.0\n7       8      Khushi     Manager  21-Mar-12  21-Jun-94    20.0  56000.0\n8       9       Sayee      Cleark  16-Mar-12  22-Aug-98     NaN  21000.0\n9      10       Sakhi  Accountant  23-Mar-12  14-Mar-91    30.0  46000.0\n10     11      Soniya  Accountant  24-Mar-14  24-Mar-91    30.0  47000.0"
          },
          "metadata": {}
        }
      ]
    },
    {
      "metadata": {},
      "cell_type": "markdown",
      "source": "## Pima-Diabetes Dataset"
    },
    {
      "metadata": {
        "trusted": true,
        "scrolled": true
      },
      "cell_type": "code",
      "source": "dataset = pd.read_csv('pima-indians-diabetes.csv', header = None)\ndataset.head(20)",
      "execution_count": 15,
      "outputs": [
        {
          "output_type": "execute_result",
          "execution_count": 15,
          "data": {
            "text/html": "<div>\n<style scoped>\n    .dataframe tbody tr th:only-of-type {\n        vertical-align: middle;\n    }\n\n    .dataframe tbody tr th {\n        vertical-align: top;\n    }\n\n    .dataframe thead th {\n        text-align: right;\n    }\n</style>\n<table border=\"1\" class=\"dataframe\">\n  <thead>\n    <tr style=\"text-align: right;\">\n      <th></th>\n      <th>0</th>\n      <th>1</th>\n      <th>2</th>\n      <th>3</th>\n      <th>4</th>\n      <th>5</th>\n      <th>6</th>\n      <th>7</th>\n      <th>8</th>\n    </tr>\n  </thead>\n  <tbody>\n    <tr>\n      <th>0</th>\n      <td>6</td>\n      <td>148</td>\n      <td>72</td>\n      <td>35</td>\n      <td>0</td>\n      <td>33.6</td>\n      <td>0.627</td>\n      <td>50</td>\n      <td>1</td>\n    </tr>\n    <tr>\n      <th>1</th>\n      <td>1</td>\n      <td>85</td>\n      <td>66</td>\n      <td>29</td>\n      <td>0</td>\n      <td>26.6</td>\n      <td>0.351</td>\n      <td>31</td>\n      <td>0</td>\n    </tr>\n    <tr>\n      <th>2</th>\n      <td>8</td>\n      <td>183</td>\n      <td>64</td>\n      <td>0</td>\n      <td>0</td>\n      <td>23.3</td>\n      <td>0.672</td>\n      <td>32</td>\n      <td>1</td>\n    </tr>\n    <tr>\n      <th>3</th>\n      <td>1</td>\n      <td>89</td>\n      <td>66</td>\n      <td>23</td>\n      <td>94</td>\n      <td>28.1</td>\n      <td>0.167</td>\n      <td>21</td>\n      <td>0</td>\n    </tr>\n    <tr>\n      <th>4</th>\n      <td>0</td>\n      <td>137</td>\n      <td>40</td>\n      <td>35</td>\n      <td>168</td>\n      <td>43.1</td>\n      <td>2.288</td>\n      <td>33</td>\n      <td>1</td>\n    </tr>\n    <tr>\n      <th>5</th>\n      <td>5</td>\n      <td>116</td>\n      <td>74</td>\n      <td>0</td>\n      <td>0</td>\n      <td>25.6</td>\n      <td>0.201</td>\n      <td>30</td>\n      <td>0</td>\n    </tr>\n    <tr>\n      <th>6</th>\n      <td>3</td>\n      <td>78</td>\n      <td>50</td>\n      <td>32</td>\n      <td>88</td>\n      <td>31.0</td>\n      <td>0.248</td>\n      <td>26</td>\n      <td>1</td>\n    </tr>\n    <tr>\n      <th>7</th>\n      <td>10</td>\n      <td>115</td>\n      <td>0</td>\n      <td>0</td>\n      <td>0</td>\n      <td>35.3</td>\n      <td>0.134</td>\n      <td>29</td>\n      <td>0</td>\n    </tr>\n    <tr>\n      <th>8</th>\n      <td>2</td>\n      <td>197</td>\n      <td>70</td>\n      <td>45</td>\n      <td>543</td>\n      <td>30.5</td>\n      <td>0.158</td>\n      <td>53</td>\n      <td>1</td>\n    </tr>\n    <tr>\n      <th>9</th>\n      <td>8</td>\n      <td>125</td>\n      <td>96</td>\n      <td>0</td>\n      <td>0</td>\n      <td>0.0</td>\n      <td>0.232</td>\n      <td>54</td>\n      <td>1</td>\n    </tr>\n    <tr>\n      <th>10</th>\n      <td>4</td>\n      <td>110</td>\n      <td>92</td>\n      <td>0</td>\n      <td>0</td>\n      <td>37.6</td>\n      <td>0.191</td>\n      <td>30</td>\n      <td>0</td>\n    </tr>\n    <tr>\n      <th>11</th>\n      <td>10</td>\n      <td>168</td>\n      <td>74</td>\n      <td>0</td>\n      <td>0</td>\n      <td>38.0</td>\n      <td>0.537</td>\n      <td>34</td>\n      <td>1</td>\n    </tr>\n    <tr>\n      <th>12</th>\n      <td>10</td>\n      <td>139</td>\n      <td>80</td>\n      <td>0</td>\n      <td>0</td>\n      <td>27.1</td>\n      <td>1.441</td>\n      <td>57</td>\n      <td>0</td>\n    </tr>\n    <tr>\n      <th>13</th>\n      <td>1</td>\n      <td>189</td>\n      <td>60</td>\n      <td>23</td>\n      <td>846</td>\n      <td>30.1</td>\n      <td>0.398</td>\n      <td>59</td>\n      <td>1</td>\n    </tr>\n    <tr>\n      <th>14</th>\n      <td>5</td>\n      <td>166</td>\n      <td>72</td>\n      <td>19</td>\n      <td>175</td>\n      <td>25.8</td>\n      <td>0.587</td>\n      <td>51</td>\n      <td>1</td>\n    </tr>\n    <tr>\n      <th>15</th>\n      <td>7</td>\n      <td>100</td>\n      <td>0</td>\n      <td>0</td>\n      <td>0</td>\n      <td>30.0</td>\n      <td>0.484</td>\n      <td>32</td>\n      <td>1</td>\n    </tr>\n    <tr>\n      <th>16</th>\n      <td>0</td>\n      <td>118</td>\n      <td>84</td>\n      <td>47</td>\n      <td>230</td>\n      <td>45.8</td>\n      <td>0.551</td>\n      <td>31</td>\n      <td>1</td>\n    </tr>\n    <tr>\n      <th>17</th>\n      <td>7</td>\n      <td>107</td>\n      <td>74</td>\n      <td>0</td>\n      <td>0</td>\n      <td>29.6</td>\n      <td>0.254</td>\n      <td>31</td>\n      <td>1</td>\n    </tr>\n    <tr>\n      <th>18</th>\n      <td>1</td>\n      <td>103</td>\n      <td>30</td>\n      <td>38</td>\n      <td>83</td>\n      <td>43.3</td>\n      <td>0.183</td>\n      <td>33</td>\n      <td>0</td>\n    </tr>\n    <tr>\n      <th>19</th>\n      <td>1</td>\n      <td>115</td>\n      <td>70</td>\n      <td>30</td>\n      <td>96</td>\n      <td>34.6</td>\n      <td>0.529</td>\n      <td>32</td>\n      <td>1</td>\n    </tr>\n  </tbody>\n</table>\n</div>",
            "text/plain": "     0    1   2   3    4     5      6   7  8\n0    6  148  72  35    0  33.6  0.627  50  1\n1    1   85  66  29    0  26.6  0.351  31  0\n2    8  183  64   0    0  23.3  0.672  32  1\n3    1   89  66  23   94  28.1  0.167  21  0\n4    0  137  40  35  168  43.1  2.288  33  1\n5    5  116  74   0    0  25.6  0.201  30  0\n6    3   78  50  32   88  31.0  0.248  26  1\n7   10  115   0   0    0  35.3  0.134  29  0\n8    2  197  70  45  543  30.5  0.158  53  1\n9    8  125  96   0    0   0.0  0.232  54  1\n10   4  110  92   0    0  37.6  0.191  30  0\n11  10  168  74   0    0  38.0  0.537  34  1\n12  10  139  80   0    0  27.1  1.441  57  0\n13   1  189  60  23  846  30.1  0.398  59  1\n14   5  166  72  19  175  25.8  0.587  51  1\n15   7  100   0   0    0  30.0  0.484  32  1\n16   0  118  84  47  230  45.8  0.551  31  1\n17   7  107  74   0    0  29.6  0.254  31  1\n18   1  103  30  38   83  43.3  0.183  33  0\n19   1  115  70  30   96  34.6  0.529  32  1"
          },
          "metadata": {}
        }
      ]
    },
    {
      "metadata": {
        "trusted": true
      },
      "cell_type": "code",
      "source": "dataset[[1, 2, 3, 4, 5]] = dataset[[1, 2, 3, 4, 5]].replace(0, np.nan)",
      "execution_count": 68,
      "outputs": []
    },
    {
      "metadata": {
        "trusted": true
      },
      "cell_type": "code",
      "source": "print(dataset.shape)\n# replace '0' values with 'nan'\ndataset[[1, 2, 3, 4, 5]] = dataset[[1, 2, 3, 4, 5]].replace(0, np.nan)\n# drop rows with missing values\ndataset.dropna(inplace=True)\n# summarize the shape of the data with missing rows removed\nprint(dataset.shape)",
      "execution_count": 69,
      "outputs": [
        {
          "output_type": "stream",
          "text": "(392, 9)\n(392, 9)\n",
          "name": "stdout"
        }
      ]
    },
    {
      "metadata": {
        "trusted": true
      },
      "cell_type": "code",
      "source": "dataset[[1, 2, 3, 4, 5]] = dataset[[1, 2, 3, 4, 5]].replace(0, np.nan)\n# fill missing values with mean column values\ndataset.fillna(dataset.mean(), inplace=True)\n# count the number of NaN values in each column\nprint(dataset.isnull().sum())",
      "execution_count": 70,
      "outputs": [
        {
          "output_type": "stream",
          "text": "0    0\n1    0\n2    0\n3    0\n4    0\n5    0\n6    0\n7    0\n8    0\ndtype: int64\n",
          "name": "stdout"
        }
      ]
    },
    {
      "metadata": {
        "trusted": true
      },
      "cell_type": "code",
      "source": "dataset[[1, 2, 3, 4, 5]] = dataset[[1, 2, 3, 4, 5]].replace(0, np.nan)\n# Retrieve the numpy array\nvalues = dataset.values\n# Define the imputer \nimputer = SimpleImputer(missing_values = np.nan, strategy = 'mean')\n# Transform the dataset\ntransformed_values = imputer.fit_transform(values)\n# count the number of Nan values in each column",
      "execution_count": 72,
      "outputs": []
    },
    {
      "metadata": {},
      "cell_type": "markdown",
      "source": "## Normalization (l1, l2)"
    },
    {
      "metadata": {
        "trusted": true
      },
      "cell_type": "code",
      "source": "import numpy as np\n#demo of Normalizer\nfrom sklearn.preprocessing import Normalizer\n#data = np.array([[1.0, 2.0], [2.0, 3.0]])\n\ndata = np.array([[4.0, 8.0], [6.0, 5.0]])\n\nn_max = Normalizer(norm='max')\nprint(n_max.fit_transform(data))\n\nd1 = n_max.fit_transform(data)\n\nprint(data)\n\n# print(d1)",
      "execution_count": 22,
      "outputs": [
        {
          "output_type": "stream",
          "text": "[[0.5        1.        ]\n [1.         0.83333333]]\n[[4. 8.]\n [6. 5.]]\n",
          "name": "stdout"
        }
      ]
    },
    {
      "metadata": {
        "trusted": true
      },
      "cell_type": "code",
      "source": "n_l1 = Normalizer(norm='l1')\nn_l2 = Normalizer(norm='l2')\n\nprint(n_l1.fit_transform(data))\nprint(n_l2.fit_transform(data))",
      "execution_count": 23,
      "outputs": [
        {
          "output_type": "stream",
          "text": "[[0.33333333 0.66666667]\n [0.54545455 0.45454545]]\n[[0.4472136  0.89442719]\n [0.76822128 0.6401844 ]]\n",
          "name": "stdout"
        }
      ]
    },
    {
      "metadata": {
        "trusted": true
      },
      "cell_type": "code",
      "source": "# Removing the columns which do not provide sufficient output\n# Whether the values in the column are suitable or not\nfrom sklearn.feature_selection import VarianceThreshold\nimport numpy as np\nX = np.array([[-3.5077778, -3.45267063, 0.9681903], \n             [-3.82581314, 5.77984646, 1.78926338], \n             [-2.62090281, -4.90597966, 0.277943565]])\n\nvt = VarianceThreshold(threshold=1.5)\nx_t = vt.fit_transform(X)\n\nx_t   # VarianceThreshold",
      "execution_count": 24,
      "outputs": [
        {
          "output_type": "execute_result",
          "execution_count": 24,
          "data": {
            "text/plain": "array([[-3.45267063],\n       [ 5.77984646],\n       [-4.90597966]])"
          },
          "metadata": {}
        }
      ]
    },
    {
      "metadata": {
        "trusted": true
      },
      "cell_type": "code",
      "source": "X = np.array([[0, 2, 0, 3], [0, 1, 4, 3], [0, 1, 1, 3]])\n\nvt = VarianceThreshold(threshold=1.5)\nx_t = vt.fit_transform(X)\n\nprint(x_t)",
      "execution_count": 25,
      "outputs": [
        {
          "output_type": "stream",
          "text": "[[0]\n [4]\n [1]]\n",
          "name": "stdout"
        }
      ]
    },
    {
      "metadata": {},
      "cell_type": "markdown",
      "source": "## Iris Datset (Variance Threshold)"
    },
    {
      "metadata": {
        "trusted": true,
        "scrolled": true
      },
      "cell_type": "code",
      "source": "# Load iris data\nfrom sklearn.datasets import load_iris\n\niris = load_iris()\niris.feature_names",
      "execution_count": 26,
      "outputs": [
        {
          "output_type": "execute_result",
          "execution_count": 26,
          "data": {
            "text/plain": "['sepal length (cm)',\n 'sepal width (cm)',\n 'petal length (cm)',\n 'petal width (cm)']"
          },
          "metadata": {}
        }
      ]
    },
    {
      "metadata": {
        "trusted": true
      },
      "cell_type": "code",
      "source": "iris.target_names",
      "execution_count": 27,
      "outputs": [
        {
          "output_type": "execute_result",
          "execution_count": 27,
          "data": {
            "text/plain": "array(['setosa', 'versicolor', 'virginica'], dtype='<U10')"
          },
          "metadata": {}
        }
      ]
    },
    {
      "metadata": {
        "trusted": true
      },
      "cell_type": "code",
      "source": "# Create features and target\nX = iris.data\ny = iris.target\nX",
      "execution_count": 28,
      "outputs": [
        {
          "output_type": "execute_result",
          "execution_count": 28,
          "data": {
            "text/plain": "array([[5.1, 3.5, 1.4, 0.2],\n       [4.9, 3. , 1.4, 0.2],\n       [4.7, 3.2, 1.3, 0.2],\n       [4.6, 3.1, 1.5, 0.2],\n       [5. , 3.6, 1.4, 0.2],\n       [5.4, 3.9, 1.7, 0.4],\n       [4.6, 3.4, 1.4, 0.3],\n       [5. , 3.4, 1.5, 0.2],\n       [4.4, 2.9, 1.4, 0.2],\n       [4.9, 3.1, 1.5, 0.1],\n       [5.4, 3.7, 1.5, 0.2],\n       [4.8, 3.4, 1.6, 0.2],\n       [4.8, 3. , 1.4, 0.1],\n       [4.3, 3. , 1.1, 0.1],\n       [5.8, 4. , 1.2, 0.2],\n       [5.7, 4.4, 1.5, 0.4],\n       [5.4, 3.9, 1.3, 0.4],\n       [5.1, 3.5, 1.4, 0.3],\n       [5.7, 3.8, 1.7, 0.3],\n       [5.1, 3.8, 1.5, 0.3],\n       [5.4, 3.4, 1.7, 0.2],\n       [5.1, 3.7, 1.5, 0.4],\n       [4.6, 3.6, 1. , 0.2],\n       [5.1, 3.3, 1.7, 0.5],\n       [4.8, 3.4, 1.9, 0.2],\n       [5. , 3. , 1.6, 0.2],\n       [5. , 3.4, 1.6, 0.4],\n       [5.2, 3.5, 1.5, 0.2],\n       [5.2, 3.4, 1.4, 0.2],\n       [4.7, 3.2, 1.6, 0.2],\n       [4.8, 3.1, 1.6, 0.2],\n       [5.4, 3.4, 1.5, 0.4],\n       [5.2, 4.1, 1.5, 0.1],\n       [5.5, 4.2, 1.4, 0.2],\n       [4.9, 3.1, 1.5, 0.2],\n       [5. , 3.2, 1.2, 0.2],\n       [5.5, 3.5, 1.3, 0.2],\n       [4.9, 3.6, 1.4, 0.1],\n       [4.4, 3. , 1.3, 0.2],\n       [5.1, 3.4, 1.5, 0.2],\n       [5. , 3.5, 1.3, 0.3],\n       [4.5, 2.3, 1.3, 0.3],\n       [4.4, 3.2, 1.3, 0.2],\n       [5. , 3.5, 1.6, 0.6],\n       [5.1, 3.8, 1.9, 0.4],\n       [4.8, 3. , 1.4, 0.3],\n       [5.1, 3.8, 1.6, 0.2],\n       [4.6, 3.2, 1.4, 0.2],\n       [5.3, 3.7, 1.5, 0.2],\n       [5. , 3.3, 1.4, 0.2],\n       [7. , 3.2, 4.7, 1.4],\n       [6.4, 3.2, 4.5, 1.5],\n       [6.9, 3.1, 4.9, 1.5],\n       [5.5, 2.3, 4. , 1.3],\n       [6.5, 2.8, 4.6, 1.5],\n       [5.7, 2.8, 4.5, 1.3],\n       [6.3, 3.3, 4.7, 1.6],\n       [4.9, 2.4, 3.3, 1. ],\n       [6.6, 2.9, 4.6, 1.3],\n       [5.2, 2.7, 3.9, 1.4],\n       [5. , 2. , 3.5, 1. ],\n       [5.9, 3. , 4.2, 1.5],\n       [6. , 2.2, 4. , 1. ],\n       [6.1, 2.9, 4.7, 1.4],\n       [5.6, 2.9, 3.6, 1.3],\n       [6.7, 3.1, 4.4, 1.4],\n       [5.6, 3. , 4.5, 1.5],\n       [5.8, 2.7, 4.1, 1. ],\n       [6.2, 2.2, 4.5, 1.5],\n       [5.6, 2.5, 3.9, 1.1],\n       [5.9, 3.2, 4.8, 1.8],\n       [6.1, 2.8, 4. , 1.3],\n       [6.3, 2.5, 4.9, 1.5],\n       [6.1, 2.8, 4.7, 1.2],\n       [6.4, 2.9, 4.3, 1.3],\n       [6.6, 3. , 4.4, 1.4],\n       [6.8, 2.8, 4.8, 1.4],\n       [6.7, 3. , 5. , 1.7],\n       [6. , 2.9, 4.5, 1.5],\n       [5.7, 2.6, 3.5, 1. ],\n       [5.5, 2.4, 3.8, 1.1],\n       [5.5, 2.4, 3.7, 1. ],\n       [5.8, 2.7, 3.9, 1.2],\n       [6. , 2.7, 5.1, 1.6],\n       [5.4, 3. , 4.5, 1.5],\n       [6. , 3.4, 4.5, 1.6],\n       [6.7, 3.1, 4.7, 1.5],\n       [6.3, 2.3, 4.4, 1.3],\n       [5.6, 3. , 4.1, 1.3],\n       [5.5, 2.5, 4. , 1.3],\n       [5.5, 2.6, 4.4, 1.2],\n       [6.1, 3. , 4.6, 1.4],\n       [5.8, 2.6, 4. , 1.2],\n       [5. , 2.3, 3.3, 1. ],\n       [5.6, 2.7, 4.2, 1.3],\n       [5.7, 3. , 4.2, 1.2],\n       [5.7, 2.9, 4.2, 1.3],\n       [6.2, 2.9, 4.3, 1.3],\n       [5.1, 2.5, 3. , 1.1],\n       [5.7, 2.8, 4.1, 1.3],\n       [6.3, 3.3, 6. , 2.5],\n       [5.8, 2.7, 5.1, 1.9],\n       [7.1, 3. , 5.9, 2.1],\n       [6.3, 2.9, 5.6, 1.8],\n       [6.5, 3. , 5.8, 2.2],\n       [7.6, 3. , 6.6, 2.1],\n       [4.9, 2.5, 4.5, 1.7],\n       [7.3, 2.9, 6.3, 1.8],\n       [6.7, 2.5, 5.8, 1.8],\n       [7.2, 3.6, 6.1, 2.5],\n       [6.5, 3.2, 5.1, 2. ],\n       [6.4, 2.7, 5.3, 1.9],\n       [6.8, 3. , 5.5, 2.1],\n       [5.7, 2.5, 5. , 2. ],\n       [5.8, 2.8, 5.1, 2.4],\n       [6.4, 3.2, 5.3, 2.3],\n       [6.5, 3. , 5.5, 1.8],\n       [7.7, 3.8, 6.7, 2.2],\n       [7.7, 2.6, 6.9, 2.3],\n       [6. , 2.2, 5. , 1.5],\n       [6.9, 3.2, 5.7, 2.3],\n       [5.6, 2.8, 4.9, 2. ],\n       [7.7, 2.8, 6.7, 2. ],\n       [6.3, 2.7, 4.9, 1.8],\n       [6.7, 3.3, 5.7, 2.1],\n       [7.2, 3.2, 6. , 1.8],\n       [6.2, 2.8, 4.8, 1.8],\n       [6.1, 3. , 4.9, 1.8],\n       [6.4, 2.8, 5.6, 2.1],\n       [7.2, 3. , 5.8, 1.6],\n       [7.4, 2.8, 6.1, 1.9],\n       [7.9, 3.8, 6.4, 2. ],\n       [6.4, 2.8, 5.6, 2.2],\n       [6.3, 2.8, 5.1, 1.5],\n       [6.1, 2.6, 5.6, 1.4],\n       [7.7, 3. , 6.1, 2.3],\n       [6.3, 3.4, 5.6, 2.4],\n       [6.4, 3.1, 5.5, 1.8],\n       [6. , 3. , 4.8, 1.8],\n       [6.9, 3.1, 5.4, 2.1],\n       [6.7, 3.1, 5.6, 2.4],\n       [6.9, 3.1, 5.1, 2.3],\n       [5.8, 2.7, 5.1, 1.9],\n       [6.8, 3.2, 5.9, 2.3],\n       [6.7, 3.3, 5.7, 2.5],\n       [6.7, 3. , 5.2, 2.3],\n       [6.3, 2.5, 5. , 1.9],\n       [6.5, 3. , 5.2, 2. ],\n       [6.2, 3.4, 5.4, 2.3],\n       [5.9, 3. , 5.1, 1.8]])"
          },
          "metadata": {}
        }
      ]
    },
    {
      "metadata": {
        "trusted": true
      },
      "cell_type": "code",
      "source": "# Create VarianceThreshold object with a variance with a 0.5 threhold\nthresholder = VarianceThreshold(threshold=.5)\n\n# Conduct variance threhold\nX_high_variance = thresholder.fit_transform(X)",
      "execution_count": 29,
      "outputs": []
    },
    {
      "metadata": {
        "trusted": true
      },
      "cell_type": "code",
      "source": "# View first five rows with featuers with variances above threshold\nX_high_variance[0:5]",
      "execution_count": 30,
      "outputs": [
        {
          "output_type": "execute_result",
          "execution_count": 30,
          "data": {
            "text/plain": "array([[5.1, 1.4, 0.2],\n       [4.9, 1.4, 0.2],\n       [4.7, 1.3, 0.2],\n       [4.6, 1.5, 0.2],\n       [5. , 1.4, 0.2]])"
          },
          "metadata": {}
        }
      ]
    },
    {
      "metadata": {
        "trusted": true
      },
      "cell_type": "markdown",
      "source": "## Boston dataset (Encoders)"
    },
    {
      "metadata": {
        "trusted": true
      },
      "cell_type": "code",
      "source": "from sklearn.datasets import load_boston\n\nboston = load_boston()\nX = boston.data\ny = boston.target",
      "execution_count": 59,
      "outputs": []
    },
    {
      "metadata": {
        "trusted": true
      },
      "cell_type": "code",
      "source": "from sklearn.model_selection import train_test_split\n\nX_train, y_train, X_test, y_test = train_test_split(X, y, test_size = 0.2, random_state = 0)",
      "execution_count": 60,
      "outputs": []
    },
    {
      "metadata": {
        "trusted": true
      },
      "cell_type": "code",
      "source": "import numpy as np\nY = np.random.choice(('Male', 'Female'), size = (10))\nY",
      "execution_count": 61,
      "outputs": [
        {
          "output_type": "execute_result",
          "execution_count": 61,
          "data": {
            "text/plain": "array(['Female', 'Male', 'Female', 'Male', 'Female', 'Female', 'Male',\n       'Female', 'Male', 'Female'], dtype='<U6')"
          },
          "metadata": {}
        }
      ]
    },
    {
      "metadata": {
        "trusted": true
      },
      "cell_type": "code",
      "source": "from sklearn.preprocessing import LabelEncoder \nle = LabelEncoder()\nyt = le.fit_transform(Y)\nprint(yt)",
      "execution_count": 62,
      "outputs": [
        {
          "output_type": "stream",
          "text": "[0 1 0 1 0 0 1 0 1 0]\n",
          "name": "stdout"
        }
      ]
    },
    {
      "metadata": {},
      "cell_type": "markdown",
      "source": "## One-hot Encoder (Car Consumer dataset)"
    },
    {
      "metadata": {
        "trusted": true,
        "scrolled": true
      },
      "cell_type": "code",
      "source": "import pandas as pd\nimport numpy as np\ndataset = pd.read_csv(\"Data.csv\")\nX = dataset.iloc[:, :-1].values\ny = dataset.iloc[:, 3].values\ndataset",
      "execution_count": 177,
      "outputs": [
        {
          "output_type": "execute_result",
          "execution_count": 177,
          "data": {
            "text/html": "<div>\n<style scoped>\n    .dataframe tbody tr th:only-of-type {\n        vertical-align: middle;\n    }\n\n    .dataframe tbody tr th {\n        vertical-align: top;\n    }\n\n    .dataframe thead th {\n        text-align: right;\n    }\n</style>\n<table border=\"1\" class=\"dataframe\">\n  <thead>\n    <tr style=\"text-align: right;\">\n      <th></th>\n      <th>Country</th>\n      <th>Age</th>\n      <th>Salary</th>\n      <th>Purchased</th>\n    </tr>\n  </thead>\n  <tbody>\n    <tr>\n      <th>0</th>\n      <td>France</td>\n      <td>44.0</td>\n      <td>72000.0</td>\n      <td>No</td>\n    </tr>\n    <tr>\n      <th>1</th>\n      <td>Spain</td>\n      <td>27.0</td>\n      <td>48000.0</td>\n      <td>Yes</td>\n    </tr>\n    <tr>\n      <th>2</th>\n      <td>Germany</td>\n      <td>30.0</td>\n      <td>54000.0</td>\n      <td>No</td>\n    </tr>\n    <tr>\n      <th>3</th>\n      <td>Spain</td>\n      <td>38.0</td>\n      <td>61000.0</td>\n      <td>No</td>\n    </tr>\n    <tr>\n      <th>4</th>\n      <td>Germany</td>\n      <td>40.0</td>\n      <td>NaN</td>\n      <td>Yes</td>\n    </tr>\n    <tr>\n      <th>5</th>\n      <td>France</td>\n      <td>35.0</td>\n      <td>58000.0</td>\n      <td>Yes</td>\n    </tr>\n    <tr>\n      <th>6</th>\n      <td>Spain</td>\n      <td>NaN</td>\n      <td>52000.0</td>\n      <td>No</td>\n    </tr>\n    <tr>\n      <th>7</th>\n      <td>France</td>\n      <td>48.0</td>\n      <td>79000.0</td>\n      <td>Yes</td>\n    </tr>\n    <tr>\n      <th>8</th>\n      <td>Germany</td>\n      <td>50.0</td>\n      <td>83000.0</td>\n      <td>No</td>\n    </tr>\n    <tr>\n      <th>9</th>\n      <td>France</td>\n      <td>37.0</td>\n      <td>67000.0</td>\n      <td>Yes</td>\n    </tr>\n  </tbody>\n</table>\n</div>",
            "text/plain": "   Country   Age   Salary Purchased\n0   France  44.0  72000.0        No\n1    Spain  27.0  48000.0       Yes\n2  Germany  30.0  54000.0        No\n3    Spain  38.0  61000.0        No\n4  Germany  40.0      NaN       Yes\n5   France  35.0  58000.0       Yes\n6    Spain   NaN  52000.0        No\n7   France  48.0  79000.0       Yes\n8  Germany  50.0  83000.0        No\n9   France  37.0  67000.0       Yes"
          },
          "metadata": {}
        }
      ]
    },
    {
      "metadata": {
        "trusted": true
      },
      "cell_type": "code",
      "source": "# Taking care of missing values\nfrom sklearn.preprocessing import Imputer \nimputer = Imputer(missing_values = 'NaN', strategy = 'mean', axis = 0)\nimputer = imputer.fit(X[:, 1:3])\nX[:, 1:3] = imputer.transform(X[:, 1:3])",
      "execution_count": 178,
      "outputs": [
        {
          "output_type": "stream",
          "text": "/home/nbuser/anaconda3_501/lib/python3.6/site-packages/sklearn/utils/deprecation.py:58: DeprecationWarning: Class Imputer is deprecated; Imputer was deprecated in version 0.20 and will be removed in 0.22. Import impute.SimpleImputer from sklearn instead.\n  warnings.warn(msg, category=DeprecationWarning)\n",
          "name": "stderr"
        }
      ]
    },
    {
      "metadata": {
        "trusted": true
      },
      "cell_type": "code",
      "source": "# Encodign categorical data and Independant variables\nfrom sklearn.preprocessing import LabelEncoder, OneHotEncoder\n\nlabelencoder_X = LabelEncoder()\n\n# Encode labels in column 'species'\nX[:, 0] = labelencoder_X.fit_transform(X[:, 0])\nonehotencoder = OneHotEncoder(categorical_features = [0])\nX = onehotencoder.fit_transform(X).toarray()\n\n# Encoding the Dependant Variables\nlabelencoder_y = LabelEncoder()\ny = labelencoder_y.fit_transform(y)\nprint(X)\nprint(y)",
      "execution_count": 183,
      "outputs": [
        {
          "output_type": "stream",
          "text": "[[0.00000000e+00 1.00000000e+00 0.00000000e+00 1.00000000e+00\n  0.00000000e+00 0.00000000e+00 4.40000000e+01 7.20000000e+04]\n [1.00000000e+00 0.00000000e+00 1.00000000e+00 0.00000000e+00\n  0.00000000e+00 1.00000000e+00 2.70000000e+01 4.80000000e+04]\n [1.00000000e+00 0.00000000e+00 1.00000000e+00 0.00000000e+00\n  1.00000000e+00 0.00000000e+00 3.00000000e+01 5.40000000e+04]\n [1.00000000e+00 0.00000000e+00 1.00000000e+00 0.00000000e+00\n  0.00000000e+00 1.00000000e+00 3.80000000e+01 6.10000000e+04]\n [1.00000000e+00 0.00000000e+00 1.00000000e+00 0.00000000e+00\n  1.00000000e+00 0.00000000e+00 4.00000000e+01 6.37777778e+04]\n [0.00000000e+00 1.00000000e+00 0.00000000e+00 1.00000000e+00\n  0.00000000e+00 0.00000000e+00 3.50000000e+01 5.80000000e+04]\n [1.00000000e+00 0.00000000e+00 1.00000000e+00 0.00000000e+00\n  0.00000000e+00 1.00000000e+00 3.87777778e+01 5.20000000e+04]\n [0.00000000e+00 1.00000000e+00 0.00000000e+00 1.00000000e+00\n  0.00000000e+00 0.00000000e+00 4.80000000e+01 7.90000000e+04]\n [1.00000000e+00 0.00000000e+00 1.00000000e+00 0.00000000e+00\n  1.00000000e+00 0.00000000e+00 5.00000000e+01 8.30000000e+04]\n [0.00000000e+00 1.00000000e+00 0.00000000e+00 1.00000000e+00\n  0.00000000e+00 0.00000000e+00 3.70000000e+01 6.70000000e+04]]\n[0 1 0 0 1 1 0 1 0 1]\n",
          "name": "stdout"
        },
        {
          "output_type": "stream",
          "text": "/home/nbuser/anaconda3_501/lib/python3.6/site-packages/sklearn/preprocessing/_encoders.py:371: FutureWarning: The handling of integer data will change in version 0.22. Currently, the categories are determined based on the range [0, max(values)], while in the future they will be determined based on the unique values.\nIf you want the future behaviour and silence this warning, you can specify \"categories='auto'\".\nIn case you used a LabelEncoder before this OneHotEncoder to convert the categories to integers, then you can now use the OneHotEncoder directly.\n  warnings.warn(msg, FutureWarning)\n/home/nbuser/anaconda3_501/lib/python3.6/site-packages/sklearn/preprocessing/_encoders.py:392: DeprecationWarning: The 'categorical_features' keyword is deprecated in version 0.20 and will be removed in 0.22. You can use the ColumnTransformer instead.\n  \"use the ColumnTransformer instead.\", DeprecationWarning)\n",
          "name": "stderr"
        }
      ]
    },
    {
      "metadata": {},
      "cell_type": "markdown",
      "source": "# Vectorizer"
    },
    {
      "metadata": {
        "trusted": true
      },
      "cell_type": "code",
      "source": "# Vectorizers\n\nsample = ['problem of evil problem evil queen horizon problem']",
      "execution_count": 39,
      "outputs": []
    },
    {
      "metadata": {
        "trusted": true
      },
      "cell_type": "code",
      "source": "# Count vectorizer check the frequency of word appearing in data\nfrom sklearn.feature_extraction.text import CountVectorizer\nvec = CountVectorizer()\nx = vec.fit_transform(sample)",
      "execution_count": 19,
      "outputs": []
    },
    {
      "metadata": {
        "trusted": true,
        "scrolled": true
      },
      "cell_type": "code",
      "source": "import pandas as pd\npd.DataFrame(x.toarray(), columns=vec.get_feature_names())",
      "execution_count": 20,
      "outputs": [
        {
          "output_type": "execute_result",
          "execution_count": 20,
          "data": {
            "text/html": "<div>\n<style scoped>\n    .dataframe tbody tr th:only-of-type {\n        vertical-align: middle;\n    }\n\n    .dataframe tbody tr th {\n        vertical-align: top;\n    }\n\n    .dataframe thead th {\n        text-align: right;\n    }\n</style>\n<table border=\"1\" class=\"dataframe\">\n  <thead>\n    <tr style=\"text-align: right;\">\n      <th></th>\n      <th>evil</th>\n      <th>horizon</th>\n      <th>of</th>\n      <th>problem</th>\n      <th>queen</th>\n    </tr>\n  </thead>\n  <tbody>\n    <tr>\n      <th>0</th>\n      <td>2</td>\n      <td>1</td>\n      <td>1</td>\n      <td>3</td>\n      <td>1</td>\n    </tr>\n  </tbody>\n</table>\n</div>",
            "text/plain": "   evil  horizon  of  problem  queen\n0     2        1   1        3      1"
          },
          "metadata": {}
        }
      ]
    },
    {
      "metadata": {
        "trusted": true
      },
      "cell_type": "code",
      "source": "from sklearn.feature_extraction.text import TfidfVectorizer\nvec = TfidfVectorizer()  # Inverse Document frequency\nX = vec.fit_transform(sample)\npd.DataFrame(X.toarray(), columns=vec.get_feature_names())\n\n## For every word weightage is mentioned",
      "execution_count": 21,
      "outputs": [
        {
          "output_type": "execute_result",
          "execution_count": 21,
          "data": {
            "text/html": "<div>\n<style scoped>\n    .dataframe tbody tr th:only-of-type {\n        vertical-align: middle;\n    }\n\n    .dataframe tbody tr th {\n        vertical-align: top;\n    }\n\n    .dataframe thead th {\n        text-align: right;\n    }\n</style>\n<table border=\"1\" class=\"dataframe\">\n  <thead>\n    <tr style=\"text-align: right;\">\n      <th></th>\n      <th>evil</th>\n      <th>horizon</th>\n      <th>of</th>\n      <th>problem</th>\n      <th>queen</th>\n    </tr>\n  </thead>\n  <tbody>\n    <tr>\n      <th>0</th>\n      <td>0.5</td>\n      <td>0.25</td>\n      <td>0.25</td>\n      <td>0.75</td>\n      <td>0.25</td>\n    </tr>\n  </tbody>\n</table>\n</div>",
            "text/plain": "   evil  horizon    of  problem  queen\n0   0.5     0.25  0.25     0.75   0.25"
          },
          "metadata": {}
        }
      ]
    },
    {
      "metadata": {
        "trusted": true
      },
      "cell_type": "code",
      "source": "# Feature Engineering \n# To handle Dictionary kind of data\ndata = [\n    {\"price\": 850000, 'rooms': 4, 'neighbor'}\n]\n\nvec = DictVectorizer(sparse=True, dtype = int)\nd = vec.fit_transofrm(data)\nprint(d)\n\nDictVectorizer - need / CountVectorizer / TfidVectorizer",
      "execution_count": null,
      "outputs": []
    },
    {
      "metadata": {},
      "cell_type": "markdown",
      "source": "## Derived Features \nDeriving features from exisiting features"
    },
    {
      "metadata": {
        "trusted": true
      },
      "cell_type": "code",
      "source": "import numpy as np\nimport matplotlib.pyplot as plt\nx = np.array([1, 2, 3, 4, 5])\ny = np.array([4, 2, 1, 3, 7])\n#plt.scatter(x, y);",
      "execution_count": 22,
      "outputs": []
    },
    {
      "metadata": {
        "trusted": true
      },
      "cell_type": "code",
      "source": "from sklearn.linear_model import LinearRegression\nX = x[:, np.newaxis]\nmodel = LinearRegression().fit(X, y)\nyfit = model.predict(X)\nplt.scatter(x, y)  # Plot the points\nplt.plot(x, yfit)  # Plot the line\nplt.xlabel('Temperature')\nplt.ylabel('Solar Energy')",
      "execution_count": 23,
      "outputs": [
        {
          "output_type": "execute_result",
          "execution_count": 23,
          "data": {
            "text/plain": "Text(0, 0.5, 'Solar Energy')"
          },
          "metadata": {}
        },
        {
          "output_type": "display_data",
          "data": {
            "image/png": "[encoded data removed]",
            "text/plain": "<Figure size 432x288 with 1 Axes>"
          },
          "metadata": {
            "needs_background": "light"
          }
        }
      ]
    },
    {
      "metadata": {
        "trusted": true
      },
      "cell_type": "code",
      "source": "# Need a more sophisticated model to describe the relationship\n# Polynomial Feature can be used when we have very less no. of \n# features, helps generate new features\nfrom sklearn.preprocessing import PolynomialFeatures\npoly = PolynomialFeatures(degree=3, include_bias = False)\nX2 = poly.fit_transform(X)\nprint(X2)",
      "execution_count": 24,
      "outputs": [
        {
          "output_type": "stream",
          "text": "[[  1.   1.   1.]\n [  2.   4.   8.]\n [  3.   9.  27.]\n [  4.  16.  64.]\n [  5.  25. 125.]]\n",
          "name": "stdout"
        }
      ]
    },
    {
      "metadata": {
        "trusted": true
      },
      "cell_type": "code",
      "source": "# Multiple Linear Regression\nmodel = LinearRegression().fit(X2, y)\nyfit = model.predict(X2)\nplt.scatter(x, y)\nplt.plot(x, yfit)\nplt.xlabel('Temperature')\nplt.ylabel('Solar Energy')",
      "execution_count": 25,
      "outputs": [
        {
          "output_type": "execute_result",
          "execution_count": 25,
          "data": {
            "text/plain": "Text(0, 0.5, 'Solar Energy')"
          },
          "metadata": {}
        },
        {
          "output_type": "display_data",
          "data": {
            "image/png": "[encoded data removed]",
            "text/plain": "<Figure size 432x288 with 1 Axes>"
          },
          "metadata": {
            "needs_background": "light"
          }
        }
      ]
    },
    {
      "metadata": {
        "trusted": true
      },
      "cell_type": "code",
      "source": "# Pipeline\nfrom sklearn.pipeline import make_pipeline\nfrom sklearn.preprocessing import Imputer \nfrom numpy import nan\nimport numpy as np\n\nX = np.array([[nan, 0, 3], \n             [3, 7, 9], \n             [3, 5, 2], \n             [4, nan, 6], \n             [8, 8, 1]])\ny = np.array([14, 16, -1, 8, -5])\n\nmodel = make_pipeline(Imputer(strategy = 'mean'), \n                             PolynomialFeatures(degree=5), LinearRegression()\n                             )\n",
      "execution_count": 31,
      "outputs": [
        {
          "output_type": "stream",
          "text": "/home/nbuser/anaconda3_501/lib/python3.6/site-packages/sklearn/utils/deprecation.py:58: DeprecationWarning: Class Imputer is deprecated; Imputer was deprecated in version 0.20 and will be removed in 0.22. Import impute.SimpleImputer from sklearn instead.\n  warnings.warn(msg, category=DeprecationWarning)\n",
          "name": "stderr"
        }
      ]
    },
    {
      "metadata": {
        "trusted": true
      },
      "cell_type": "code",
      "source": "model.fit(X, y)  # X with missing values, from above\nprint(y)",
      "execution_count": 32,
      "outputs": [
        {
          "output_type": "stream",
          "text": "[14 16 -1  8 -5]\n",
          "name": "stdout"
        }
      ]
    },
    {
      "metadata": {
        "trusted": true
      },
      "cell_type": "code",
      "source": "X.shape",
      "execution_count": 33,
      "outputs": [
        {
          "output_type": "execute_result",
          "execution_count": 33,
          "data": {
            "text/plain": "(5, 3)"
          },
          "metadata": {}
        }
      ]
    },
    {
      "metadata": {
        "trusted": true
      },
      "cell_type": "code",
      "source": "missing value\npandas function\nnumpy function\nimputer class (mean mode)\nnormalization - l1, l2 normalization\nvariance threshold\nencoders \none-hot encoder \nvectorizer - dict, vect, \npolynomial feature - checking linear REgression\npipeline\npca ",
      "execution_count": null,
      "outputs": []
    },
    {
      "metadata": {},
      "cell_type": "markdown",
      "source": "## PCA"
    },
    {
      "metadata": {
        "trusted": true
      },
      "cell_type": "code",
      "source": "from numpy import array\nfrom numpy import mean\nfrom numpy import cov\nfrom numpy import cov\nfrom numpy.linalg import eig\n\nA = array([[1, 2], [3, 4], [5, 6]])",
      "execution_count": 73,
      "outputs": []
    },
    {
      "metadata": {
        "trusted": true
      },
      "cell_type": "code",
      "source": "M = mean(A.T, axis = 1)\nprint(M)",
      "execution_count": 74,
      "outputs": [
        {
          "output_type": "stream",
          "text": "[3. 4.]\n",
          "name": "stdout"
        }
      ]
    },
    {
      "metadata": {
        "trusted": true
      },
      "cell_type": "code",
      "source": "C = A - M",
      "execution_count": 75,
      "outputs": []
    },
    {
      "metadata": {
        "trusted": true
      },
      "cell_type": "code",
      "source": "print(C)",
      "execution_count": 76,
      "outputs": [
        {
          "output_type": "stream",
          "text": "[[-2. -2.]\n [ 0.  0.]\n [ 2.  2.]]\n",
          "name": "stdout"
        }
      ]
    },
    {
      "metadata": {
        "trusted": true
      },
      "cell_type": "code",
      "source": "# calculate covariance matrix of centered matrix \nV = cov(C.T)\nprint(V)\n# eigenecomposition of covariance matrix",
      "execution_count": 77,
      "outputs": [
        {
          "output_type": "stream",
          "text": "[[4. 4.]\n [4. 4.]]\n",
          "name": "stdout"
        }
      ]
    },
    {
      "metadata": {
        "trusted": true
      },
      "cell_type": "code",
      "source": "values, vectors = eig(V)\nprint(values)",
      "execution_count": 78,
      "outputs": [
        {
          "output_type": "stream",
          "text": "[8. 0.]\n",
          "name": "stdout"
        }
      ]
    },
    {
      "metadata": {
        "trusted": true
      },
      "cell_type": "code",
      "source": "# project data \nP = vectors.T.dot(C.T)\nprint(P.T)",
      "execution_count": 79,
      "outputs": [
        {
          "output_type": "stream",
          "text": "[[-2.82842712  0.        ]\n [ 0.          0.        ]\n [ 2.82842712  0.        ]]\n",
          "name": "stdout"
        }
      ]
    },
    {
      "metadata": {
        "trusted": true
      },
      "cell_type": "code",
      "source": "from sklearn.datasets import fetch_mldata",
      "execution_count": 80,
      "outputs": []
    },
    {
      "metadata": {
        "trusted": true
      },
      "cell_type": "code",
      "source": "# PCA\n\nfrom sklearn import datasets\ndigits = datasets.load_digits()",
      "execution_count": 81,
      "outputs": []
    },
    {
      "metadata": {
        "trusted": true
      },
      "cell_type": "code",
      "source": "digits.data",
      "execution_count": 82,
      "outputs": [
        {
          "output_type": "execute_result",
          "execution_count": 82,
          "data": {
            "text/plain": "array([[ 0.,  0.,  5., ...,  0.,  0.,  0.],\n       [ 0.,  0.,  0., ..., 10.,  0.,  0.],\n       [ 0.,  0.,  0., ..., 16.,  9.,  0.],\n       ...,\n       [ 0.,  0.,  1., ...,  6.,  0.,  0.],\n       [ 0.,  0.,  2., ..., 12.,  0.,  0.],\n       [ 0.,  0., 10., ..., 12.,  1.,  0.]])"
          },
          "metadata": {}
        }
      ]
    },
    {
      "metadata": {
        "trusted": true
      },
      "cell_type": "code",
      "source": "digits.target",
      "execution_count": 83,
      "outputs": [
        {
          "output_type": "execute_result",
          "execution_count": 83,
          "data": {
            "text/plain": "array([0, 1, 2, ..., 8, 9, 8])"
          },
          "metadata": {}
        }
      ]
    },
    {
      "metadata": {
        "trusted": true
      },
      "cell_type": "code",
      "source": "from sklearn.model_selection import train_test_split # test_size: what proportion of original data is used for test set\n\ntrain_img, test_img, train_lbl, test_lbl = train_test_split(digits.data, digits.target, test_size = 0.25, random_state = 0)",
      "execution_count": 84,
      "outputs": []
    },
    {
      "metadata": {
        "trusted": true
      },
      "cell_type": "code",
      "source": "train_img.shape",
      "execution_count": 85,
      "outputs": [
        {
          "output_type": "execute_result",
          "execution_count": 85,
          "data": {
            "text/plain": "(1347, 64)"
          },
          "metadata": {}
        }
      ]
    },
    {
      "metadata": {
        "trusted": true
      },
      "cell_type": "code",
      "source": "from sklearn.decomposition import PCA # Make an instance of the Model \npca = PCA(.95)  # It will be having 95% information will be there\n# 5% info will be lost",
      "execution_count": 86,
      "outputs": []
    },
    {
      "metadata": {
        "trusted": true
      },
      "cell_type": "code",
      "source": "pca.fit(train_img)  # Train",
      "execution_count": 87,
      "outputs": [
        {
          "output_type": "execute_result",
          "execution_count": 87,
          "data": {
            "text/plain": "PCA(copy=True, iterated_power='auto', n_components=0.95, random_state=None,\n  svd_solver='auto', tol=0.0, whiten=False)"
          },
          "metadata": {}
        }
      ]
    },
    {
      "metadata": {
        "trusted": true
      },
      "cell_type": "code",
      "source": "# After PCA analysis we get 28 columns from 64 columns\npca.n_components_  ",
      "execution_count": 88,
      "outputs": [
        {
          "output_type": "execute_result",
          "execution_count": 88,
          "data": {
            "text/plain": "28"
          },
          "metadata": {}
        }
      ]
    },
    {
      "metadata": {
        "trusted": true
      },
      "cell_type": "code",
      "source": "train_img.shape",
      "execution_count": 89,
      "outputs": [
        {
          "output_type": "execute_result",
          "execution_count": 89,
          "data": {
            "text/plain": "(1347, 64)"
          },
          "metadata": {}
        }
      ]
    },
    {
      "metadata": {
        "trusted": true
      },
      "cell_type": "code",
      "source": "train_img = pca.transform(train_img)\ntest_img = pca.transform(test_img) # test model",
      "execution_count": 90,
      "outputs": []
    },
    {
      "metadata": {
        "trusted": true
      },
      "cell_type": "code",
      "source": "train_img.shape",
      "execution_count": 91,
      "outputs": [
        {
          "output_type": "execute_result",
          "execution_count": 91,
          "data": {
            "text/plain": "(1347, 28)"
          },
          "metadata": {}
        }
      ]
    },
    {
      "metadata": {
        "trusted": true
      },
      "cell_type": "code",
      "source": "# Demo of Label Encoder \nimport numpy as np\nY = np.random.choice(('Male', 'Female'), size=(10))\nY",
      "execution_count": 92,
      "outputs": [
        {
          "output_type": "execute_result",
          "execution_count": 92,
          "data": {
            "text/plain": "array(['Male', 'Female', 'Female', 'Female', 'Male', 'Male', 'Male',\n       'Female', 'Female', 'Female'], dtype='<U6')"
          },
          "metadata": {}
        }
      ]
    }
  ],
  "metadata": {
    "kernelspec": {
      "name": "python36",
      "display_name": "Python 3.6",
      "language": "python"
    },
    "language_info": {
      "mimetype": "text/x-python",
      "nbconvert_exporter": "python",
      "name": "python",
      "pygments_lexer": "ipython3",
      "version": "3.6.6",
      "file_extension": ".py",
      "codemirror_mode": {
        "version": 3,
        "name": "ipython"
      }
    }
  },
  "nbformat": 4,
  "nbformat_minor": 2
}