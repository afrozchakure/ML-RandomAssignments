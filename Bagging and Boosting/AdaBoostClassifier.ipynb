{
 "cells": [
  {
   "cell_type": "code",
   "execution_count": 1,
   "metadata": {
    "colab": {},
    "colab_type": "code",
    "executionInfo": {
     "elapsed": 3430,
     "status": "ok",
     "timestamp": 1599823641152,
     "user": {
      "displayName": "Amarkumar Belkhede",
      "photoUrl": "https://lh3.googleusercontent.com/a-/AOh14GikPWtAxrXXpL0kaE7EwWdWDXMFq_yFHQREFcpGaw=s64",
      "userId": "17155193584561476000"
     },
     "user_tz": -330
    },
    "id": "Jg9kyNfo6t6Q"
   },
   "outputs": [],
   "source": [
    "import pandas as pd\n",
    "from sklearn import model_selection\n",
    "from sklearn.linear_model import LogisticRegression\n",
    "from sklearn.tree import DecisionTreeClassifier\n",
    "from sklearn.neighbors import KNeighborsClassifier\n",
    "from sklearn.metrics import accuracy_score, cohen_kappa_score\n",
    "from sklearn.svm import SVC\n",
    "from sklearn.ensemble import VotingClassifier"
   ]
  },
  {
   "cell_type": "code",
   "execution_count": 13,
   "metadata": {
    "colab": {
     "base_uri": "https://localhost:8080/",
     "height": 419
    },
    "colab_type": "code",
    "executionInfo": {
     "elapsed": 1101,
     "status": "ok",
     "timestamp": 1599824173319,
     "user": {
      "displayName": "Amarkumar Belkhede",
      "photoUrl": "https://lh3.googleusercontent.com/a-/AOh14GikPWtAxrXXpL0kaE7EwWdWDXMFq_yFHQREFcpGaw=s64",
      "userId": "17155193584561476000"
     },
     "user_tz": -330
    },
    "id": "BtrH8F7T7w61",
    "outputId": "a42912de-f1b3-4638-d380-43cdd34b20d8"
   },
   "outputs": [
    {
     "data": {
      "text/html": [
       "<div>\n",
       "<style scoped>\n",
       "    .dataframe tbody tr th:only-of-type {\n",
       "        vertical-align: middle;\n",
       "    }\n",
       "\n",
       "    .dataframe tbody tr th {\n",
       "        vertical-align: top;\n",
       "    }\n",
       "\n",
       "    .dataframe thead th {\n",
       "        text-align: right;\n",
       "    }\n",
       "</style>\n",
       "<table border=\"1\" class=\"dataframe\">\n",
       "  <thead>\n",
       "    <tr style=\"text-align: right;\">\n",
       "      <th></th>\n",
       "      <th>Pregnancies</th>\n",
       "      <th>Glucose</th>\n",
       "      <th>BloodPressure</th>\n",
       "      <th>SkinThickness</th>\n",
       "      <th>Insulin</th>\n",
       "      <th>BMI</th>\n",
       "      <th>DiabetesPedigreeFunction</th>\n",
       "      <th>Age</th>\n",
       "    </tr>\n",
       "  </thead>\n",
       "  <tbody>\n",
       "    <tr>\n",
       "      <th>0</th>\n",
       "      <td>6</td>\n",
       "      <td>148</td>\n",
       "      <td>72</td>\n",
       "      <td>35</td>\n",
       "      <td>0</td>\n",
       "      <td>33.6</td>\n",
       "      <td>0.627</td>\n",
       "      <td>50</td>\n",
       "    </tr>\n",
       "    <tr>\n",
       "      <th>1</th>\n",
       "      <td>1</td>\n",
       "      <td>85</td>\n",
       "      <td>66</td>\n",
       "      <td>29</td>\n",
       "      <td>0</td>\n",
       "      <td>26.6</td>\n",
       "      <td>0.351</td>\n",
       "      <td>31</td>\n",
       "    </tr>\n",
       "    <tr>\n",
       "      <th>2</th>\n",
       "      <td>8</td>\n",
       "      <td>183</td>\n",
       "      <td>64</td>\n",
       "      <td>0</td>\n",
       "      <td>0</td>\n",
       "      <td>23.3</td>\n",
       "      <td>0.672</td>\n",
       "      <td>32</td>\n",
       "    </tr>\n",
       "    <tr>\n",
       "      <th>3</th>\n",
       "      <td>1</td>\n",
       "      <td>89</td>\n",
       "      <td>66</td>\n",
       "      <td>23</td>\n",
       "      <td>94</td>\n",
       "      <td>28.1</td>\n",
       "      <td>0.167</td>\n",
       "      <td>21</td>\n",
       "    </tr>\n",
       "    <tr>\n",
       "      <th>4</th>\n",
       "      <td>0</td>\n",
       "      <td>137</td>\n",
       "      <td>40</td>\n",
       "      <td>35</td>\n",
       "      <td>168</td>\n",
       "      <td>43.1</td>\n",
       "      <td>2.288</td>\n",
       "      <td>33</td>\n",
       "    </tr>\n",
       "    <tr>\n",
       "      <th>...</th>\n",
       "      <td>...</td>\n",
       "      <td>...</td>\n",
       "      <td>...</td>\n",
       "      <td>...</td>\n",
       "      <td>...</td>\n",
       "      <td>...</td>\n",
       "      <td>...</td>\n",
       "      <td>...</td>\n",
       "    </tr>\n",
       "    <tr>\n",
       "      <th>763</th>\n",
       "      <td>10</td>\n",
       "      <td>101</td>\n",
       "      <td>76</td>\n",
       "      <td>48</td>\n",
       "      <td>180</td>\n",
       "      <td>32.9</td>\n",
       "      <td>0.171</td>\n",
       "      <td>63</td>\n",
       "    </tr>\n",
       "    <tr>\n",
       "      <th>764</th>\n",
       "      <td>2</td>\n",
       "      <td>122</td>\n",
       "      <td>70</td>\n",
       "      <td>27</td>\n",
       "      <td>0</td>\n",
       "      <td>36.8</td>\n",
       "      <td>0.340</td>\n",
       "      <td>27</td>\n",
       "    </tr>\n",
       "    <tr>\n",
       "      <th>765</th>\n",
       "      <td>5</td>\n",
       "      <td>121</td>\n",
       "      <td>72</td>\n",
       "      <td>23</td>\n",
       "      <td>112</td>\n",
       "      <td>26.2</td>\n",
       "      <td>0.245</td>\n",
       "      <td>30</td>\n",
       "    </tr>\n",
       "    <tr>\n",
       "      <th>766</th>\n",
       "      <td>1</td>\n",
       "      <td>126</td>\n",
       "      <td>60</td>\n",
       "      <td>0</td>\n",
       "      <td>0</td>\n",
       "      <td>30.1</td>\n",
       "      <td>0.349</td>\n",
       "      <td>47</td>\n",
       "    </tr>\n",
       "    <tr>\n",
       "      <th>767</th>\n",
       "      <td>1</td>\n",
       "      <td>93</td>\n",
       "      <td>70</td>\n",
       "      <td>31</td>\n",
       "      <td>0</td>\n",
       "      <td>30.4</td>\n",
       "      <td>0.315</td>\n",
       "      <td>23</td>\n",
       "    </tr>\n",
       "  </tbody>\n",
       "</table>\n",
       "<p>768 rows × 8 columns</p>\n",
       "</div>"
      ],
      "text/plain": [
       "     Pregnancies  Glucose  BloodPressure  ...   BMI  DiabetesPedigreeFunction  Age\n",
       "0              6      148             72  ...  33.6                     0.627   50\n",
       "1              1       85             66  ...  26.6                     0.351   31\n",
       "2              8      183             64  ...  23.3                     0.672   32\n",
       "3              1       89             66  ...  28.1                     0.167   21\n",
       "4              0      137             40  ...  43.1                     2.288   33\n",
       "..           ...      ...            ...  ...   ...                       ...  ...\n",
       "763           10      101             76  ...  32.9                     0.171   63\n",
       "764            2      122             70  ...  36.8                     0.340   27\n",
       "765            5      121             72  ...  26.2                     0.245   30\n",
       "766            1      126             60  ...  30.1                     0.349   47\n",
       "767            1       93             70  ...  30.4                     0.315   23\n",
       "\n",
       "[768 rows x 8 columns]"
      ]
     },
     "execution_count": 13,
     "metadata": {
      "tags": []
     },
     "output_type": "execute_result"
    }
   ],
   "source": [
    "# col_name = ['pregnant','glucose', 'bp', 'skin', 'insulin', 'bmi', 'pedigree', 'age', 'label']\n",
    "# pima = pd.read_csv(\"/content/drive/My Drive/Colab Notebooks/diabetes.csv\",header=None, names=col_name)\n",
    "\n",
    "pima = pd.read_csv(\"/content/drive/My Drive/Colab Notebooks/diabetes.csv\")\n",
    "\n",
    "# feature_cols = ['pregnant',  'insulin', 'bmi', 'age', 'glucose', 'bp', 'pedigree']\n",
    "\n",
    "x=pima.iloc[:,:-1]\n",
    "y=pima.iloc[:,-1]\n",
    "x\n",
    "# y\n"
   ]
  },
  {
   "cell_type": "code",
   "execution_count": 14,
   "metadata": {
    "colab": {
     "base_uri": "https://localhost:8080/",
     "height": 34
    },
    "colab_type": "code",
    "executionInfo": {
     "elapsed": 1856,
     "status": "ok",
     "timestamp": 1599824182729,
     "user": {
      "displayName": "Amarkumar Belkhede",
      "photoUrl": "https://lh3.googleusercontent.com/a-/AOh14GikPWtAxrXXpL0kaE7EwWdWDXMFq_yFHQREFcpGaw=s64",
      "userId": "17155193584561476000"
     },
     "user_tz": -330
    },
    "id": "ejQQ855v97Ze",
    "outputId": "109b8310-66df-4d6e-985a-02ed27f0d3bb"
   },
   "outputs": [
    {
     "data": {
      "text/plain": [
       "0.8997395833333334"
      ]
     },
     "execution_count": 14,
     "metadata": {
      "tags": []
     },
     "output_type": "execute_result"
    }
   ],
   "source": [
    "estimators=[]\n",
    "model1=KNeighborsClassifier(n_neighbors=3)\n",
    "estimators.append(('KNN',model1))\n",
    "\n",
    "model2=DecisionTreeClassifier()\n",
    "estimators.append(('cart',model2))\n",
    "\n",
    "model3=SVC()\n",
    "estimators.append(('svc',model3))\n",
    "\n",
    "ensemble = VotingClassifier(estimators)\n",
    "eclf = ensemble.fit(x,y)\n",
    "y1 = eclf.predict(x)\n",
    "accuracy_score(y,y1)"
   ]
  },
  {
   "cell_type": "code",
   "execution_count": 16,
   "metadata": {
    "colab": {},
    "colab_type": "code",
    "executionInfo": {
     "elapsed": 1179,
     "status": "ok",
     "timestamp": 1599824715328,
     "user": {
      "displayName": "Amarkumar Belkhede",
      "photoUrl": "https://lh3.googleusercontent.com/a-/AOh14GikPWtAxrXXpL0kaE7EwWdWDXMFq_yFHQREFcpGaw=s64",
      "userId": "17155193584561476000"
     },
     "user_tz": -330
    },
    "id": "cec-KmeH_5N1"
   },
   "outputs": [],
   "source": [
    "from sklearn.ensemble import AdaBoostClassifier\n",
    "from sklearn import datasets\n",
    "from sklearn.model_selection import train_test_split\n",
    "from sklearn import metrics"
   ]
  },
  {
   "cell_type": "code",
   "execution_count": 17,
   "metadata": {
    "colab": {},
    "colab_type": "code",
    "executionInfo": {
     "elapsed": 863,
     "status": "ok",
     "timestamp": 1599824716855,
     "user": {
      "displayName": "Amarkumar Belkhede",
      "photoUrl": "https://lh3.googleusercontent.com/a-/AOh14GikPWtAxrXXpL0kaE7EwWdWDXMFq_yFHQREFcpGaw=s64",
      "userId": "17155193584561476000"
     },
     "user_tz": -330
    },
    "id": "4Uu67u3RASTZ"
   },
   "outputs": [],
   "source": [
    "iris = datasets.load_iris()\n",
    "x=iris.data\n",
    "y=iris.target"
   ]
  },
  {
   "cell_type": "code",
   "execution_count": 18,
   "metadata": {
    "colab": {},
    "colab_type": "code",
    "executionInfo": {
     "elapsed": 1084,
     "status": "ok",
     "timestamp": 1599824718946,
     "user": {
      "displayName": "Amarkumar Belkhede",
      "photoUrl": "https://lh3.googleusercontent.com/a-/AOh14GikPWtAxrXXpL0kaE7EwWdWDXMFq_yFHQREFcpGaw=s64",
      "userId": "17155193584561476000"
     },
     "user_tz": -330
    },
    "id": "4T4aibDlAdiy"
   },
   "outputs": [],
   "source": [
    "abc=AdaBoostClassifier(n_estimators=50)\n",
    "model=abc.fit(x,y)\n",
    "y_pred = model.predict(x)"
   ]
  },
  {
   "cell_type": "code",
   "execution_count": 19,
   "metadata": {
    "colab": {
     "base_uri": "https://localhost:8080/",
     "height": 34
    },
    "colab_type": "code",
    "executionInfo": {
     "elapsed": 1026,
     "status": "ok",
     "timestamp": 1599824721679,
     "user": {
      "displayName": "Amarkumar Belkhede",
      "photoUrl": "https://lh3.googleusercontent.com/a-/AOh14GikPWtAxrXXpL0kaE7EwWdWDXMFq_yFHQREFcpGaw=s64",
      "userId": "17155193584561476000"
     },
     "user_tz": -330
    },
    "id": "IqpbRCcaAsX7",
    "outputId": "f1d24cd9-2543-4d29-e31a-00a3cc989e03"
   },
   "outputs": [
    {
     "name": "stdout",
     "output_type": "stream",
     "text": [
      "accuracy  0.96\n"
     ]
    }
   ],
   "source": [
    "print(\"accuracy \", metrics.accuracy_score(y, y_pred))"
   ]
  },
  {
   "cell_type": "code",
   "execution_count": 20,
   "metadata": {
    "colab": {
     "base_uri": "https://localhost:8080/",
     "height": 34
    },
    "colab_type": "code",
    "executionInfo": {
     "elapsed": 1022,
     "status": "ok",
     "timestamp": 1599824724095,
     "user": {
      "displayName": "Amarkumar Belkhede",
      "photoUrl": "https://lh3.googleusercontent.com/a-/AOh14GikPWtAxrXXpL0kaE7EwWdWDXMFq_yFHQREFcpGaw=s64",
      "userId": "17155193584561476000"
     },
     "user_tz": -330
    },
    "id": "EcfJamCkA8GP",
    "outputId": "a11a853f-244a-44b6-8b09-d87f890bb8c4"
   },
   "outputs": [
    {
     "name": "stdout",
     "output_type": "stream",
     "text": [
      "accuracy  0.9866666666666667\n"
     ]
    }
   ],
   "source": [
    "from sklearn.ensemble import AdaBoostClassifier\n",
    "\n",
    "svc = SVC(probability=True, kernel='linear')\n",
    "\n",
    "abc = AdaBoostClassifier(n_estimators=50, base_estimator=svc)\n",
    "\n",
    "model =abc.fit(x,y)\n",
    "y_pred = model.predict(x)\n",
    "print(\"accuracy \", metrics.accuracy_score(y, y_pred))"
   ]
  }
 ],
 "metadata": {
  "colab": {
   "authorship_tag": "ABX9TyMS/spLXB/4+oZbdLK60dLp",
   "mount_file_id": "1zQQ4siwJeGAiz-dVZOMVY9lJOCP-7X0W",
   "name": "AdaBoostClassifier.ipynb",
   "provenance": []
  },
  "kernelspec": {
   "display_name": "Python 3",
   "language": "python",
   "name": "python3"
  },
  "language_info": {
   "codemirror_mode": {
    "name": "ipython",
    "version": 3
   },
   "file_extension": ".py",
   "mimetype": "text/x-python",
   "name": "python",
   "nbconvert_exporter": "python",
   "pygments_lexer": "ipython3",
   "version": "3.7.6"
  },
  "toc": {
   "base_numbering": 1,
   "nav_menu": {},
   "number_sections": true,
   "sideBar": true,
   "skip_h1_title": false,
   "title_cell": "Table of Contents",
   "title_sidebar": "Contents",
   "toc_cell": false,
   "toc_position": {},
   "toc_section_display": true,
   "toc_window_display": false
  }
 },
 "nbformat": 4,
 "nbformat_minor": 1
}
