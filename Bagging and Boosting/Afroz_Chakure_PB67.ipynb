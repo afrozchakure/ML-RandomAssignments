{
 "metadata": {
  "language_info": {
   "codemirror_mode": {
    "name": "ipython",
    "version": 3
   },
   "file_extension": ".py",
   "mimetype": "text/x-python",
   "name": "python",
   "nbconvert_exporter": "python",
   "pygments_lexer": "ipython3",
   "version": "3.6.9-final"
  },
  "orig_nbformat": 2,
  "kernelspec": {
   "name": "python_defaultSpec_1599753562751",
   "display_name": "Python 3.6.9 64-bit"
  }
 },
 "nbformat": 4,
 "nbformat_minor": 2,
 "cells": [
  {
   "cell_type": "code",
   "execution_count": 27,
   "metadata": {},
   "outputs": [
    {
     "output_type": "execute_result",
     "data": {
      "text/plain": "1.0"
     },
     "metadata": {},
     "execution_count": 27
    }
   ],
   "source": [
    "import pandas as pd\n",
    "from sklearn import model_selection \n",
    "from sklearn.linear_model import LogisticRegression\n",
    "from sklearn.tree import DecisionTreeClassifier\n",
    "from sklearn.neighbors import KNeighborsClassifier \n",
    "from sklearn.metrics import accuracy_score \n",
    "from sklearn.metrics import cohen_kappa_score \n",
    "from sklearn.svm import SVC \n",
    "\n",
    "from sklearn.ensemble import VotingClassifier # bagging \n",
    "\n",
    "col_names = ['pregnant', 'glucose', 'bg', 'skin', 'insulin', 'bmi', 'pedigree', 'age', 'label']  # Load dataset \n",
    "pima = pd.read_csv('pima-indians-diabetes.csv')\n",
    "\n",
    "feature_cols = ['pregnant', 'insulin', 'bmi', 'age', 'glucose', 'bp', 'pedigree']\n",
    "\n",
    "X = pima.iloc[:, 0:7]  # Features \n",
    "Y = pima.iloc[:, 8]  # Target variable \n",
    "\n",
    "estimators = []\n",
    "\n",
    "model1 = KNeighborsClassifier(n_neighbors=3)\n",
    "estimators.append(('KNN', model1))\n",
    "\n",
    "model2 = DecisionTreeClassifier()\n",
    "estimators.append(('cart', model2))\n",
    "\n",
    "model3 = SVC() \n",
    "estimators.append(('svm', model3))\n",
    "\n",
    "ensemble = VotingClassifier(estimators)  # Bagging ensemble \n",
    "\n",
    "eclf1 = ensemble.fit(X, Y)\n",
    "\n",
    "y1 = eclf1.predict(X)\n",
    "\n",
    "accuracy_score(Y, y1)"
   ]
  },
  {
   "cell_type": "markdown",
   "metadata": {},
   "source": [
    "## Adaboost used in Iris Dataset"
   ]
  },
  {
   "cell_type": "code",
   "execution_count": 28,
   "metadata": {},
   "outputs": [],
   "source": [
    "# Load Libraries \n",
    "from sklearn.ensemble import AdaBoostClassifier \n",
    "from sklearn import datasets \n",
    "# Import train_test_slit function \n",
    "from sklearn.model_selection import train_test_split\n",
    "# Import scikit-learn metrics module fro accuracy calculations \n",
    "from sklearn import metrics "
   ]
  },
  {
   "cell_type": "code",
   "execution_count": 29,
   "metadata": {},
   "outputs": [],
   "source": [
    "# Load data \n",
    "iris = datasets.load_iris() \n",
    "x = iris.data  # Feature \n",
    "y = iris.target # Class labels "
   ]
  },
  {
   "cell_type": "code",
   "execution_count": 30,
   "metadata": {},
   "outputs": [],
   "source": [
    "# # Split dataset into training set and test set \n",
    "# X_train, y_train, X_test, y_test = train_test_split(X, y, test_size = 0.3, random_state = 0)"
   ]
  },
  {
   "cell_type": "code",
   "execution_count": 31,
   "metadata": {},
   "outputs": [],
   "source": [
    "# Create adaBoost classifier object \n",
    "abc = AdaBoostClassifier(n_estimators = 50)\n",
    "# Trian Adaboost Classifier \n",
    "model = abc.fit(x, y)\n",
    "\n",
    "# Predict the response for test dataset \n",
    "y_pred = model.predict(x)\n"
   ]
  },
  {
   "cell_type": "code",
   "execution_count": 32,
   "metadata": {
    "tags": []
   },
   "outputs": [
    {
     "output_type": "stream",
     "name": "stdout",
     "text": "Accuracy 0.96\n"
    }
   ],
   "source": [
    "# Model Accuracy, how often is the classifier correct ? \n",
    "print(\"Accuracy\", metrics.accuracy_score(y, y_pred))"
   ]
  },
  {
   "cell_type": "markdown",
   "metadata": {},
   "source": [
    "## Adaboost"
   ]
  },
  {
   "cell_type": "code",
   "execution_count": 33,
   "metadata": {
    "tags": []
   },
   "outputs": [
    {
     "output_type": "stream",
     "name": "stdout",
     "text": "Accuracy 0.651890482398957\n"
    }
   ],
   "source": [
    "# Load libraries \n",
    "\n",
    "from sklearn.ensemble import AdaBoostClassifier \n",
    "\n",
    "# Getting the features and labels\n",
    "col_names = ['pregnant', 'glucose', 'bg', 'skin', 'insulin', 'bmi', 'pedigree', 'age', 'label']  # Load dataset \n",
    "pima = pd.read_csv('pima-indians-diabetes.csv')\n",
    "\n",
    "feature_cols = ['pregnant', 'insulin', 'bmi', 'age', 'glucose', 'bp', 'pedigree']\n",
    "\n",
    "X = pima.iloc[:, 0:7]  # Features \n",
    "Y = pima.iloc[:, 8]  # Target variable \n",
    "\n",
    "# Import Support Vector Classifier \n",
    "from sklearn.svm import SVC \n",
    "# \n",
    "from sklearn import metrics \n",
    "svc = SVC(probability = True, kernel = 'linear')\n",
    "\n",
    "# Create adaboost classifier object \n",
    "abc = AdaBoostClassifier(n_estimators = 50, base_estimator = svc)\n",
    "\n",
    "# Take 3 different classifiers as base_estimators\n",
    "\n",
    "# Train AdaBoost Classifier \n",
    "model = abc.fit(X, Y)\n",
    "# Predict the respoinse for test dataset \n",
    "y_pred = model.predict(X)\n",
    "\n",
    "# Model Accuracy, how often is the classifier correct? \n",
    "print(\"Accuracy\", metrics.accuracy_score(Y, y_pred))\n",
    "\n"
   ]
  },
  {
   "cell_type": "code",
   "execution_count": null,
   "metadata": {},
   "outputs": [],
   "source": []
  }
 ]
}