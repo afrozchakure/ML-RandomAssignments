{
  "cells": [
    {
      "metadata": {
        "trusted": true
      },
      "cell_type": "code",
      "source": "import numpy as np\nimport pandas as pd\nimport sklearn \nfrom sklearn.neighbors import KNeighborsClassifier\n\ndataset = pd.read_csv(\"knn.csv\")\n\nx = dataset.iloc[:, :-1].values  # Features\ny = dataset.iloc[:, 2].values  # Target",
      "execution_count": 31,
      "outputs": []
    },
    {
      "metadata": {
        "trusted": true
      },
      "cell_type": "code",
      "source": "classifier = KNeighborsClassifier(n_neighbors = 3)\nclassifier.fit(x, y)  # training\n\nX_test = np.array([4, 2])\n\ny_predict = classifier.predict(x)\nprint(y_predict)\n\nfrom sklearn.metrics import confusion_matrix\n\nconfusion_matrix(y, y_predict)\n# clf.score(X_test, y_test)",
      "execution_count": 32,
      "outputs": [
        {
          "output_type": "stream",
          "text": "['N' 'N' 'N' 'P' 'P' 'N']\n",
          "name": "stdout"
        },
        {
          "output_type": "execute_result",
          "execution_count": 32,
          "data": {
            "text/plain": "array([[2, 2],\n       [2, 0]])"
          },
          "metadata": {}
        }
      ]
    },
    {
      "metadata": {
        "trusted": true
      },
      "cell_type": "code",
      "source": "# Assinning features and label variables \n# First Feature \nweather = ['Sunny', 'Sunny', 'Overcast', 'Rainy', 'Rainy', 'Rainy', 'Overcast', 'Sunny', 'Sunny', \n          'Rainy', 'Sunny', 'Overcast', 'Overcast', 'Rainy']\n# Second Feature \ntemp = ['Hot', 'Hot', 'Hot', 'Mild', 'Cool', 'Cool', 'Cool', 'Mild', 'Cool', 'Mild', 'Mild', 'Mild', 'Hot', 'Mild']\n\n# Label or target variable \nplay = ['No', 'No', 'Yes', 'Yes', 'Yes', 'No', 'Yes', 'No', 'Yes', 'Yes', 'Yes', 'Yes', 'Yes', 'No']",
      "execution_count": 33,
      "outputs": []
    },
    {
      "metadata": {
        "trusted": true
      },
      "cell_type": "code",
      "source": "# Import LabelEncoder \nfrom sklearn import preprocessing \n# Creating Label Encoder \nle = preprocessing.LabelEncoder()\n#Converting whether string labels into numbers\nweather_encoded = le.fit_transform(weather)\nprint(weather_encoded)\n# converting temp strign labels into numbers \ntemp_encoded = le.fit_transform(temp)\n# converting play string labels into numbers \nlabel = le.fit_transform(play)",
      "execution_count": 34,
      "outputs": [
        {
          "output_type": "stream",
          "text": "[2 2 0 1 1 1 0 2 2 1 2 0 0 1]\n",
          "name": "stdout"
        }
      ]
    },
    {
      "metadata": {
        "trusted": true
      },
      "cell_type": "code",
      "source": "# Combining weather and temp into single listof tuples \nfeatures = list(zip(weather_encoded, temp_encoded))",
      "execution_count": 35,
      "outputs": []
    },
    {
      "metadata": {
        "trusted": true
      },
      "cell_type": "code",
      "source": "from sklearn.neighbors import KNeighborsRegressor\nmodel = KNeighborsClassifier(n_neighbors = 3)\nmodel.fit(features, label)\npredicted = model.predict([[0, 2]])\nprint(predicted)",
      "execution_count": 46,
      "outputs": [
        {
          "output_type": "stream",
          "text": "[1]\n",
          "name": "stdout"
        }
      ]
    },
    {
      "metadata": {},
      "cell_type": "markdown",
      "source": "## For Regression"
    },
    {
      "metadata": {
        "trusted": true
      },
      "cell_type": "code",
      "source": "### for regression\nimport numpy as np\nimport pandas as pd\nimport sklearn\nfrom sklearn.neighbors import KNeighborsRegressor\ndataset = pd.read_csv('knn1.csv')\nx = dataset.iloc[:, :-1].values\nprint(x)\ny = dataset.iloc[:, 2].values\nprint(y)",
      "execution_count": 36,
      "outputs": [
        {
          "output_type": "stream",
          "text": "[[ 5.   45.  ]\n [ 5.11 26.  ]\n [ 5.6  30.  ]\n [ 5.9  34.  ]\n [ 4.8  40.  ]\n [ 5.8  36.  ]\n [ 5.3  19.  ]\n [ 5.8  28.  ]\n [ 5.5  23.  ]\n [ 5.6  32.  ]]\n[77 47 55 59 72 60 40 60 45 58]\n",
          "name": "stdout"
        }
      ]
    },
    {
      "metadata": {
        "trusted": true
      },
      "cell_type": "code",
      "source": "classifier = KNeighborsRegressor(n_neighbors = 5) # k = 5\nclassifier.fit(x, y) # training\nx_test = np.array([5.50, 26])\ny_predict = classifier.predict([x_test])  # Testing \nprint(y_predict)",
      "execution_count": 37,
      "outputs": [
        {
          "output_type": "stream",
          "text": "[53.]\n",
          "name": "stdout"
        }
      ]
    }
  ],
  "metadata": {
    "kernelspec": {
      "name": "python36",
      "display_name": "Python 3.6",
      "language": "python"
    },
    "language_info": {
      "mimetype": "text/x-python",
      "nbconvert_exporter": "python",
      "name": "python",
      "pygments_lexer": "ipython3",
      "version": "3.6.6",
      "file_extension": ".py",
      "codemirror_mode": {
        "version": 3,
        "name": "ipython"
      }
    }
  },
  "nbformat": 4,
  "nbformat_minor": 2
}