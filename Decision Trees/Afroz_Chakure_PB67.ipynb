{
 "metadata": {
  "language_info": {
   "codemirror_mode": {
    "name": "ipython",
    "version": 3
   },
   "file_extension": ".py",
   "mimetype": "text/x-python",
   "name": "python",
   "nbconvert_exporter": "python",
   "pygments_lexer": "ipython3",
   "version": "3.6.9-final"
  },
  "orig_nbformat": 2,
  "kernelspec": {
   "name": "python_defaultSpec_1598868559623",
   "display_name": "Python 3.6.9 64-bit"
  }
 },
 "nbformat": 4,
 "nbformat_minor": 2,
 "cells": [
  {
   "cell_type": "markdown",
   "metadata": {},
   "source": [
    "## Buys Computer Dataset"
   ]
  },
  {
   "cell_type": "code",
   "execution_count": 37,
   "metadata": {},
   "outputs": [],
   "source": [
    "# Binary Tree is supported in sklearn Decision Tree\n",
    "import numpy as np\n",
    "import pandas as pd\n",
    "dataset = pd.read_csv('dt.csv')"
   ]
  },
  {
   "cell_type": "code",
   "execution_count": 38,
   "metadata": {},
   "outputs": [
    {
     "output_type": "execute_result",
     "data": {
      "text/plain": "      age  income Student credit_rating buy_comp\n0     <30    high      no          fair       no\n1     <30    high      no     excellent       no\n2   30-40    high      no          fair      yes\n3     >40  medium      no          fair      yes\n4     >40     low     yes          fair      yes\n5     >40     low     yes     excellent       no\n6   30-40     low     yes     excellent      yes\n7     <30  medium      no          fair       no\n8     <30     low     yes          fair      yes\n9     >40  medium     yes          fair      yes\n10    <30  medium     yes     excellent      yes\n11  30-40  medium      no     excellent      yes\n12  30-40    high     yes          fair      yes\n13    >40  medium      no     excellent       no",
      "text/html": "<div>\n<style scoped>\n    .dataframe tbody tr th:only-of-type {\n        vertical-align: middle;\n    }\n\n    .dataframe tbody tr th {\n        vertical-align: top;\n    }\n\n    .dataframe thead th {\n        text-align: right;\n    }\n</style>\n<table border=\"1\" class=\"dataframe\">\n  <thead>\n    <tr style=\"text-align: right;\">\n      <th></th>\n      <th>age</th>\n      <th>income</th>\n      <th>Student</th>\n      <th>credit_rating</th>\n      <th>buy_comp</th>\n    </tr>\n  </thead>\n  <tbody>\n    <tr>\n      <td>0</td>\n      <td>&lt;30</td>\n      <td>high</td>\n      <td>no</td>\n      <td>fair</td>\n      <td>no</td>\n    </tr>\n    <tr>\n      <td>1</td>\n      <td>&lt;30</td>\n      <td>high</td>\n      <td>no</td>\n      <td>excellent</td>\n      <td>no</td>\n    </tr>\n    <tr>\n      <td>2</td>\n      <td>30-40</td>\n      <td>high</td>\n      <td>no</td>\n      <td>fair</td>\n      <td>yes</td>\n    </tr>\n    <tr>\n      <td>3</td>\n      <td>&gt;40</td>\n      <td>medium</td>\n      <td>no</td>\n      <td>fair</td>\n      <td>yes</td>\n    </tr>\n    <tr>\n      <td>4</td>\n      <td>&gt;40</td>\n      <td>low</td>\n      <td>yes</td>\n      <td>fair</td>\n      <td>yes</td>\n    </tr>\n    <tr>\n      <td>5</td>\n      <td>&gt;40</td>\n      <td>low</td>\n      <td>yes</td>\n      <td>excellent</td>\n      <td>no</td>\n    </tr>\n    <tr>\n      <td>6</td>\n      <td>30-40</td>\n      <td>low</td>\n      <td>yes</td>\n      <td>excellent</td>\n      <td>yes</td>\n    </tr>\n    <tr>\n      <td>7</td>\n      <td>&lt;30</td>\n      <td>medium</td>\n      <td>no</td>\n      <td>fair</td>\n      <td>no</td>\n    </tr>\n    <tr>\n      <td>8</td>\n      <td>&lt;30</td>\n      <td>low</td>\n      <td>yes</td>\n      <td>fair</td>\n      <td>yes</td>\n    </tr>\n    <tr>\n      <td>9</td>\n      <td>&gt;40</td>\n      <td>medium</td>\n      <td>yes</td>\n      <td>fair</td>\n      <td>yes</td>\n    </tr>\n    <tr>\n      <td>10</td>\n      <td>&lt;30</td>\n      <td>medium</td>\n      <td>yes</td>\n      <td>excellent</td>\n      <td>yes</td>\n    </tr>\n    <tr>\n      <td>11</td>\n      <td>30-40</td>\n      <td>medium</td>\n      <td>no</td>\n      <td>excellent</td>\n      <td>yes</td>\n    </tr>\n    <tr>\n      <td>12</td>\n      <td>30-40</td>\n      <td>high</td>\n      <td>yes</td>\n      <td>fair</td>\n      <td>yes</td>\n    </tr>\n    <tr>\n      <td>13</td>\n      <td>&gt;40</td>\n      <td>medium</td>\n      <td>no</td>\n      <td>excellent</td>\n      <td>no</td>\n    </tr>\n  </tbody>\n</table>\n</div>"
     },
     "metadata": {},
     "execution_count": 38
    }
   ],
   "source": [
    "dataset"
   ]
  },
  {
   "cell_type": "code",
   "execution_count": 39,
   "metadata": {},
   "outputs": [],
   "source": [
    "x = dataset.iloc[:, :-1]\n",
    "feature_cols = ['age', 'income', 'student', 'credit_card'] \n",
    "y = dataset.iloc[:, 4].values"
   ]
  },
  {
   "cell_type": "code",
   "execution_count": 40,
   "metadata": {},
   "outputs": [],
   "source": [
    "from sklearn.preprocessing import LabelEncoder \n",
    "\n",
    "labelencoder = LabelEncoder() \n",
    "x = x.apply(LabelEncoder().fit_transform)"
   ]
  },
  {
   "cell_type": "code",
   "execution_count": 41,
   "metadata": {},
   "outputs": [],
   "source": [
    "from sklearn.tree import DecisionTreeClassifier\n",
    "classifier = DecisionTreeClassifier(\n",
    "    criterion='entropy',\n",
    "    max_depth=5,\n",
    "    splitter='best'\n",
    ")"
   ]
  },
  {
   "cell_type": "code",
   "execution_count": 42,
   "metadata": {},
   "outputs": [
    {
     "output_type": "execute_result",
     "data": {
      "text/plain": "    age  income  Student  credit_rating\n0     1       0        0              1\n1     1       0        0              0\n2     0       0        0              1\n3     2       2        0              1\n4     2       1        1              1\n5     2       1        1              0\n6     0       1        1              0\n7     1       2        0              1\n8     1       1        1              1\n9     2       2        1              1\n10    1       2        1              0\n11    0       2        0              0\n12    0       0        1              1\n13    2       2        0              0",
      "text/html": "<div>\n<style scoped>\n    .dataframe tbody tr th:only-of-type {\n        vertical-align: middle;\n    }\n\n    .dataframe tbody tr th {\n        vertical-align: top;\n    }\n\n    .dataframe thead th {\n        text-align: right;\n    }\n</style>\n<table border=\"1\" class=\"dataframe\">\n  <thead>\n    <tr style=\"text-align: right;\">\n      <th></th>\n      <th>age</th>\n      <th>income</th>\n      <th>Student</th>\n      <th>credit_rating</th>\n    </tr>\n  </thead>\n  <tbody>\n    <tr>\n      <td>0</td>\n      <td>1</td>\n      <td>0</td>\n      <td>0</td>\n      <td>1</td>\n    </tr>\n    <tr>\n      <td>1</td>\n      <td>1</td>\n      <td>0</td>\n      <td>0</td>\n      <td>0</td>\n    </tr>\n    <tr>\n      <td>2</td>\n      <td>0</td>\n      <td>0</td>\n      <td>0</td>\n      <td>1</td>\n    </tr>\n    <tr>\n      <td>3</td>\n      <td>2</td>\n      <td>2</td>\n      <td>0</td>\n      <td>1</td>\n    </tr>\n    <tr>\n      <td>4</td>\n      <td>2</td>\n      <td>1</td>\n      <td>1</td>\n      <td>1</td>\n    </tr>\n    <tr>\n      <td>5</td>\n      <td>2</td>\n      <td>1</td>\n      <td>1</td>\n      <td>0</td>\n    </tr>\n    <tr>\n      <td>6</td>\n      <td>0</td>\n      <td>1</td>\n      <td>1</td>\n      <td>0</td>\n    </tr>\n    <tr>\n      <td>7</td>\n      <td>1</td>\n      <td>2</td>\n      <td>0</td>\n      <td>1</td>\n    </tr>\n    <tr>\n      <td>8</td>\n      <td>1</td>\n      <td>1</td>\n      <td>1</td>\n      <td>1</td>\n    </tr>\n    <tr>\n      <td>9</td>\n      <td>2</td>\n      <td>2</td>\n      <td>1</td>\n      <td>1</td>\n    </tr>\n    <tr>\n      <td>10</td>\n      <td>1</td>\n      <td>2</td>\n      <td>1</td>\n      <td>0</td>\n    </tr>\n    <tr>\n      <td>11</td>\n      <td>0</td>\n      <td>2</td>\n      <td>0</td>\n      <td>0</td>\n    </tr>\n    <tr>\n      <td>12</td>\n      <td>0</td>\n      <td>0</td>\n      <td>1</td>\n      <td>1</td>\n    </tr>\n    <tr>\n      <td>13</td>\n      <td>2</td>\n      <td>2</td>\n      <td>0</td>\n      <td>0</td>\n    </tr>\n  </tbody>\n</table>\n</div>"
     },
     "metadata": {},
     "execution_count": 42
    }
   ],
   "source": [
    "x"
   ]
  },
  {
   "cell_type": "code",
   "execution_count": 43,
   "metadata": {
    "tags": []
   },
   "outputs": [
    {
     "output_type": "stream",
     "name": "stdout",
     "text": "Prediction ['no']\n"
    }
   ],
   "source": [
    "classifier.fit(x, y)  # Training of classifier\n",
    "X_in = np.array([1,1, 0,0])\n",
    "y_pred = classifier.predict([X_in])\n",
    "print(\"Prediction\", y_pred)"
   ]
  },
  {
   "cell_type": "code",
   "execution_count": 54,
   "metadata": {},
   "outputs": [
    {
     "output_type": "execute_result",
     "data": {
      "text/plain": "True"
     },
     "metadata": {},
     "execution_count": 54
    }
   ],
   "source": [
    "from sklearn.externals.six import StringIO\n",
    "from IPython.display import Image\n",
    "from sklearn.tree import export_graphviz\n",
    "import pydotplus\n",
    "\n",
    "dot_data = StringIO()\n",
    "export_graphviz(classifier, out_file=dot_data, filled=True, rounded = True, special_characters=True, feature_names = feature_cols, class_names = [\"0\", \"1\"])\n",
    "graph = pydotplus.graph_from_dot_data(dot_data.getvalue())\n",
    "graph.write_png('tree.png')"
   ]
  },
  {
   "cell_type": "markdown",
   "metadata": {},
   "source": [
    "## Diabetes Dataset\n"
   ]
  },
  {
   "cell_type": "code",
   "execution_count": 29,
   "metadata": {},
   "outputs": [
    {
     "output_type": "execute_result",
     "data": {
      "text/plain": "   0    1   2   3    4     5      6   7  8\n0  6  148  72  35    0  33.6  0.627  50  1\n1  1   85  66  29    0  26.6  0.351  31  0\n2  8  183  64   0    0  23.3  0.672  32  1\n3  1   89  66  23   94  28.1  0.167  21  0\n4  0  137  40  35  168  43.1  2.288  33  1",
      "text/html": "<div>\n<style scoped>\n    .dataframe tbody tr th:only-of-type {\n        vertical-align: middle;\n    }\n\n    .dataframe tbody tr th {\n        vertical-align: top;\n    }\n\n    .dataframe thead th {\n        text-align: right;\n    }\n</style>\n<table border=\"1\" class=\"dataframe\">\n  <thead>\n    <tr style=\"text-align: right;\">\n      <th></th>\n      <th>0</th>\n      <th>1</th>\n      <th>2</th>\n      <th>3</th>\n      <th>4</th>\n      <th>5</th>\n      <th>6</th>\n      <th>7</th>\n      <th>8</th>\n    </tr>\n  </thead>\n  <tbody>\n    <tr>\n      <td>0</td>\n      <td>6</td>\n      <td>148</td>\n      <td>72</td>\n      <td>35</td>\n      <td>0</td>\n      <td>33.6</td>\n      <td>0.627</td>\n      <td>50</td>\n      <td>1</td>\n    </tr>\n    <tr>\n      <td>1</td>\n      <td>1</td>\n      <td>85</td>\n      <td>66</td>\n      <td>29</td>\n      <td>0</td>\n      <td>26.6</td>\n      <td>0.351</td>\n      <td>31</td>\n      <td>0</td>\n    </tr>\n    <tr>\n      <td>2</td>\n      <td>8</td>\n      <td>183</td>\n      <td>64</td>\n      <td>0</td>\n      <td>0</td>\n      <td>23.3</td>\n      <td>0.672</td>\n      <td>32</td>\n      <td>1</td>\n    </tr>\n    <tr>\n      <td>3</td>\n      <td>1</td>\n      <td>89</td>\n      <td>66</td>\n      <td>23</td>\n      <td>94</td>\n      <td>28.1</td>\n      <td>0.167</td>\n      <td>21</td>\n      <td>0</td>\n    </tr>\n    <tr>\n      <td>4</td>\n      <td>0</td>\n      <td>137</td>\n      <td>40</td>\n      <td>35</td>\n      <td>168</td>\n      <td>43.1</td>\n      <td>2.288</td>\n      <td>33</td>\n      <td>1</td>\n    </tr>\n  </tbody>\n</table>\n</div>"
     },
     "metadata": {},
     "execution_count": 29
    }
   ],
   "source": [
    "dataset = pd.read_csv('pima-indians-diabetes.csv', header=None)\n",
    "dataset.head()"
   ]
  },
  {
   "cell_type": "code",
   "execution_count": 30,
   "metadata": {},
   "outputs": [
    {
     "output_type": "execute_result",
     "data": {
      "text/plain": "      0    1   2   3    4     5      6   7\n0     6  148  72  35    0  33.6  0.627  50\n1     1   85  66  29    0  26.6  0.351  31\n2     8  183  64   0    0  23.3  0.672  32\n3     1   89  66  23   94  28.1  0.167  21\n4     0  137  40  35  168  43.1  2.288  33\n..   ..  ...  ..  ..  ...   ...    ...  ..\n763  10  101  76  48  180  32.9  0.171  63\n764   2  122  70  27    0  36.8  0.340  27\n765   5  121  72  23  112  26.2  0.245  30\n766   1  126  60   0    0  30.1  0.349  47\n767   1   93  70  31    0  30.4  0.315  23\n\n[768 rows x 8 columns]",
      "text/html": "<div>\n<style scoped>\n    .dataframe tbody tr th:only-of-type {\n        vertical-align: middle;\n    }\n\n    .dataframe tbody tr th {\n        vertical-align: top;\n    }\n\n    .dataframe thead th {\n        text-align: right;\n    }\n</style>\n<table border=\"1\" class=\"dataframe\">\n  <thead>\n    <tr style=\"text-align: right;\">\n      <th></th>\n      <th>0</th>\n      <th>1</th>\n      <th>2</th>\n      <th>3</th>\n      <th>4</th>\n      <th>5</th>\n      <th>6</th>\n      <th>7</th>\n    </tr>\n  </thead>\n  <tbody>\n    <tr>\n      <td>0</td>\n      <td>6</td>\n      <td>148</td>\n      <td>72</td>\n      <td>35</td>\n      <td>0</td>\n      <td>33.6</td>\n      <td>0.627</td>\n      <td>50</td>\n    </tr>\n    <tr>\n      <td>1</td>\n      <td>1</td>\n      <td>85</td>\n      <td>66</td>\n      <td>29</td>\n      <td>0</td>\n      <td>26.6</td>\n      <td>0.351</td>\n      <td>31</td>\n    </tr>\n    <tr>\n      <td>2</td>\n      <td>8</td>\n      <td>183</td>\n      <td>64</td>\n      <td>0</td>\n      <td>0</td>\n      <td>23.3</td>\n      <td>0.672</td>\n      <td>32</td>\n    </tr>\n    <tr>\n      <td>3</td>\n      <td>1</td>\n      <td>89</td>\n      <td>66</td>\n      <td>23</td>\n      <td>94</td>\n      <td>28.1</td>\n      <td>0.167</td>\n      <td>21</td>\n    </tr>\n    <tr>\n      <td>4</td>\n      <td>0</td>\n      <td>137</td>\n      <td>40</td>\n      <td>35</td>\n      <td>168</td>\n      <td>43.1</td>\n      <td>2.288</td>\n      <td>33</td>\n    </tr>\n    <tr>\n      <td>...</td>\n      <td>...</td>\n      <td>...</td>\n      <td>...</td>\n      <td>...</td>\n      <td>...</td>\n      <td>...</td>\n      <td>...</td>\n      <td>...</td>\n    </tr>\n    <tr>\n      <td>763</td>\n      <td>10</td>\n      <td>101</td>\n      <td>76</td>\n      <td>48</td>\n      <td>180</td>\n      <td>32.9</td>\n      <td>0.171</td>\n      <td>63</td>\n    </tr>\n    <tr>\n      <td>764</td>\n      <td>2</td>\n      <td>122</td>\n      <td>70</td>\n      <td>27</td>\n      <td>0</td>\n      <td>36.8</td>\n      <td>0.340</td>\n      <td>27</td>\n    </tr>\n    <tr>\n      <td>765</td>\n      <td>5</td>\n      <td>121</td>\n      <td>72</td>\n      <td>23</td>\n      <td>112</td>\n      <td>26.2</td>\n      <td>0.245</td>\n      <td>30</td>\n    </tr>\n    <tr>\n      <td>766</td>\n      <td>1</td>\n      <td>126</td>\n      <td>60</td>\n      <td>0</td>\n      <td>0</td>\n      <td>30.1</td>\n      <td>0.349</td>\n      <td>47</td>\n    </tr>\n    <tr>\n      <td>767</td>\n      <td>1</td>\n      <td>93</td>\n      <td>70</td>\n      <td>31</td>\n      <td>0</td>\n      <td>30.4</td>\n      <td>0.315</td>\n      <td>23</td>\n    </tr>\n  </tbody>\n</table>\n<p>768 rows × 8 columns</p>\n</div>"
     },
     "metadata": {},
     "execution_count": 30
    }
   ],
   "source": [
    "X = dataset.iloc[:, :-1]  # Features\n",
    "# feature_col = ['age', 'income', 'student','credit_rating']\n",
    "Y = dataset.iloc[:, 8]\n",
    "# from sklearn.preprocessing import LabelEncoder \n",
    "# labelencoder_X = LabelEncoder()\n",
    "\n",
    "# X = X.apply(LabelEncoder().fit_transform)\n",
    "\n",
    "from sklearn.tree import DecisionTreeClassifier \n",
    "regressor = DecisionTreeClassifier(criterion='entropy', max_depth=5, splitter='best')\n",
    "X"
   ]
  },
  {
   "cell_type": "code",
   "execution_count": 32,
   "metadata": {},
   "outputs": [
    {
     "output_type": "execute_result",
     "data": {
      "text/plain": "DecisionTreeClassifier(class_weight=None, criterion='entropy', max_depth=5,\n            max_features=None, max_leaf_nodes=None,\n            min_impurity_decrease=0.0, min_impurity_split=None,\n            min_samples_leaf=1, min_samples_split=2,\n            min_weight_fraction_leaf=0.0, presort=False, random_state=None,\n            splitter='best')"
     },
     "metadata": {},
     "execution_count": 32
    }
   ],
   "source": [
    "regressor.fit(X, Y)"
   ]
  },
  {
   "cell_type": "code",
   "execution_count": 33,
   "metadata": {},
   "outputs": [
    {
     "output_type": "execute_result",
     "data": {
      "text/plain": "True"
     },
     "metadata": {},
     "execution_count": 33
    }
   ],
   "source": [
    "from sklearn.externals.six import StringIO\n",
    "from IPython.display import Image \n",
    "from sklearn.tree import export_graphviz \n",
    "import pydotplus\n",
    "\n",
    "dot_data = StringIO() \n",
    "\n",
    "export_graphviz(regressor, out_file=dot_data, filled=True, rounded=True, special_characters=True, class_names = ['0', '1'])\n",
    "graph = pydotplus.graph_from_dot_data(dot_data.getvalue())\n",
    "graph.write_png('tree1.png')"
   ]
  },
  {
   "cell_type": "markdown",
   "metadata": {},
   "source": [
    "## Linear Data "
   ]
  },
  {
   "cell_type": "code",
   "execution_count": 2,
   "metadata": {},
   "outputs": [],
   "source": [
    "# Decision tree for regression \n",
    "import numpy as np\n",
    "import pandas as pd \n",
    "from sklearn.tree import DecisionTreeRegressor \n",
    "from sklearn.model_selection import train_test_split \n",
    "from sklearn.metrics import r2_score, mean_squared_error \n"
   ]
  },
  {
   "cell_type": "code",
   "execution_count": 7,
   "metadata": {},
   "outputs": [],
   "source": [
    "import pandas as pandas\n",
    "import matplotlib.pyplot as plt \n",
    "data = pd.read_csv(\"linear_data.csv\")"
   ]
  },
  {
   "cell_type": "code",
   "execution_count": 8,
   "metadata": {},
   "outputs": [],
   "source": [
    "x = data.iloc[:, :-1].values  # Features\n",
    "y = data.iloc[:, -1].values   # Labels"
   ]
  },
  {
   "cell_type": "code",
   "execution_count": 11,
   "metadata": {},
   "outputs": [],
   "source": [
    "# Splitting the data into train and test data\n",
    "x_train, x_test, y_train, y_test = train_test_split(x, y, test_size = 0.5, random_state = 0)"
   ]
  },
  {
   "cell_type": "code",
   "execution_count": 12,
   "metadata": {},
   "outputs": [],
   "source": [
    "# Decision Tree Regressor\n",
    "drm = DecisionTreeRegressor()"
   ]
  },
  {
   "cell_type": "code",
   "execution_count": 13,
   "metadata": {},
   "outputs": [
    {
     "output_type": "execute_result",
     "data": {
      "text/plain": "DecisionTreeRegressor(criterion='mse', max_depth=None, max_features=None,\n           max_leaf_nodes=None, min_impurity_decrease=0.0,\n           min_impurity_split=None, min_samples_leaf=1,\n           min_samples_split=2, min_weight_fraction_leaf=0.0,\n           presort=False, random_state=None, splitter='best')"
     },
     "metadata": {},
     "execution_count": 13
    }
   ],
   "source": [
    "drm.fit(x, y)"
   ]
  },
  {
   "cell_type": "code",
   "execution_count": 18,
   "metadata": {
    "tags": []
   },
   "outputs": [
    {
     "output_type": "stream",
     "name": "stdout",
     "text": "[70.  80.  10.  50.  70.  95.5 38.  95.5]\n"
    }
   ],
   "source": [
    "y_pred = drm.predict(x)\n",
    "print(y_pred)"
   ]
  },
  {
   "cell_type": "code",
   "execution_count": 21,
   "metadata": {
    "tags": []
   },
   "outputs": [
    {
     "output_type": "stream",
     "name": "stdout",
     "text": "157.8125\n"
    }
   ],
   "source": [
    "# Mean Squared Error\n",
    "mse = mean_squared_error(y, y_pred)\n",
    "print(mse)"
   ]
  },
  {
   "cell_type": "code",
   "execution_count": 22,
   "metadata": {
    "tags": []
   },
   "outputs": [
    {
     "output_type": "stream",
     "name": "stdout",
     "text": "12.562344526401112\n"
    }
   ],
   "source": [
    "# Root Mean squared Error\n",
    "rmse = np.sqrt(mse)\n",
    "print(rmse)"
   ]
  }
 ]
}